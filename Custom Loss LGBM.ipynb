{
 "cells": [
  {
   "cell_type": "code",
   "execution_count": 2,
   "metadata": {},
   "outputs": [],
   "source": [
    "import numpy as np\n",
    "import pandas as pd\n",
    "import lightgbm as lgb\n",
    "from datetime import datetime\n",
    "from datetime import timedelta\n",
    "import random\n",
    "from importlib import reload\n",
    "from IPython.display import Audio\n",
    "import m5forecasting as m5\n",
    "import matplotlib.pyplot as plt\n",
    "sound_file = './sound/radio.wav'\n",
    "from collections import Counter"
   ]
  },
  {
   "cell_type": "code",
   "execution_count": 3,
   "metadata": {},
   "outputs": [],
   "source": [
    "df = m5.df\n",
    "all_data = m5.all_data"
   ]
  },
  {
   "cell_type": "code",
   "execution_count": 299,
   "metadata": {},
   "outputs": [],
   "source": [
    "events = [event[0] for event in list(Counter(m5.calendar[\"event_name_1\"]).items())]\n",
    "event_dict = {}\n",
    "for idx, event in enumerate(events):\n",
    "    event_dict[event] = idx\n",
    "\n",
    "eventTypes = [eventType[0] for eventType in list(Counter(m5.calendar[\"event_type_1\"]).items())]\n",
    "event_type_dict = {}\n",
    "for idx, eventType in enumerate(eventTypes):\n",
    "    event_type_dict[eventType] = idx\n",
    "\n",
    "def getEvent(day):\n",
    "    row = m5.calendar.iloc[day - 1]\n",
    "    event_name = event_dict[row[\"event_name_1\"]]\n",
    "    event_type = event_type_dict[row[\"event_type_1\"]]\n",
    "    return np.array([event_name, event_type])"
   ]
  },
  {
   "cell_type": "code",
   "execution_count": 294,
   "metadata": {},
   "outputs": [
    {
     "name": "stdout",
     "output_type": "stream",
     "text": [
      "CPU times: user 9.38 s, sys: 30.3 ms, total: 9.41 s\n",
      "Wall time: 9.43 s\n"
     ]
    }
   ],
   "source": [
    "%%time\n",
    "for i in range(1913 * 10):\n",
    "    temp = m5.calendar[m5.calendar.d == \"d_\" + str((i + 1) % 1913)]"
   ]
  },
  {
   "cell_type": "code",
   "execution_count": 295,
   "metadata": {},
   "outputs": [
    {
     "name": "stdout",
     "output_type": "stream",
     "text": [
      "CPU times: user 2.27 s, sys: 6.6 ms, total: 2.27 s\n",
      "Wall time: 2.28 s\n"
     ]
    }
   ],
   "source": [
    "%%time\n",
    "for i in range(1913 * 10):\n",
    "    temp = m5.calendar.iloc[i % 1913]"
   ]
  },
  {
   "cell_type": "markdown",
   "metadata": {},
   "source": [
    "## Feature Generation"
   ]
  },
  {
   "cell_type": "code",
   "execution_count": 4,
   "metadata": {},
   "outputs": [],
   "source": [
    "def getYearMonthDay(day):\n",
    "    temp = datetime(2011,1,28) + timedelta(days=day)\n",
    "    return [temp.year, temp.month, temp.day]\n",
    "\n",
    "def getDay(day):\n",
    "    temp = day % 7\n",
    "    return [temp, int(temp > 0 and temp < 3)]\n",
    "\n",
    "def getSnapValue(day, state_index):\n",
    "    return int(m5.calendar.iloc[day - 1, 11 + state_index])\n",
    "\n",
    "events = [event[0] for event in list(Counter(m5.calendar[\"event_name_1\"]).items())]\n",
    "event_dict = {}\n",
    "for idx, event in enumerate(events):\n",
    "    event_dict[event] = idx\n",
    "\n",
    "eventTypes = [eventType[0] for eventType in list(Counter(m5.calendar[\"event_type_1\"]).items())]\n",
    "event_type_dict = {}\n",
    "for idx, eventType in enumerate(eventTypes):\n",
    "    event_type_dict[eventType] = idx\n",
    "\n",
    "def getEvent(day):\n",
    "    row = m5.calendar.iloc[day - 1]\n",
    "    event_name = event_dict[row[\"event_name_1\"]]\n",
    "    event_type = event_type_dict[row[\"event_type_1\"]]\n",
    "    return np.array([event_name, event_type])\n",
    "\n",
    "# item number, item department, item category, store, state\n",
    "departmentInt = {}\n",
    "current_id = \"HOBBIES_1\"\n",
    "count = 0\n",
    "for i in range(3049):\n",
    "    if df.iloc[i][\"dept_id\"] != current_id or i == 3048:\n",
    "        departmentInt[current_id] = count\n",
    "        count += 1\n",
    "        current_id = df.iloc[i][\"dept_id\"]\n",
    "\n",
    "categoryInt = {}\n",
    "current_id = \"HOBBIES\"\n",
    "count = 0\n",
    "for i in range(3049):\n",
    "    if df.iloc[i][\"cat_id\"] != current_id or i == 3048:\n",
    "        categoryInt[current_id] = count\n",
    "        count += 1\n",
    "        current_id = df.iloc[i][\"cat_id\"]\n",
    "\n",
    "storeInt = {}\n",
    "current_id = \"CA_1\"\n",
    "count = 0\n",
    "for i in range(0,30490,3049):\n",
    "    if df.iloc[i][\"store_id\"] != current_id:\n",
    "        storeInt[current_id] = count\n",
    "        count += 1\n",
    "        current_id = df.iloc[i][\"store_id\"]\n",
    "        storeInt[current_id] = count\n",
    "\n",
    "stateInt = {}\n",
    "current_id = \"CA\"\n",
    "count = 0\n",
    "for i in range(0,30490,3049):\n",
    "    if df.iloc[i][\"state_id\"] != current_id:\n",
    "        stateInt[current_id] = count\n",
    "        count += 1\n",
    "        current_id = df.iloc[i][\"state_id\"]\n",
    "        stateInt[current_id] = count\n",
    "\n",
    "def generateTrainingData(start_day, end_day, lags, rolling, all_data, withLabels = True, verbose=False):\n",
    "    num_days = end_day - start_day + 1\n",
    "    num_series = 30490\n",
    "    total_entries = num_days * num_series\n",
    "    training_data = np.zeros((total_entries, len(lags)))\n",
    "    categoricalfeatures = [0] * len(lags)\n",
    "    if withLabels:\n",
    "        training_labels = np.zeros(total_entries)\n",
    "    \n",
    "    # lag features\n",
    "    count = 0\n",
    "    for time_series_idx in range(30490):\n",
    "        for i in range(end_day - num_days,end_day):\n",
    "            training_data[count] = all_data[time_series_idx, [i - lag for lag in lags]]\n",
    "            if withLabels:\n",
    "                training_labels[count] = all_data[time_series_idx, i]\n",
    "            count += 1\n",
    "    \n",
    "    if verbose:\n",
    "        print(\"Finished lag features\")\n",
    "    \n",
    "    # rolling lag features\n",
    "    count = 0\n",
    "    categoricalfeatures.extend([0] * len(rolling))\n",
    "    temp_training = np.zeros((total_entries, len(rolling)))\n",
    "    for time_series_idx in range(30490):\n",
    "        for i in range(end_day - num_days,end_day):\n",
    "            temp_training[count] = [all_data[time_series_idx, [i - lag for lag in rolling_lags]].sum() / len(rolling_lags) for rolling_lags in rolling]\n",
    "            count += 1\n",
    "    training_data = np.concatenate((training_data, temp_training), axis=1)\n",
    "    \n",
    "    if verbose:\n",
    "        print(\"Finished rolling lag features\")\n",
    "    \n",
    "    # item features - item number, department, category, store, state\n",
    "    temp_training = np.zeros((total_entries, 5))\n",
    "    categoricalfeatures.extend([1] * 5)\n",
    "    for i in range(0, total_entries, num_days):\n",
    "        item_number = i // num_days % 3049\n",
    "        temp_training[i:i + num_days, 0] = item_number\n",
    "        temp_training[i:i + num_days, 1] = departmentInt[df[\"dept_id\"].iloc[item_number]]\n",
    "        temp_training[i:i + num_days, 2] = categoryInt[df[\"cat_id\"].iloc[item_number]]\n",
    "        temp_training[i:i + num_days, 3] = storeInt[df[\"store_id\"].iloc[i // num_days]]\n",
    "        temp_training[i:i + num_days, 4] = stateInt[df[\"state_id\"].iloc[i // num_days]]\n",
    "    training_data = np.concatenate((training_data, temp_training), axis=1)\n",
    "    \n",
    "    if verbose:\n",
    "        print(\"Finished item features\")\n",
    "    \n",
    "    # snap feature\n",
    "    temp_training = np.zeros((total_entries, 1))\n",
    "    categoricalfeatures.append(1)\n",
    "    for idx, day in enumerate(range(start_day, end_day + 1)):\n",
    "        temp_training[range(idx, idx + 3049 * 4 * num_days, num_days), 0] = getSnapValue(day, 0)\n",
    "        temp_training[range(idx + 3049 * 4 * num_days, idx + 3049 * 7 * num_days, num_days), 0] = getSnapValue(day, 1)\n",
    "        temp_training[range(idx + 3049 * 7 * num_days, idx + 3049 * 10 * num_days, num_days), 0] = getSnapValue(day, 2)\n",
    "    training_data = np.concatenate((training_data, temp_training), axis=1)\n",
    "    \n",
    "    # month, day, year\n",
    "    temp_training = np.zeros((total_entries, 3))\n",
    "    categoricalfeatures.extend([1] * 3)\n",
    "    for i in range(total_entries):\n",
    "        temp_training[i] = getYearMonthDay(i % num_days + (end_day + 1 - num_days))\n",
    "    training_data = np.concatenate((training_data, temp_training), axis=1)\n",
    "    \n",
    "    if verbose:\n",
    "        print(\"Finished date features\")\n",
    "    \n",
    "    # special events\n",
    "    temp_training = np.zeros((total_entries, 2))\n",
    "    categoricalfeatures.extend([1] * 2)\n",
    "    for idx, day in enumerate(range(start_day, end_day + 1)):\n",
    "        temp_training[range(idx, total_entries, num_days)] = getEvent(day)\n",
    "    training_data = np.concatenate((training_data, temp_training), axis=1)\n",
    "    \n",
    "    # day of week and is weekend\n",
    "    temp_training = np.zeros((total_entries, 2))\n",
    "    categoricalfeatures.extend([1] * 2)\n",
    "    for i in range(total_entries):\n",
    "        temp_training[i] = getDay(i % num_days + (end_day + 1 - num_days))\n",
    "    training_data = np.concatenate((training_data, temp_training), axis=1)\n",
    "    \n",
    "    if verbose:\n",
    "        print(\"Finished day features\")\n",
    "    \n",
    "    if withLabels:\n",
    "        return training_data, training_labels, [idx for idx, val in enumerate(categoricalfeatures) if val == 1]\n",
    "    else:\n",
    "        return training_data"
   ]
  },
  {
   "cell_type": "code",
   "execution_count": 367,
   "metadata": {},
   "outputs": [],
   "source": [
    "dept_idxs = []\n",
    "current_dep = \"\"\n",
    "for i in range(3049):\n",
    "    if df.iloc[i][\"dept_id\"] != current_dep:\n",
    "        current_dep = df.iloc[i][\"dept_id\"]\n",
    "        dept_idxs.append(i)"
   ]
  },
  {
   "cell_type": "code",
   "execution_count": 372,
   "metadata": {},
   "outputs": [
    {
     "data": {
      "text/plain": [
       "[0, 416, 565, 1097, 1612, 1828, 2226]"
      ]
     },
     "execution_count": 372,
     "metadata": {},
     "output_type": "execute_result"
    }
   ],
   "source": [
    "dept_idxs"
   ]
  },
  {
   "cell_type": "markdown",
   "metadata": {},
   "source": [
    "## Model Training / Testing"
   ]
  },
  {
   "cell_type": "code",
   "execution_count": 627,
   "metadata": {},
   "outputs": [],
   "source": [
    "def custom_asymmetric_train(y_pred, y_true):\n",
    "    # y_true = y_true.get_label()\n",
    "    residual = (y_true - y_pred).astype(\"float\")\n",
    "    grad = np.where(residual < 0, -2.0 * residual, -2 * residual * 1.15)\n",
    "    hess = np.where(residual < 0, 2.0, 2.0 * 1.15)\n",
    "    return grad, hess\n",
    "\n",
    "def custom_asymmetric_valid(y_pred, y_true):\n",
    "    residual = (y_true - y_pred).astype(\"float\")\n",
    "    loss = np.where(residual < 0, (residual**2)*10.0, residual**2) \n",
    "    return \"custom_asymmetric_eval\", np.mean(loss), False"
   ]
  },
  {
   "cell_type": "code",
   "execution_count": 608,
   "metadata": {},
   "outputs": [
    {
     "data": {
      "text/plain": [
       "array([0, 1, 4, 9])"
      ]
     },
     "execution_count": 608,
     "metadata": {},
     "output_type": "execute_result"
    }
   ],
   "source": [
    "np.power(np.arange(4), 2)"
   ]
  },
  {
   "cell_type": "code",
   "execution_count": 5,
   "metadata": {},
   "outputs": [],
   "source": [
    "def Level_12_WRMSSE(y_pred, y_true):\n",
    "    y_true = y_true.get_label()\n",
    "    diff = (y_true - y_pred).astype(\"float\")\n",
    "    diff_squared = (diff * diff).reshape((30490, 28))\n",
    "    return \"Lev 12\", np.sum(np.sqrt(np.sum(diff_squared, axis = 1)) * m5.weights[12] / 12.0), False\n",
    "\n",
    "def Level_1_WRMSSE(y_pred, y_true):\n",
    "    y_true = y_true.get_label()\n",
    "    diff = (y_true - y_pred).astype(\"float\").reshape((30490, 28))\n",
    "    diff_squared = np.square(m5.transformer[1](diff))\n",
    "    return \"Lev 1\", np.sum(np.sqrt(np.sum(diff_squared, axis = 1)) * m5.weights[1] / 12.0), False"
   ]
  },
  {
   "cell_type": "code",
   "execution_count": 391,
   "metadata": {},
   "outputs": [],
   "source": [
    "def Level_1_12_WRMSSE(y_pred, y_true):\n",
    "    response1 = Level_1_WRMSSE(y_pred, y_true)\n",
    "    response12 = Level_12_WRMSSE(y_pred, y_true)\n",
    "    return \"Lev 1: {} Lev 12:\".format(response1[1]), response12[1], False"
   ]
  },
  {
   "cell_type": "markdown",
   "metadata": {},
   "source": [
    "## Ignore Above"
   ]
  },
  {
   "cell_type": "code",
   "execution_count": 5,
   "metadata": {},
   "outputs": [],
   "source": [
    "def byLevelWRMSSE(y_pred, y_true, level):\n",
    "    y_true = y_true.get_label()\n",
    "    diff = (y_true - y_pred).astype(\"float\").reshape((30490, 28))\n",
    "    if level > 0:    \n",
    "        diff_squared = np.square(m5.transformer[level](diff))\n",
    "        return \"Lev {}\".format(level), np.sum(np.sqrt(np.sum(diff_squared, axis = 1)) * m5.weights[level] / 12.0), False\n",
    "    else:\n",
    "        total_loss = 0.0\n",
    "        for i in range(1,13):\n",
    "            diff_squared = np.square(m5.transformer[i](diff))\n",
    "            total_loss += np.sum(np.sqrt(np.sum(diff_squared, axis = 1)) * m5.weights[i] / 12.0)\n",
    "        return \"WRMSSE\", total_loss, False"
   ]
  },
  {
   "cell_type": "code",
   "execution_count": 6,
   "metadata": {},
   "outputs": [],
   "source": [
    "def getFudged(y_pred, y_true):\n",
    "    y_true = y_true.get_label()\n",
    "    residual = (y_true - y_pred).astype(\"float\")\n",
    "    full_store_range = range((3049 * 8 + 2226) * 28, 3049 * 9 * 28)\n",
    "    return \"Fudged\", np.sqrt(np.sum(np.square(residual[full_store_range].reshape((3049 - 2226, 28)).sum(axis = 0)))), True\n",
    "\n",
    "def getNormal(y_pred, y_true):\n",
    "    y_true = y_true.get_label()\n",
    "    residual = (y_true - y_pred).astype(\"float\")\n",
    "    fudger = 3049 * 8 + 2297\n",
    "    residual[fudger * 28:(fudger + 1) * 28] = 0\n",
    "    full_store_range = range((3049 * 8 + 2226) * 28, 3049 * 9 * 28)\n",
    "    return \"Normal\", np.sqrt(np.sum(np.square(residual[full_store_range].reshape((3049 - 2226, 28)).sum(axis = 0)))), True"
   ]
  },
  {
   "cell_type": "code",
   "execution_count": 7,
   "metadata": {},
   "outputs": [],
   "source": [
    "minWeight = min([i for i in m5.weights[12] if i != 0])\n",
    "maximum = m5.weights[12].max()\n",
    "def level12Weighted(y_pred, y_true):\n",
    "    y_true = y_true.get_label()\n",
    "    num_days = int(len(y_pred) / 30490)\n",
    "    residual = (y_true - y_pred).astype(\"float\")\n",
    "    for i in range(30490): \n",
    "        residual[i * num_days:(i+1) * num_days] = max(minWeight, m5.weights[12][i]) / maximum * residual[i * num_days:(i+1) * num_days]\n",
    "    grad = -5.0 * residual\n",
    "    hess = 5.0 * np.ones(residual.shape)\n",
    "    return grad, hess"
   ]
  },
  {
   "cell_type": "code",
   "execution_count": 8,
   "metadata": {},
   "outputs": [],
   "source": [
    "minWeight = min([i for i in m5.weights[12] if i != 0])\n",
    "maximum = m5.weights[12].max()\n",
    "def level12WeightedFudged(y_pred, y_true):\n",
    "    y_true = y_true.get_label()\n",
    "    num_days = int(len(y_pred) / 30490)\n",
    "    residual = (y_true - y_pred).astype(\"float\")\n",
    "    for i in range(30490): \n",
    "        residual[i * num_days:(i+1) * num_days] = max(minWeight, m5.weights[12][i]) / maximum * residual[i * num_days:(i+1) * num_days]\n",
    "    for store in range(10):\n",
    "        fudger = 3049 * store + 2297\n",
    "        full_store_range = range((3049 * store + 2226) * num_days, 3049 * (store + 1) * num_days)\n",
    "        summed_residuals = (y_true - y_pred)[full_store_range].reshape((3049 - 2226, num_days)).sum(axis = 0)\n",
    "        residual[fudger * num_days: (fudger + 1) * num_days] = summed_residuals / 1000.0\n",
    "    grad = -5.0 * residual\n",
    "    hess = 5.0 * np.ones(residual.shape)\n",
    "    return grad, hess"
   ]
  },
  {
   "cell_type": "code",
   "execution_count": 730,
   "metadata": {},
   "outputs": [],
   "source": [
    "current_row = \"\"\n",
    "l9_idxs = []\n",
    "for idx, row in enumerate(df[\"dept_id\"].tolist()):\n",
    "    if row != current_row:\n",
    "        l9_idxs.append(idx)\n",
    "        current_row = row\n",
    "l9_idxs.append(30490)"
   ]
  },
  {
   "cell_type": "code",
   "execution_count": 522,
   "metadata": {},
   "outputs": [
    {
     "data": {
      "text/plain": [
       "71"
      ]
     },
     "execution_count": 522,
     "metadata": {},
     "output_type": "execute_result"
    }
   ],
   "source": [
    "len(l9_idxs)"
   ]
  },
  {
   "cell_type": "code",
   "execution_count": 530,
   "metadata": {},
   "outputs": [
    {
     "data": {
      "text/plain": [
       "array([1, 2, 1, 2, 1, 2, 1, 2, 1, 2])"
      ]
     },
     "execution_count": 530,
     "metadata": {},
     "output_type": "execute_result"
    }
   ],
   "source": [
    "np.tile(np.array([1,2]), 5)"
   ]
  },
  {
   "cell_type": "code",
   "execution_count": 473,
   "metadata": {},
   "outputs": [
    {
     "data": {
      "text/plain": [
       "5239767.172573334"
      ]
     },
     "execution_count": 473,
     "metadata": {},
     "output_type": "execute_result"
    }
   ],
   "source": [
    "100 / m5.weights[9][62]"
   ]
  },
  {
   "cell_type": "code",
   "execution_count": 381,
   "metadata": {},
   "outputs": [
    {
     "data": {
      "text/plain": [
       "array([2, 9, 5])"
      ]
     },
     "execution_count": 381,
     "metadata": {},
     "output_type": "execute_result"
    }
   ],
   "source": [
    "np.array([[1,2,3],[2,3,4],[-1,4,-2]]).sum(axis=0)"
   ]
  },
  {
   "cell_type": "code",
   "execution_count": 336,
   "metadata": {},
   "outputs": [],
   "source": [
    "minWeight = min([i for i in m5.weights[12] if i != 0])\n",
    "maximum = m5.weights[12].max()\n",
    "def level12WeightedAsymmetric(y_pred, y_true):\n",
    "    y_true = y_true.get_label()\n",
    "    num_days = int(len(y_pred) / 30490)\n",
    "    residual = (y_true - y_pred).astype(\"float\")\n",
    "    for i in range(30490): \n",
    "        residual[i * num_days:(i+1) * num_days] = max(minWeight, m5.weights[12][i]) / maximum * residual[i * num_days:(i+1) * num_days]\n",
    "    grad = np.where(residual < 0, -5.0 * residual, -5.0 * residual * 1.07)\n",
    "    hess = np.where(residual < 0, 5.0, 5.0 * 1.07)\n",
    "    return grad, hess"
   ]
  },
  {
   "cell_type": "code",
   "execution_count": 19,
   "metadata": {},
   "outputs": [],
   "source": [
    "def groupByDay(y_pred, y_true):\n",
    "    y_true = y_true.get_label()\n",
    "    num_days = int(len(y_pred) / 30490)\n",
    "    residual = (y_true - y_pred).astype(\"float\")\n",
    "    grad = np.zeros(y_pred.shape)\n",
    "    hess = np.zeros(y_pred.shape)\n",
    "    for i in range(num_days):\n",
    "        all_series = residual[range(i, total, num_days)]\n",
    "        grad[range(i, total, num_days)] -= all_series.sum() / (30490 * 2.0)\n",
    "    return grad, hess"
   ]
  },
  {
   "cell_type": "code",
   "execution_count": 20,
   "metadata": {},
   "outputs": [],
   "source": [
    "def combined1(y_pred, y_true):\n",
    "    l12grad, l12hess = level12Weighted(y_pred, y_true)\n",
    "    groupgrad, grouphess = groupByDay(y_pred, y_true)\n",
    "    return l12grad + groupgrad, l12hess + grouphess"
   ]
  },
  {
   "cell_type": "code",
   "execution_count": null,
   "metadata": {},
   "outputs": [],
   "source": [
    "def groupByTimeSeries():\n",
    "    # put all data from one time series under one sqrt so that it affects the gradient\n",
    "    for i in range(30490):\n",
    "        residual[i * num_days: (i+1) * num_days]"
   ]
  },
  {
   "cell_type": "markdown",
   "metadata": {},
   "source": [
    "Data\n",
    "- SNAP data\n",
    "- weather data\n",
    "- rolling averages\n",
    "- seasonal data\n",
    "- prices?\n",
    "\n",
    "Custom Loss\n",
    "- Independent gradients with RMSE and weights\n",
    "- Dependent gradients - group by time series and group by day\n",
    "- Various levels"
   ]
  },
  {
   "cell_type": "code",
   "execution_count": 24,
   "metadata": {},
   "outputs": [],
   "source": [
    "def expandWeights(weight, days):\n",
    "    new_weights = np.zeros(len(weight) * days)\n",
    "    for i in range(days):\n",
    "        new_weights[range(i, len(new_weights), days)] = weight\n",
    "    return new_weights"
   ]
  },
  {
   "cell_type": "code",
   "execution_count": 86,
   "metadata": {},
   "outputs": [],
   "source": [
    "# Saving features so they don't need to be rerun\n",
    "# %%time\n",
    "# np.save(\"features/training_data.npy\", training_data)\n",
    "# np.save(\"features/training_labels.npy\", training_data)\n",
    "# np.save(\"features/categories.npy\", categories)\n",
    "# np.save(\"features/val_data.npy\", val_data)\n",
    "# np.save(\"features/val_labels.npy\", val_labels)"
   ]
  },
  {
   "cell_type": "code",
   "execution_count": 684,
   "metadata": {},
   "outputs": [],
   "source": [
    "grad = 0\n",
    "hess = 0\n",
    "def custom_tweedie(y_pred, y_true, rho):\n",
    "    global grad, hess\n",
    "    y_true = y_true.get_label().astype(\"float\")\n",
    "    epsilon = 0.000001\n",
    "    y_pred = y_pred.astype(\"float\")\n",
    "    y_pred = np.where(y_pred < epsilon, epsilon, y_pred)\n",
    "    grad = np.power(y_pred, -0.5) / 2.0 - 0.5 * y_true / np.power(y_pred, 1.5)\n",
    "    \n",
    "    # grad = -y_true * np.power(y_pred, -rho) + np.power(y_pred, 1 - rho)\n",
    "    hess = y_true * rho * np.power(y_pred, -rho-1) + (1-rho) * np.power(y_pred, -rho)\n",
    "    # grad = 1000000000.0 * grad\n",
    "    # hess = 1000000000.0 * hess\n",
    "    return grad, hess"
   ]
  },
  {
   "cell_type": "code",
   "execution_count": 677,
   "metadata": {},
   "outputs": [],
   "source": [
    "grad = 0\n",
    "hess = 0\n",
    "def custom_tweedie2(y_pred, y_true, rho):\n",
    "    global grad, hess\n",
    "    y_true = y_true.get_label().astype(\"float\")\n",
    "    y_pred = y_pred.astype(\"float\")\n",
    "    # epsilon = 0.000001\n",
    "    # y_pred = np.where(y_pred < epsilon, epsilon, y_pred)\n",
    "    grad = -y_true * np.exp(y_pred * (1-rho)) + np.exp(y_pred * (2 - rho))\n",
    "    hess = -y_true * (1 - rho) * np.exp(y_pred * (1 - rho)) + (2 - rho) * np.exp(y_pred * (2-rho))\n",
    "    # grad = 1000000000.0 * grad\n",
    "    # hess = 1000000000.0 * hess\n",
    "    return grad, hess"
   ]
  },
  {
   "cell_type": "code",
   "execution_count": 714,
   "metadata": {},
   "outputs": [],
   "source": [
    "minWeight = min([i for i in m5.weights[12] if i != 0])\n",
    "maximum = m5.weights[12].max()\n",
    "def level12Level9(y_pred, y_true):\n",
    "    y_true = y_true.get_label()\n",
    "    num_days = int(len(y_pred) / 30490)\n",
    "    residual = (y_true - y_pred).astype(\"float\")\n",
    "    reshaped = residual.reshape((30490, num_days))\n",
    "    for i in range(30490): \n",
    "        residual[i * num_days:(i+1) * num_days] = max(minWeight, m5.weights[12][i]) / maximum * residual[i * num_days:(i+1) * num_days]\n",
    "    for start_item, end_item in zip(l9_idxs[:-1], l9_idxs[1:]):\n",
    "        summed_residuals = reshaped[start_item:end_item].sum(axis = 0)\n",
    "        residual[start_item * num_days:end_item * num_days] += np.tile(summed_residuals / 200.0, end_item - start_item)\n",
    "    grad = np.where(residual < 0, -5.0 * residual, -5.0 * 1.2 * residual)\n",
    "    hess = np.where(residual < 0, 5.0, 5.0 * 1.2) \n",
    "    return grad, hess"
   ]
  },
  {
   "cell_type": "code",
   "execution_count": null,
   "metadata": {},
   "outputs": [],
   "source": []
  },
  {
   "cell_type": "code",
   "execution_count": 98,
   "metadata": {},
   "outputs": [
    {
     "name": "stdout",
     "output_type": "stream",
     "text": [
      "CPU times: user 9 µs, sys: 1e+03 ns, total: 10 µs\n",
      "Wall time: 14.1 µs\n"
     ]
    }
   ],
   "source": [
    "%%time\n",
    "# RECURSIVE\n",
    "lags = list(range(7, 15, 7)) + list(range(15, 40, 1))\n",
    "rolling = [range(1,15), range(4,11), range(7, 14), range(28, 28 * 6, 28)]\n",
    "start_day = 1500\n",
    "end_day = 1885\n",
    "num_train_days = end_day - start_day + 1\n",
    "num_val_days = 1913 - end_day + 1\n",
    "training_data, training_labels, categories = generateTrainingData(start_day, end_day, lags, rolling, all_data, verbose=True)\n",
    "\n",
    "val_data, val_labels, _ = generateTrainingData(end_day + 1, 1913, lags, rolling, all_data, verbose=True)"
   ]
  },
  {
   "cell_type": "code",
   "execution_count": 93,
   "metadata": {},
   "outputs": [
    {
     "name": "stdout",
     "output_type": "stream",
     "text": [
      "Finished lag features\n",
      "Finished rolling lag features\n",
      "Finished item features\n",
      "Finished date features\n",
      "Finished day features\n",
      "Finished lag features\n",
      "Finished rolling lag features\n",
      "Finished item features\n",
      "Finished date features\n",
      "Finished day features\n",
      "CPU times: user 7min 1s, sys: 12 s, total: 7min 13s\n",
      "Wall time: 7min 14s\n"
     ]
    }
   ],
   "source": [
    "%%time\n",
    "# 28 DAY\n",
    "lags = list(range(28, 56, 1))\n",
    "rolling = [range(28,35), range(35,42), range(42, 49), range(28, 28 * 6, 28)]\n",
    "start_day = 1500\n",
    "end_day = 1885\n",
    "num_train_days = end_day - start_day + 1\n",
    "num_val_days = 1913 - end_day + 1\n",
    "training_data, training_labels, categories = generateTrainingData(start_day, end_day, lags, rolling, all_data, verbose=True)\n",
    "\n",
    "val_data, val_labels, _ = generateTrainingData(end_day + 1, 1913, lags, rolling, all_data, verbose=True)"
   ]
  },
  {
   "cell_type": "code",
   "execution_count": null,
   "metadata": {},
   "outputs": [],
   "source": []
  },
  {
   "cell_type": "code",
   "execution_count": 13,
   "metadata": {},
   "outputs": [],
   "source": [
    "training_dataset = lgb.Dataset(training_data, \n",
    "                               label=training_labels, \n",
    "                               free_raw_data=False)# , \n",
    "                               # weight=expandWeights(m5.weights[12], num_train_days))\n",
    "val_dataset = lgb.Dataset(val_data,\n",
    "                          label=val_labels, \n",
    "                          free_raw_data=False, \n",
    "                          reference=training_dataset)"
   ]
  },
  {
   "cell_type": "code",
   "execution_count": 103,
   "metadata": {},
   "outputs": [],
   "source": [
    "params = {\n",
    "    'boosting_type': 'gbdt',\n",
    "    'n_jobs': -1,\n",
    "    'seed': 42,\n",
    "    'bagging_fraction': 0.2,\n",
    "    'bagging_freq': 2, \n",
    "    'colsample_bytree': 0.95,\n",
    "    'colsample_bynode': 0.5,\n",
    "    'num_leaves': 1000,\n",
    "    'lambda_l1': 0.2,\n",
    "    'lambda_l2': 0.2,\n",
    "    'metric': \"None\",\n",
    "    'max_bin': 3049,\n",
    "    'first_metric_only': True,\n",
    "}\n",
    "\n",
    "def learningRate(num_round):\n",
    "    if num_round < 500:\n",
    "        return .2 - 0.02 * num_round / 100\n",
    "    return 0.08 + 0.01 * num_round / 500"
   ]
  },
  {
   "cell_type": "code",
   "execution_count": 104,
   "metadata": {},
   "outputs": [],
   "source": [
    "preds = 0\n",
    "def MSELoss(y_pred, y_true):\n",
    "    global preds\n",
    "    global num_rounds\n",
    "    num_rounds += 1\n",
    "    preds = y_pred\n",
    "    y_true = y_true.get_label()\n",
    "    num_days = int(len(y_pred) / 30490)\n",
    "    residual = (y_true - y_pred).astype(\"float\")\n",
    "    reshaped = residual.reshape((30490, num_days))\n",
    "    if num_rounds < 700:\n",
    "        return tuple(level12MSE(reshaped, num_days, weights = np.power(m5.weights[12] / m5.weights[12].max(), 0.3), p = 1.0)\n",
    "                     + level9MSE(reshaped, num_days, p = 1.0, weights = m5.weights[9]))\n",
    "    elif num_rounds < 1000:\n",
    "        return tuple(level9MSE(reshaped, num_days, p = 1.0, weights = m5.weights[9]) + \n",
    "                     level1MSE(reshaped, num_days, p = 1 / 30490.) + \n",
    "                     level12MSE(reshaped, num_days, p = 0.8, weights = np.power(m5.weights[12] / m5.weights[12].max(), 0.6)))\n",
    "    else:\n",
    "        return tuple(level12MSE(reshaped, num_days, p = 0.6, weights = np.power(m5.weights[12] / m5.weights[12].max(), 1.0)) + \n",
    "                     level10MSE(reshaped, num_days, p = 0.1, weights = m5.weights[10]) +\n",
    "                     level4MSE(reshaped, num_days, p = 1 / 14000., weights = m5.weights[4]))"
   ]
  },
  {
   "cell_type": "code",
   "execution_count": null,
   "metadata": {},
   "outputs": [
    {
     "name": "stdout",
     "output_type": "stream",
     "text": [
      "Training until validation scores don't improve for 120 rounds\n",
      "[3]\tvalid_0's WRMSSE: 4.72698\tvalid_0's Lev 1: 0.537173\tvalid_0's Lev 3: 0.467147\tvalid_0's Lev 6: 0.466381\tvalid_0's Lev 9: 0.394834\tvalid_0's Lev 12: 0.113537\tvalid_0's Normal: 11499.3\n",
      "[6]\tvalid_0's WRMSSE: 4.2297\tvalid_0's Lev 1: 0.479011\tvalid_0's Lev 3: 0.416886\tvalid_0's Lev 6: 0.416332\tvalid_0's Lev 9: 0.353016\tvalid_0's Lev 12: 0.106092\tvalid_0's Normal: 10320.3\n",
      "[9]\tvalid_0's WRMSSE: 3.79128\tvalid_0's Lev 1: 0.427576\tvalid_0's Lev 3: 0.372456\tvalid_0's Lev 6: 0.372074\tvalid_0's Lev 9: 0.316117\tvalid_0's Lev 12: 0.099868\tvalid_0's Normal: 9268.59\n",
      "[12]\tvalid_0's WRMSSE: 3.40322\tvalid_0's Lev 1: 0.38191\tvalid_0's Lev 3: 0.333065\tvalid_0's Lev 6: 0.332798\tvalid_0's Lev 9: 0.283454\tvalid_0's Lev 12: 0.0946099\tvalid_0's Normal: 8354.86\n",
      "[15]\tvalid_0's WRMSSE: 3.06052\tvalid_0's Lev 1: 0.341442\tvalid_0's Lev 3: 0.298179\tvalid_0's Lev 6: 0.298041\tvalid_0's Lev 9: 0.25461\tvalid_0's Lev 12: 0.0901952\tvalid_0's Normal: 7533.25\n",
      "[18]\tvalid_0's WRMSSE: 2.75823\tvalid_0's Lev 1: 0.305579\tvalid_0's Lev 3: 0.267312\tvalid_0's Lev 6: 0.26732\tvalid_0's Lev 9: 0.229192\tvalid_0's Lev 12: 0.0865075\tvalid_0's Normal: 6805.98\n",
      "[21]\tvalid_0's WRMSSE: 2.49092\tvalid_0's Lev 1: 0.273726\tvalid_0's Lev 3: 0.239938\tvalid_0's Lev 6: 0.24008\tvalid_0's Lev 9: 0.206731\tvalid_0's Lev 12: 0.0834407\tvalid_0's Normal: 6160.5\n",
      "[24]\tvalid_0's WRMSSE: 2.25403\tvalid_0's Lev 1: 0.24535\tvalid_0's Lev 3: 0.215583\tvalid_0's Lev 6: 0.215862\tvalid_0's Lev 9: 0.186853\tvalid_0's Lev 12: 0.080902\tvalid_0's Normal: 5582.86\n",
      "[27]\tvalid_0's WRMSSE: 2.04372\tvalid_0's Lev 1: 0.220034\tvalid_0's Lev 3: 0.193912\tvalid_0's Lev 6: 0.194301\tvalid_0's Lev 9: 0.169229\tvalid_0's Lev 12: 0.0787987\tvalid_0's Normal: 5070.77\n",
      "[30]\tvalid_0's WRMSSE: 1.85741\tvalid_0's Lev 1: 0.197479\tvalid_0's Lev 3: 0.174647\tvalid_0's Lev 6: 0.175148\tvalid_0's Lev 9: 0.153646\tvalid_0's Lev 12: 0.0770644\tvalid_0's Normal: 4620.69\n",
      "[33]\tvalid_0's WRMSSE: 1.69524\tvalid_0's Lev 1: 0.177686\tvalid_0's Lev 3: 0.157791\tvalid_0's Lev 6: 0.158422\tvalid_0's Lev 9: 0.140145\tvalid_0's Lev 12: 0.07567\tvalid_0's Normal: 4225.89\n",
      "[36]\tvalid_0's WRMSSE: 1.55262\tvalid_0's Lev 1: 0.160158\tvalid_0's Lev 3: 0.142914\tvalid_0's Lev 6: 0.143659\tvalid_0's Lev 9: 0.128336\tvalid_0's Lev 12: 0.074536\tvalid_0's Normal: 3877.38\n",
      "[39]\tvalid_0's WRMSSE: 1.42532\tvalid_0's Lev 1: 0.144414\tvalid_0's Lev 3: 0.129591\tvalid_0's Lev 6: 0.13043\tvalid_0's Lev 9: 0.117842\tvalid_0's Lev 12: 0.0736038\tvalid_0's Normal: 3564.62\n",
      "[42]\tvalid_0's WRMSSE: 1.31498\tvalid_0's Lev 1: 0.130628\tvalid_0's Lev 3: 0.118014\tvalid_0's Lev 6: 0.11893\tvalid_0's Lev 9: 0.108821\tvalid_0's Lev 12: 0.0728562\tvalid_0's Normal: 3297.39\n",
      "[45]\tvalid_0's WRMSSE: 1.21694\tvalid_0's Lev 1: 0.118267\tvalid_0's Lev 3: 0.107664\tvalid_0's Lev 6: 0.108692\tvalid_0's Lev 9: 0.100868\tvalid_0's Lev 12: 0.0722318\tvalid_0's Normal: 3054.02\n",
      "[48]\tvalid_0's WRMSSE: 1.12985\tvalid_0's Lev 1: 0.107169\tvalid_0's Lev 3: 0.0984318\tvalid_0's Lev 6: 0.0995697\tvalid_0's Lev 9: 0.0938649\tvalid_0's Lev 12: 0.0717261\tvalid_0's Normal: 2836.47\n",
      "[51]\tvalid_0's WRMSSE: 1.05403\tvalid_0's Lev 1: 0.0973726\tvalid_0's Lev 3: 0.0903821\tvalid_0's Lev 6: 0.091614\tvalid_0's Lev 9: 0.0878686\tvalid_0's Lev 12: 0.0713185\tvalid_0's Normal: 2645.33\n",
      "[54]\tvalid_0's WRMSSE: 0.987808\tvalid_0's Lev 1: 0.088719\tvalid_0's Lev 3: 0.0833243\tvalid_0's Lev 6: 0.0846421\tvalid_0's Lev 9: 0.0826786\tvalid_0's Lev 12: 0.070986\tvalid_0's Normal: 2474.83\n",
      "[57]\tvalid_0's WRMSSE: 0.928362\tvalid_0's Lev 1: 0.0808575\tvalid_0's Lev 3: 0.0770116\tvalid_0's Lev 6: 0.0783627\tvalid_0's Lev 9: 0.0780825\tvalid_0's Lev 12: 0.0707234\tvalid_0's Normal: 2335.69\n",
      "[60]\tvalid_0's WRMSSE: 0.878371\tvalid_0's Lev 1: 0.0741475\tvalid_0's Lev 3: 0.0716966\tvalid_0's Lev 6: 0.0730888\tvalid_0's Lev 9: 0.0742812\tvalid_0's Lev 12: 0.0705089\tvalid_0's Normal: 2219.04\n",
      "[63]\tvalid_0's WRMSSE: 0.834339\tvalid_0's Lev 1: 0.0681642\tvalid_0's Lev 3: 0.0669867\tvalid_0's Lev 6: 0.0684394\tvalid_0's Lev 9: 0.0709646\tvalid_0's Lev 12: 0.070327\tvalid_0's Normal: 2108.79\n",
      "[66]\tvalid_0's WRMSSE: 0.796498\tvalid_0's Lev 1: 0.062899\tvalid_0's Lev 3: 0.0629461\tvalid_0's Lev 6: 0.0644481\tvalid_0's Lev 9: 0.0681886\tvalid_0's Lev 12: 0.0701843\tvalid_0's Normal: 2009.13\n",
      "[69]\tvalid_0's WRMSSE: 0.762594\tvalid_0's Lev 1: 0.0581409\tvalid_0's Lev 3: 0.0593414\tvalid_0's Lev 6: 0.0608717\tvalid_0's Lev 9: 0.0657212\tvalid_0's Lev 12: 0.0700604\tvalid_0's Normal: 1920.47\n",
      "[72]\tvalid_0's WRMSSE: 0.732684\tvalid_0's Lev 1: 0.0538971\tvalid_0's Lev 3: 0.0561681\tvalid_0's Lev 6: 0.0577149\tvalid_0's Lev 9: 0.0635665\tvalid_0's Lev 12: 0.0699509\tvalid_0's Normal: 1831.28\n",
      "[75]\tvalid_0's WRMSSE: 0.708388\tvalid_0's Lev 1: 0.050365\tvalid_0's Lev 3: 0.0535966\tvalid_0's Lev 6: 0.0551537\tvalid_0's Lev 9: 0.0618479\tvalid_0's Lev 12: 0.069874\tvalid_0's Normal: 1764.15\n",
      "[78]\tvalid_0's WRMSSE: 0.685809\tvalid_0's Lev 1: 0.0470604\tvalid_0's Lev 3: 0.0512222\tvalid_0's Lev 6: 0.0527847\tvalid_0's Lev 9: 0.0602521\tvalid_0's Lev 12: 0.0697964\tvalid_0's Normal: 1686.9\n",
      "[81]\tvalid_0's WRMSSE: 0.666186\tvalid_0's Lev 1: 0.0441679\tvalid_0's Lev 3: 0.0491686\tvalid_0's Lev 6: 0.0507317\tvalid_0's Lev 9: 0.0588542\tvalid_0's Lev 12: 0.0697389\tvalid_0's Normal: 1622.49\n",
      "[84]\tvalid_0's WRMSSE: 0.649297\tvalid_0's Lev 1: 0.0416041\tvalid_0's Lev 3: 0.0474573\tvalid_0's Lev 6: 0.0489717\tvalid_0's Lev 9: 0.0577044\tvalid_0's Lev 12: 0.0696852\tvalid_0's Normal: 1575.81\n",
      "[87]\tvalid_0's WRMSSE: 0.634847\tvalid_0's Lev 1: 0.0394053\tvalid_0's Lev 3: 0.045999\tvalid_0's Lev 6: 0.0474652\tvalid_0's Lev 9: 0.0567074\tvalid_0's Lev 12: 0.0696405\tvalid_0's Normal: 1524.43\n",
      "[90]\tvalid_0's WRMSSE: 0.621567\tvalid_0's Lev 1: 0.0374116\tvalid_0's Lev 3: 0.0446668\tvalid_0's Lev 6: 0.0460858\tvalid_0's Lev 9: 0.0557713\tvalid_0's Lev 12: 0.0695988\tvalid_0's Normal: 1475.1\n",
      "[93]\tvalid_0's WRMSSE: 0.610241\tvalid_0's Lev 1: 0.0356999\tvalid_0's Lev 3: 0.0435578\tvalid_0's Lev 6: 0.0449081\tvalid_0's Lev 9: 0.0549707\tvalid_0's Lev 12: 0.069564\tvalid_0's Normal: 1443.2\n",
      "[96]\tvalid_0's WRMSSE: 0.601031\tvalid_0's Lev 1: 0.0342422\tvalid_0's Lev 3: 0.0426611\tvalid_0's Lev 6: 0.0439738\tvalid_0's Lev 9: 0.0543355\tvalid_0's Lev 12: 0.0695411\tvalid_0's Normal: 1405.5\n",
      "[99]\tvalid_0's WRMSSE: 0.593284\tvalid_0's Lev 1: 0.033015\tvalid_0's Lev 3: 0.0419219\tvalid_0's Lev 6: 0.0431699\tvalid_0's Lev 9: 0.0538184\tvalid_0's Lev 12: 0.0695206\tvalid_0's Normal: 1378.91\n",
      "[102]\tvalid_0's WRMSSE: 0.58673\tvalid_0's Lev 1: 0.0319886\tvalid_0's Lev 3: 0.0412785\tvalid_0's Lev 6: 0.0424995\tvalid_0's Lev 9: 0.0533715\tvalid_0's Lev 12: 0.0694884\tvalid_0's Normal: 1357.47\n",
      "[105]\tvalid_0's WRMSSE: 0.578888\tvalid_0's Lev 1: 0.0308324\tvalid_0's Lev 3: 0.0405875\tvalid_0's Lev 6: 0.0416918\tvalid_0's Lev 9: 0.0527909\tvalid_0's Lev 12: 0.0694557\tvalid_0's Normal: 1316.3\n",
      "[108]\tvalid_0's WRMSSE: 0.572165\tvalid_0's Lev 1: 0.0298172\tvalid_0's Lev 3: 0.0399894\tvalid_0's Lev 6: 0.041007\tvalid_0's Lev 9: 0.0522855\tvalid_0's Lev 12: 0.0694227\tvalid_0's Normal: 1288.94\n",
      "[111]\tvalid_0's WRMSSE: 0.566589\tvalid_0's Lev 1: 0.0289587\tvalid_0's Lev 3: 0.0394739\tvalid_0's Lev 6: 0.0404235\tvalid_0's Lev 9: 0.0518833\tvalid_0's Lev 12: 0.0694077\tvalid_0's Normal: 1260.33\n",
      "[114]\tvalid_0's WRMSSE: 0.563705\tvalid_0's Lev 1: 0.0285115\tvalid_0's Lev 3: 0.0391975\tvalid_0's Lev 6: 0.0401356\tvalid_0's Lev 9: 0.0516671\tvalid_0's Lev 12: 0.0694025\tvalid_0's Normal: 1243.35\n",
      "[117]\tvalid_0's WRMSSE: 0.561028\tvalid_0's Lev 1: 0.0281211\tvalid_0's Lev 3: 0.0389351\tvalid_0's Lev 6: 0.0398775\tvalid_0's Lev 9: 0.0514422\tvalid_0's Lev 12: 0.0693986\tvalid_0's Normal: 1220.6\n",
      "[120]\tvalid_0's WRMSSE: 0.556959\tvalid_0's Lev 1: 0.0275843\tvalid_0's Lev 3: 0.0385368\tvalid_0's Lev 6: 0.0394363\tvalid_0's Lev 9: 0.0511073\tvalid_0's Lev 12: 0.0693855\tvalid_0's Normal: 1203.63\n",
      "[123]\tvalid_0's WRMSSE: 0.552938\tvalid_0's Lev 1: 0.0270418\tvalid_0's Lev 3: 0.0381646\tvalid_0's Lev 6: 0.0389892\tvalid_0's Lev 9: 0.0507834\tvalid_0's Lev 12: 0.0693753\tvalid_0's Normal: 1186.64\n",
      "[126]\tvalid_0's WRMSSE: 0.548593\tvalid_0's Lev 1: 0.0264712\tvalid_0's Lev 3: 0.0377218\tvalid_0's Lev 6: 0.0385174\tvalid_0's Lev 9: 0.0504196\tvalid_0's Lev 12: 0.0693609\tvalid_0's Normal: 1159.63\n",
      "[129]\tvalid_0's WRMSSE: 0.547095\tvalid_0's Lev 1: 0.0262393\tvalid_0's Lev 3: 0.037581\tvalid_0's Lev 6: 0.0383696\tvalid_0's Lev 9: 0.050308\tvalid_0's Lev 12: 0.0693531\tvalid_0's Normal: 1148.04\n"
     ]
    },
    {
     "name": "stdout",
     "output_type": "stream",
     "text": [
      "[132]\tvalid_0's WRMSSE: 0.546076\tvalid_0's Lev 1: 0.026137\tvalid_0's Lev 3: 0.0374911\tvalid_0's Lev 6: 0.0382648\tvalid_0's Lev 9: 0.0502061\tvalid_0's Lev 12: 0.0693457\tvalid_0's Normal: 1135.66\n",
      "[135]\tvalid_0's WRMSSE: 0.544624\tvalid_0's Lev 1: 0.0259622\tvalid_0's Lev 3: 0.037328\tvalid_0's Lev 6: 0.0381063\tvalid_0's Lev 9: 0.0500746\tvalid_0's Lev 12: 0.0693418\tvalid_0's Normal: 1126.04\n",
      "[138]\tvalid_0's WRMSSE: 0.541801\tvalid_0's Lev 1: 0.025617\tvalid_0's Lev 3: 0.0370621\tvalid_0's Lev 6: 0.0377926\tvalid_0's Lev 9: 0.0498333\tvalid_0's Lev 12: 0.0693298\tvalid_0's Normal: 1113.69\n",
      "[141]\tvalid_0's WRMSSE: 0.540159\tvalid_0's Lev 1: 0.025406\tvalid_0's Lev 3: 0.0368902\tvalid_0's Lev 6: 0.0376179\tvalid_0's Lev 9: 0.0496959\tvalid_0's Lev 12: 0.0693204\tvalid_0's Normal: 1103.21\n",
      "[144]\tvalid_0's WRMSSE: 0.538722\tvalid_0's Lev 1: 0.0252529\tvalid_0's Lev 3: 0.0367864\tvalid_0's Lev 6: 0.0374513\tvalid_0's Lev 9: 0.049559\tvalid_0's Lev 12: 0.0693162\tvalid_0's Normal: 1089.91\n",
      "[147]\tvalid_0's WRMSSE: 0.536767\tvalid_0's Lev 1: 0.0249675\tvalid_0's Lev 3: 0.0366367\tvalid_0's Lev 6: 0.0372595\tvalid_0's Lev 9: 0.0494028\tvalid_0's Lev 12: 0.0693089\tvalid_0's Normal: 1084.46\n",
      "[150]\tvalid_0's WRMSSE: 0.53531\tvalid_0's Lev 1: 0.0247986\tvalid_0's Lev 3: 0.0364794\tvalid_0's Lev 6: 0.0371017\tvalid_0's Lev 9: 0.0492736\tvalid_0's Lev 12: 0.0693024\tvalid_0's Normal: 1071.05\n",
      "[153]\tvalid_0's WRMSSE: 0.534319\tvalid_0's Lev 1: 0.0246966\tvalid_0's Lev 3: 0.0363784\tvalid_0's Lev 6: 0.0369959\tvalid_0's Lev 9: 0.0491825\tvalid_0's Lev 12: 0.0692947\tvalid_0's Normal: 1068.66\n",
      "[156]\tvalid_0's WRMSSE: 0.53314\tvalid_0's Lev 1: 0.0245899\tvalid_0's Lev 3: 0.0362657\tvalid_0's Lev 6: 0.0368629\tvalid_0's Lev 9: 0.0490635\tvalid_0's Lev 12: 0.0692901\tvalid_0's Normal: 1065.88\n",
      "[159]\tvalid_0's WRMSSE: 0.532646\tvalid_0's Lev 1: 0.0245737\tvalid_0's Lev 3: 0.0362159\tvalid_0's Lev 6: 0.0368145\tvalid_0's Lev 9: 0.0489946\tvalid_0's Lev 12: 0.0692843\tvalid_0's Normal: 1059.9\n",
      "[162]\tvalid_0's WRMSSE: 0.531763\tvalid_0's Lev 1: 0.0244664\tvalid_0's Lev 3: 0.0361472\tvalid_0's Lev 6: 0.0367309\tvalid_0's Lev 9: 0.0489203\tvalid_0's Lev 12: 0.0692748\tvalid_0's Normal: 1057.72\n",
      "[165]\tvalid_0's WRMSSE: 0.529348\tvalid_0's Lev 1: 0.0242997\tvalid_0's Lev 3: 0.0359526\tvalid_0's Lev 6: 0.0364439\tvalid_0's Lev 9: 0.0486576\tvalid_0's Lev 12: 0.069256\tvalid_0's Normal: 1029.59\n",
      "[168]\tvalid_0's WRMSSE: 0.528692\tvalid_0's Lev 1: 0.0242937\tvalid_0's Lev 3: 0.0358966\tvalid_0's Lev 6: 0.0363525\tvalid_0's Lev 9: 0.0485669\tvalid_0's Lev 12: 0.0692573\tvalid_0's Normal: 1020.86\n",
      "[171]\tvalid_0's WRMSSE: 0.527644\tvalid_0's Lev 1: 0.0241839\tvalid_0's Lev 3: 0.0358036\tvalid_0's Lev 6: 0.0362546\tvalid_0's Lev 9: 0.0484657\tvalid_0's Lev 12: 0.0692456\tvalid_0's Normal: 1019.5\n",
      "[174]\tvalid_0's WRMSSE: 0.526538\tvalid_0's Lev 1: 0.0240513\tvalid_0's Lev 3: 0.0356826\tvalid_0's Lev 6: 0.0361358\tvalid_0's Lev 9: 0.0483679\tvalid_0's Lev 12: 0.069246\tvalid_0's Normal: 1017.13\n",
      "[177]\tvalid_0's WRMSSE: 0.52585\tvalid_0's Lev 1: 0.0239994\tvalid_0's Lev 3: 0.0356156\tvalid_0's Lev 6: 0.0360558\tvalid_0's Lev 9: 0.0482897\tvalid_0's Lev 12: 0.0692501\tvalid_0's Normal: 1014.81\n",
      "[180]\tvalid_0's WRMSSE: 0.524911\tvalid_0's Lev 1: 0.023878\tvalid_0's Lev 3: 0.0355305\tvalid_0's Lev 6: 0.0359584\tvalid_0's Lev 9: 0.0482064\tvalid_0's Lev 12: 0.0692489\tvalid_0's Normal: 1007.45\n",
      "[183]\tvalid_0's WRMSSE: 0.524517\tvalid_0's Lev 1: 0.0238472\tvalid_0's Lev 3: 0.0354906\tvalid_0's Lev 6: 0.0359181\tvalid_0's Lev 9: 0.048159\tvalid_0's Lev 12: 0.0692456\tvalid_0's Normal: 1003.44\n",
      "[186]\tvalid_0's WRMSSE: 0.523751\tvalid_0's Lev 1: 0.0237633\tvalid_0's Lev 3: 0.0354176\tvalid_0's Lev 6: 0.0358471\tvalid_0's Lev 9: 0.0480785\tvalid_0's Lev 12: 0.0692447\tvalid_0's Normal: 1001.84\n",
      "[189]\tvalid_0's WRMSSE: 0.523702\tvalid_0's Lev 1: 0.0237822\tvalid_0's Lev 3: 0.0354154\tvalid_0's Lev 6: 0.0358411\tvalid_0's Lev 9: 0.0480546\tvalid_0's Lev 12: 0.0692436\tvalid_0's Normal: 999.991\n",
      "[192]\tvalid_0's WRMSSE: 0.523003\tvalid_0's Lev 1: 0.0237089\tvalid_0's Lev 3: 0.0353319\tvalid_0's Lev 6: 0.0357739\tvalid_0's Lev 9: 0.0479794\tvalid_0's Lev 12: 0.0692404\tvalid_0's Normal: 1000.57\n",
      "[195]\tvalid_0's WRMSSE: 0.52296\tvalid_0's Lev 1: 0.0237174\tvalid_0's Lev 3: 0.0353331\tvalid_0's Lev 6: 0.0357745\tvalid_0's Lev 9: 0.0479709\tvalid_0's Lev 12: 0.0692431\tvalid_0's Normal: 998.987\n",
      "[198]\tvalid_0's WRMSSE: 0.522726\tvalid_0's Lev 1: 0.0237201\tvalid_0's Lev 3: 0.0353067\tvalid_0's Lev 6: 0.0357365\tvalid_0's Lev 9: 0.047935\tvalid_0's Lev 12: 0.0692505\tvalid_0's Normal: 1000.13\n",
      "[201]\tvalid_0's WRMSSE: 0.522222\tvalid_0's Lev 1: 0.0236681\tvalid_0's Lev 3: 0.0352338\tvalid_0's Lev 6: 0.0356932\tvalid_0's Lev 9: 0.0478746\tvalid_0's Lev 12: 0.0692509\tvalid_0's Normal: 997.775\n",
      "[204]\tvalid_0's WRMSSE: 0.522261\tvalid_0's Lev 1: 0.0236845\tvalid_0's Lev 3: 0.0352242\tvalid_0's Lev 6: 0.035704\tvalid_0's Lev 9: 0.0478687\tvalid_0's Lev 12: 0.0692472\tvalid_0's Normal: 993.828\n",
      "[207]\tvalid_0's WRMSSE: 0.521793\tvalid_0's Lev 1: 0.0236922\tvalid_0's Lev 3: 0.0351587\tvalid_0's Lev 6: 0.0356304\tvalid_0's Lev 9: 0.0477974\tvalid_0's Lev 12: 0.0692483\tvalid_0's Normal: 984.176\n",
      "[210]\tvalid_0's WRMSSE: 0.521631\tvalid_0's Lev 1: 0.0237211\tvalid_0's Lev 3: 0.0351531\tvalid_0's Lev 6: 0.0356032\tvalid_0's Lev 9: 0.0477672\tvalid_0's Lev 12: 0.0692435\tvalid_0's Normal: 980.085\n",
      "[213]\tvalid_0's WRMSSE: 0.52115\tvalid_0's Lev 1: 0.0236792\tvalid_0's Lev 3: 0.035086\tvalid_0's Lev 6: 0.0355626\tvalid_0's Lev 9: 0.0477075\tvalid_0's Lev 12: 0.069242\tvalid_0's Normal: 978.199\n",
      "[216]\tvalid_0's WRMSSE: 0.520502\tvalid_0's Lev 1: 0.0236581\tvalid_0's Lev 3: 0.0350213\tvalid_0's Lev 6: 0.0354809\tvalid_0's Lev 9: 0.0476284\tvalid_0's Lev 12: 0.0692386\tvalid_0's Normal: 970.65\n",
      "[219]\tvalid_0's WRMSSE: 0.520257\tvalid_0's Lev 1: 0.023642\tvalid_0's Lev 3: 0.0349921\tvalid_0's Lev 6: 0.0354575\tvalid_0's Lev 9: 0.0475957\tvalid_0's Lev 12: 0.0692366\tvalid_0's Normal: 970.316\n",
      "[222]\tvalid_0's WRMSSE: 0.52001\tvalid_0's Lev 1: 0.0236132\tvalid_0's Lev 3: 0.0349733\tvalid_0's Lev 6: 0.0354266\tvalid_0's Lev 9: 0.0475713\tvalid_0's Lev 12: 0.0692404\tvalid_0's Normal: 969.497\n",
      "[225]\tvalid_0's WRMSSE: 0.519128\tvalid_0's Lev 1: 0.0235493\tvalid_0's Lev 3: 0.0348945\tvalid_0's Lev 6: 0.0353116\tvalid_0's Lev 9: 0.0474849\tvalid_0's Lev 12: 0.0692348\tvalid_0's Normal: 964.158\n",
      "[228]\tvalid_0's WRMSSE: 0.517694\tvalid_0's Lev 1: 0.0233664\tvalid_0's Lev 3: 0.0347524\tvalid_0's Lev 6: 0.0351577\tvalid_0's Lev 9: 0.0473545\tvalid_0's Lev 12: 0.0692355\tvalid_0's Normal: 957.324\n",
      "[231]\tvalid_0's WRMSSE: 0.51737\tvalid_0's Lev 1: 0.0233218\tvalid_0's Lev 3: 0.0347254\tvalid_0's Lev 6: 0.0351282\tvalid_0's Lev 9: 0.0473236\tvalid_0's Lev 12: 0.0692332\tvalid_0's Normal: 955.743\n",
      "[234]\tvalid_0's WRMSSE: 0.517284\tvalid_0's Lev 1: 0.0233266\tvalid_0's Lev 3: 0.0347238\tvalid_0's Lev 6: 0.0351168\tvalid_0's Lev 9: 0.0473078\tvalid_0's Lev 12: 0.069232\tvalid_0's Normal: 956.158\n",
      "[237]\tvalid_0's WRMSSE: 0.517006\tvalid_0's Lev 1: 0.0232955\tvalid_0's Lev 3: 0.0346853\tvalid_0's Lev 6: 0.0350867\tvalid_0's Lev 9: 0.0472837\tvalid_0's Lev 12: 0.0692376\tvalid_0's Normal: 956.106\n",
      "[240]\tvalid_0's WRMSSE: 0.516677\tvalid_0's Lev 1: 0.0232613\tvalid_0's Lev 3: 0.0346653\tvalid_0's Lev 6: 0.0350576\tvalid_0's Lev 9: 0.0472519\tvalid_0's Lev 12: 0.069235\tvalid_0's Normal: 953.377\n",
      "[243]\tvalid_0's WRMSSE: 0.516399\tvalid_0's Lev 1: 0.0233111\tvalid_0's Lev 3: 0.0346339\tvalid_0's Lev 6: 0.0350085\tvalid_0's Lev 9: 0.0471804\tvalid_0's Lev 12: 0.069236\tvalid_0's Normal: 947.652\n",
      "[246]\tvalid_0's WRMSSE: 0.516148\tvalid_0's Lev 1: 0.023321\tvalid_0's Lev 3: 0.0346105\tvalid_0's Lev 6: 0.0349782\tvalid_0's Lev 9: 0.0471409\tvalid_0's Lev 12: 0.0692372\tvalid_0's Normal: 944.319\n",
      "[249]\tvalid_0's WRMSSE: 0.515792\tvalid_0's Lev 1: 0.0233032\tvalid_0's Lev 3: 0.0345696\tvalid_0's Lev 6: 0.0349314\tvalid_0's Lev 9: 0.0471044\tvalid_0's Lev 12: 0.0692342\tvalid_0's Normal: 943.603\n",
      "[252]\tvalid_0's WRMSSE: 0.51543\tvalid_0's Lev 1: 0.0232593\tvalid_0's Lev 3: 0.0345383\tvalid_0's Lev 6: 0.0348918\tvalid_0's Lev 9: 0.0470747\tvalid_0's Lev 12: 0.0692341\tvalid_0's Normal: 940.118\n",
      "[255]\tvalid_0's WRMSSE: 0.515467\tvalid_0's Lev 1: 0.0233062\tvalid_0's Lev 3: 0.0345603\tvalid_0's Lev 6: 0.034888\tvalid_0's Lev 9: 0.0470626\tvalid_0's Lev 12: 0.0692365\tvalid_0's Normal: 941.439\n",
      "[258]\tvalid_0's WRMSSE: 0.515529\tvalid_0's Lev 1: 0.0233286\tvalid_0's Lev 3: 0.0345639\tvalid_0's Lev 6: 0.0348975\tvalid_0's Lev 9: 0.0470598\tvalid_0's Lev 12: 0.0692377\tvalid_0's Normal: 939.761\n"
     ]
    },
    {
     "name": "stdout",
     "output_type": "stream",
     "text": [
      "[261]\tvalid_0's WRMSSE: 0.515143\tvalid_0's Lev 1: 0.0232759\tvalid_0's Lev 3: 0.0345188\tvalid_0's Lev 6: 0.0348455\tvalid_0's Lev 9: 0.0470309\tvalid_0's Lev 12: 0.0692384\tvalid_0's Normal: 937.778\n"
     ]
    }
   ],
   "source": [
    "%%time\n",
    "num_rounds = 0\n",
    "model = lgb.train(params, \n",
    "                  training_dataset, \n",
    "                  categorical_feature=categories, \n",
    "                  num_boost_round=500,\n",
    "                  valid_sets = [val_dataset],\n",
    "                  fobj=MSELoss,\n",
    "                  feval = lambda y_pred, y_true: [byLevelWRMSSE(y_pred, y_true, level) for level in [0, 1, 3, 6, 9, 12]] + [getNormal(y_pred, y_true)],\n",
    "                  early_stopping_rounds=120,\n",
    "                  verbose_eval=3,\n",
    "                  valid_names=None,\n",
    "                  learning_rates=learningRate\n",
    "                 )"
   ]
  },
  {
   "cell_type": "code",
   "execution_count": 70,
   "metadata": {},
   "outputs": [],
   "source": [
    "current_row = \"\"\n",
    "l9_idxs = []\n",
    "for idx, row in enumerate(df[\"dept_id\"].tolist()):\n",
    "    if row != current_row:\n",
    "        l9_idxs.append(idx)\n",
    "        current_row = row\n",
    "l9_idxs.append(30490)\n",
    "\n",
    "current_row = \"\"\n",
    "l8_idxs = []\n",
    "for idx, row in enumerate(df[\"cat_id\"].tolist()):\n",
    "    if row != current_row:\n",
    "        l8_idxs.append(idx)\n",
    "        current_row = row\n",
    "l8_idxs.append(30490)\n",
    "\n",
    "l3_idxs = range(0, 30491, 3049)\n",
    "l2_idxs = [0, 3049 * 4, 3049 * 7, 30490]\n",
    "\n",
    "def level8MSE(reshapedResiduals, num_days, weights = np.ones(30), p = 1.0):\n",
    "    residual = np.zeros((30490, num_days))\n",
    "    for w, start_item, end_item in zip(weights, l8_idxs[:-1], l8_idxs[1:]):\n",
    "        summed_residuals = w * reshapedResiduals[start_item:end_item].sum(axis = 0)\n",
    "        residual[start_item * num_days:end_item * num_days] += np.tile(summed_residuals, end_item - start_item)\n",
    "    grad = -2.0 * residual * p\n",
    "    hess = 2.0 * np.ones(residual.shape) * p\n",
    "    return np.array([grad, hess])\n",
    "\n",
    "def level3MSE(reshapedResiduals, num_days, weights = np.ones(10), p = 1.0):\n",
    "    residual = np.zeros((30490 * num_days))\n",
    "    for w, start_item, end_item in zip(weights, l3_idxs[:-1], l3_idxs[1:]):\n",
    "        summed_residuals = w * reshapedResiduals[start_item:end_item].sum(axis = 0)\n",
    "        residual[start_item * num_days:end_item * num_days] += np.tile(summed_residuals, end_item - start_item)\n",
    "    grad = -2.0 * residual * p\n",
    "    hess = 2.0 * np.ones(residual.shape) * p\n",
    "    return np.array([grad, hess])\n",
    "\n",
    "def level2MSE(reshapedResiduals, num_days, weights = np.ones(3), p = 1.0):\n",
    "    residual = np.zeros((30490 * num_days))\n",
    "    for w, start_item, end_item in zip(weights, l2_idxs[:-1], l2_idxs[1:]):\n",
    "        summed_residuals = weights[idx] * reshapedResiduals[start_item:end_item].sum(axis = 0)\n",
    "        residual[start_item * num_days:end_item * num_days] += np.tile(summed_residuals, end_item - start_item)\n",
    "    grad = -2.0 * residual * p\n",
    "    hess = 2.0 * np.ones(residual.shape) * p\n",
    "    return np.array([grad, hess])\n",
    "\n",
    "residual = 0\n",
    "grad = 0\n",
    "\n",
    "def level1MSE(reshapedResiduals, num_days, weights = np.ones(1), p = 1.0):\n",
    "    global residual, grad\n",
    "    residual = np.tile(reshapedResiduals.sum(axis = 0), 30490)\n",
    "    grad = -2.0 * residual * p\n",
    "    hess = 2.0 * np.ones(residual.shape) * p\n",
    "    return np.array([grad, hess])\n",
    "\n",
    "def level4MSE(reshapedResiduals, num_days, weights = np.ones(3), p = 1.0):\n",
    "    residual = np.zeros((30490 * num_days))\n",
    "    aggregated = m5.Transform_4(reshapedResiduals)\n",
    "    combined = np.concatenate((np.tile(weights[0] * aggregated[0], 565), \n",
    "                               np.tile(weights[1] * aggregated[1], 1047), \n",
    "                               np.tile(weights[2] * aggregated[2], 1437)))\n",
    "    for store in range(10):\n",
    "        residual[store * 3049 * num_days:(store + 1) * 3049 * num_days] = combined\n",
    "    grad = -2.0 * residual * p\n",
    "    hess = 2.0 * np.ones(residual.shape) * p\n",
    "    return np.array([grad, hess])\n",
    "\n",
    "occurences = np.array(list(Counter(df[\"dept_id\"].tolist()).values())) // 10\n",
    "def level5MSE(reshapedResiduals, num_days, weights = np.ones(7), p = 1.0):\n",
    "    residual = np.zeros((30490 * num_days))\n",
    "    aggregated = m5.Transform_5(reshapedResiduals)\n",
    "    combined = np.concatenate([np.tile(weights[i] * aggregated[i], occurences[i]) for i in range(7)])\n",
    "    for store in range(10):\n",
    "        residual[store * 3049:(store + 1) * 3049] = combined\n",
    "    grad = -2.0 * residual * p\n",
    "    hess = 2.0 * np.ones(residual.shape) * p\n",
    "    return np.array([grad, hess])\n",
    "\n",
    "def level6Helper(residual, reshapedResiduals, num_days, stores, weights = np.ones(3)):\n",
    "    cat1 = np.zeros(num_days)\n",
    "    cat2 = np.zeros(num_days)\n",
    "    cat3 = np.zeros(num_days)\n",
    "    for i in stores:\n",
    "        cat1 += np.sum(reshapedResiduals[3049 * i:3049 * i + 565], axis=0)\n",
    "        cat2 += np.sum(reshapedResiduals[3049 * i + 565:3049 * i + 1612], axis=0)\n",
    "        cat3 += np.sum(reshapedResiduals[3049 * i + 1612:3049 * (i + 1)], axis=0)\n",
    "    for i in stores:\n",
    "        residual[3049 * i * num_days:(3049 * i + 565) * num_days] = np.tile(weights[0] * cat1, 565)\n",
    "        residual[(3049 * i + 565) * num_days:(3049 * i + 1612) * num_days] = np.tile(weights[1] * cat2, 1047)\n",
    "        residual[(3049 * i + 1612) * num_days:3049 * (i + 1) * num_days] = np.tile(weights[2] * cat3, 1437)\n",
    "\n",
    "def level6MSE(reshapedResiduals, num_days, weights = np.ones(9), p = 1.0):\n",
    "    residual = np.zeros((30490 * num_days))\n",
    "    level6Helper(residual, reshapedResiduals, num_days, range(4), weights = weights[:3])\n",
    "    level6Helper(residual, reshapedResiduals, num_days, range(4,7), weights = weights[3:6])\n",
    "    level6Helper(residual, reshapedResiduals, num_days, range(7,10), weights = weights[6:9])\n",
    "    grad = -2.0 * residual * p\n",
    "    hess = 2.0 * np.ones(residual.shape) * p\n",
    "    return np.array([grad, hess])\n",
    "\n",
    "dep_idxs = l9_idxs[:8]\n",
    "def level7Helper(residual, reshapedResiduals, num_days, stores, weights = np.ones(7)):\n",
    "    deps = np.zeros((7, num_days))\n",
    "    for i in stores:\n",
    "        for dep in range(7):\n",
    "            deps[dep] += np.sum(reshapedResiduals[3049 * i + dep_idxs[dep]:3049 * i + dep_idxs[dep + 1]], axis = 0)\n",
    "    for i in stores:\n",
    "        for dep in range(7):\n",
    "            residual[(3049 * i + dep_idxs[dep]) * num_days:(3049 * i + dep_idxs[dep + 1]) * num_days] = np.tile(\n",
    "                weights[dep] * deps[dep], occurences[dep])\n",
    "\n",
    "def level7MSE(reshapedResiduals, num_days, weights = np.ones(21), p = 1.0):\n",
    "    residual = np.zeros((30490 * num_days))\n",
    "    level7Helper(residual, reshapedResiduals, num_days, range(4), weights = weights[:7])\n",
    "    level7Helper(residual, reshapedResiduals, num_days, range(4,7), weights = weights[7:14])\n",
    "    level7Helper(residual, reshapedResiduals, num_days, range(7,10), weights = weights[14:21])\n",
    "    grad = -2.0 * residual * p\n",
    "    hess = 2.0 * np.ones(residual.shape) * p\n",
    "    return np.array([grad, hess])\n",
    "\n",
    "def level9MSE(reshapedResiduals, num_days, weights = np.ones(70), p = 1.0):\n",
    "    residual = np.zeros((30490 * num_days))\n",
    "    for weight, start_item, end_item in zip(weights, l9_idxs[:-1], l9_idxs[1:]):\n",
    "        summed_residuals = weight * reshapedResiduals[start_item:end_item].sum(axis = 0)\n",
    "        residual[start_item * num_days:end_item * num_days] += np.tile(summed_residuals, end_item - start_item)\n",
    "    grad = -2.0 * residual * p\n",
    "    hess = 2.0 * np.ones(residual.shape) * p\n",
    "    return np.array([grad, hess])\n",
    "\n",
    "def level12MSE(reshapedResiduals, num_days, weights = np.ones(30490), p = 1.0):\n",
    "    residual = np.zeros((30490 * num_days))\n",
    "    for i in range(30490): \n",
    "        residual[i * num_days:(i+1) * num_days] = weights[i] * reshapedResiduals[i]\n",
    "    grad = -2.0 * residual * p\n",
    "    hess = 2.0 * np.ones(residual.shape) * p\n",
    "    return np.array([grad, hess])\n",
    "\n",
    "def level10MSE(reshapedResiduals, num_days, weights = np.ones(3049), p = 1.0):\n",
    "    residual = np.zeros((30490 * num_days))\n",
    "    for i in range(3049):\n",
    "        item_total = np.sum(reshapedResiduals[i::3049],axis=0)\n",
    "        for store in range(10):\n",
    "            residual[(3049 * store + i) * num_days:(3049 * store + i + 1) * num_days] = weights[i] * item_total\n",
    "    grad = -2.0 * residual * p\n",
    "    hess = 2.0 * np.ones(residual.shape) * p\n",
    "    return np.array([grad, hess])\n",
    "\n",
    "def level11MSE(reshapedResiduals, num_days, weights = np.ones(9147), p = 1.0):\n",
    "    residual = np.zeros((30490 * num_days))\n",
    "    california = reshapedResiduals[:3049 * 4]\n",
    "    for i in range(3049):\n",
    "        item_total = np.sum(california[i::3049],axis=0)\n",
    "        for store in range(4):\n",
    "            residual[(3049 * store + i) * num_days:(3049 * store + i + 1) * num_days] = weights[i] * item_total\n",
    "    texas = reshapedResiduals[3049 * 4:3049 * 7]\n",
    "    for i in range(3049):\n",
    "        item_total = np.sum(texas[i::3049],axis=0)\n",
    "        for store in range(4, 7):\n",
    "            residual[(3049 * store + i) * num_days:(3049 * store + i + 1) * num_days] = weights[i + 3049] * item_total\n",
    "    wisconsin = reshapedResiduals[3049 * 7:]\n",
    "    for i in range(3049):\n",
    "        item_total = np.sum(wisconsin[i::3049],axis=0)\n",
    "        for store in range(7,10):\n",
    "            residual[(3049 * store + i) * num_days:(3049 * store + i + 1) * num_days] = weights[i + 6098] * item_total\n",
    "    grad = -2.0 * residual * p\n",
    "    hess = 2.0 * np.ones(residual.shape) * p\n",
    "    return np.array([grad, hess])    "
   ]
  },
  {
   "cell_type": "markdown",
   "metadata": {},
   "source": [
    "- RMSE - 35.9\n",
    "- Tweedie - 55.8\n",
    "- Custom Lev 12 - 46.8\n",
    "- Custom Lev 12 Asymmetric - 57.1\n",
    "- Custom Lev 12 Fudged - 104.0\n",
    "- Custom Lev 12 + 9 Asymmetric - 190.0"
   ]
  },
  {
   "cell_type": "markdown",
   "metadata": {},
   "source": [
    "## Saving Model"
   ]
  },
  {
   "cell_type": "code",
   "execution_count": 556,
   "metadata": {},
   "outputs": [
    {
     "data": {
      "text/plain": [
       "<lightgbm.basic.Booster at 0x2193f69b0>"
      ]
     },
     "execution_count": 556,
     "metadata": {},
     "output_type": "execute_result"
    }
   ],
   "source": [
    "model.save_model('models/level9-12-asymmetric.txt')"
   ]
  },
  {
   "cell_type": "code",
   "execution_count": 537,
   "metadata": {},
   "outputs": [],
   "source": [
    "model = lgb.Booster(model_file='models/level9-12.txt')"
   ]
  },
  {
   "cell_type": "code",
   "execution_count": 538,
   "metadata": {},
   "outputs": [
    {
     "data": {
      "text/plain": [
       "<lightgbm.basic.Booster at 0x1a20e8cc0>"
      ]
     },
     "execution_count": 538,
     "metadata": {},
     "output_type": "execute_result"
    }
   ],
   "source": [
    "model"
   ]
  },
  {
   "cell_type": "markdown",
   "metadata": {},
   "source": [
    "## Recursive Predictor"
   ]
  },
  {
   "cell_type": "code",
   "execution_count": 99,
   "metadata": {},
   "outputs": [
    {
     "name": "stdout",
     "output_type": "stream",
     "text": [
      "Finished day 7\n",
      "Finished day 14\n",
      "Finished day 21\n",
      "Finished day 28\n",
      "CPU times: user 3min 28s, sys: 5.27 s, total: 3min 33s\n",
      "Wall time: 1min 10s\n"
     ]
    }
   ],
   "source": [
    "%%time\n",
    "all_data = np.array(df.iloc[:,6:])\n",
    "for i in range(28):\n",
    "    test_data = generateTrainingData(1914 + i, 1914 + i, lags, rolling, all_data, withLabels=False)\n",
    "    preds = model.predict(test_data)\n",
    "    all_data = np.concatenate((all_data, preds.reshape((30490, 1))), axis = 1)\n",
    "    if (i + 1) % 7 == 0:\n",
    "        print(\"Finished day {}\".format(i+1))\n",
    "predictions = all_data[:, -28:]\n",
    "all_data = np.array(df.iloc[:,6:])"
   ]
  },
  {
   "cell_type": "code",
   "execution_count": 497,
   "metadata": {},
   "outputs": [],
   "source": [
    "modelNumber = 1"
   ]
  },
  {
   "cell_type": "markdown",
   "metadata": {},
   "source": [
    "## Preparing for Submission"
   ]
  },
  {
   "cell_type": "code",
   "execution_count": 498,
   "metadata": {},
   "outputs": [],
   "source": [
    "modelName = \"Fudge\"\n",
    "submissionReady = True\n",
    "try:\n",
    "    if tempName != modelName:\n",
    "        modelNumber = 1\n",
    "except:\n",
    "    modelNumber = 1"
   ]
  },
  {
   "cell_type": "code",
   "execution_count": 499,
   "metadata": {},
   "outputs": [],
   "source": [
    "try:\n",
    "    submission\n",
    "except:\n",
    "    submission = pd.read_csv(\"submissions/sample_submission.csv\")\n",
    "\n",
    "try:\n",
    "    for idx, col in enumerate(submission.columns.values):\n",
    "        if (col != \"id\"):\n",
    "            submission[col] = np.concatenate((predictions[:, idx - 1], np.zeros(30490)), axis = 0)\n",
    "    if submissionReady:\n",
    "        submission.to_csv(\"submissions/{}_{}.csv\".format(modelName, modelNumber), index=False)\n",
    "        modelNumber += 1\n",
    "        tempName = modelName\n",
    "    Audio(sound_file, autoplay=True)\n",
    "except:\n",
    "    Audio(sound_file, autoplay=True)"
   ]
  },
  {
   "cell_type": "markdown",
   "metadata": {},
   "source": [
    "## Analyzing Submission"
   ]
  },
  {
   "cell_type": "code",
   "execution_count": 101,
   "metadata": {},
   "outputs": [],
   "source": [
    "loss = m5.WRMSSE(predictions)\n",
    "loss2 = m5.WRMSSE(m5.clean(pd.read_csv(\"Submissions/nt_model_0.csv\")))"
   ]
  },
  {
   "cell_type": "code",
   "execution_count": 102,
   "metadata": {},
   "outputs": [
    {
     "data": {
      "text/plain": [
       "(0.5743456871165679,\n",
       " array([0.02061844, 0.02763055, 0.03697214, 0.02917736, 0.0364879 ,\n",
       "        0.03603486, 0.04293453, 0.04489379, 0.0513724 , 0.06998631,\n",
       "        0.07011418, 0.06983413]))"
      ]
     },
     "execution_count": 102,
     "metadata": {},
     "output_type": "execute_result"
    }
   ],
   "source": [
    "loss.getTotalLoss(), loss2.getLossByLevel()"
   ]
  },
  {
   "cell_type": "code",
   "execution_count": 545,
   "metadata": {},
   "outputs": [
    {
     "name": "stdout",
     "output_type": "stream",
     "text": [
      "[0.47095698 0.45848093 0.71146131 0.62927081 1.09540162 0.93872641\n",
      " 0.97345454 1.21285524 1.64008511 0.9354275  1.39156509 1.36661827\n",
      " 1.29859383 1.1956779  1.49654597 0.78017471 1.57820427 1.57135577\n",
      " 0.96587588 1.80752145 1.94242158 1.19980669 0.7541148  1.03390101\n",
      " 0.93353232 0.99679253 1.28484081 1.15409728]\n",
      "[0 0 0 0 0 0 0 0 0 0 0 0 0 0 0 0 0 0 0 0 0 0 0 0 0 0 0 0]\n"
     ]
    }
   ],
   "source": [
    "print(predictions[3049 * 8 + 2297])\n",
    "print(m5.actuals[3049 * 8 + 2297])"
   ]
  },
  {
   "cell_type": "code",
   "execution_count": 426,
   "metadata": {},
   "outputs": [
    {
     "data": {
      "text/plain": [
       "array([[ 0,  1,  2,  3,  4],\n",
       "       [ 5,  6,  7,  8,  9],\n",
       "       [10, 11, 12, 13, 14],\n",
       "       [15, 16, 17, 18, 19]])"
      ]
     },
     "execution_count": 426,
     "metadata": {},
     "output_type": "execute_result"
    }
   ],
   "source": [
    "np.arange(20).reshape((4,5))"
   ]
  },
  {
   "cell_type": "code",
   "execution_count": 546,
   "metadata": {},
   "outputs": [
    {
     "data": {
      "text/plain": [
       "array([109131.88526558,  91114.63921606,  94446.91974125,  92776.13905807,\n",
       "       127622.73203261, 147740.60740462, 158359.73266178, 146888.97145271,\n",
       "       170573.90836799, 148734.19555187, 147328.76275969, 183659.31598275,\n",
       "       227377.5780781 , 180445.46953436, 201760.48913864, 134264.3132853 ,\n",
       "       175367.57883359, 143325.57874252, 154538.75386568, 232679.98865671,\n",
       "       276146.40069327, 151410.781833  , 125552.89138954, 119051.99888986,\n",
       "       120414.44891217, 142941.87836284, 203717.59992069, 216779.26164412])"
      ]
     },
     "execution_count": 546,
     "metadata": {},
     "output_type": "execute_result"
    }
   ],
   "source": [
    "np.sum(np.square(predictions - m5.actuals), axis = 0)"
   ]
  },
  {
   "cell_type": "code",
   "execution_count": 343,
   "metadata": {},
   "outputs": [
    {
     "data": {
      "text/plain": [
       "array([[ 1.05073625e+01,  6.08666454e+02,  8.05721825e+02,\n",
       "         7.46967357e+02, -3.00282187e+03, -1.02254776e+03,\n",
       "        -5.85945491e+02,  1.64743464e+02, -1.59027560e+03,\n",
       "        -1.07363386e+03, -1.29262989e+03,  7.81019907e+02,\n",
       "        -1.63383463e+03,  1.82112912e+03, -2.94752434e+03,\n",
       "        -3.30453102e+02, -2.80151443e+03, -2.46055553e+02,\n",
       "        -1.60587886e+03, -2.21288883e+03, -5.87579854e+03,\n",
       "        -7.44514202e+02, -1.01234188e+03,  2.01254140e+02,\n",
       "         5.07731978e+00, -1.25251929e+03, -7.68406985e+02,\n",
       "        -2.69369548e+03]])"
      ]
     },
     "execution_count": 343,
     "metadata": {},
     "output_type": "execute_result"
    }
   ],
   "source": [
    "m5.transformer[1](predictions) - m5.transformer[1](m5.actuals)"
   ]
  },
  {
   "cell_type": "code",
   "execution_count": 374,
   "metadata": {},
   "outputs": [
    {
     "data": {
      "text/plain": [
       "'WeightedLev12_CustLoss_Recursive'"
      ]
     },
     "execution_count": 374,
     "metadata": {},
     "output_type": "execute_result"
    }
   ],
   "source": [
    "modelName"
   ]
  },
  {
   "cell_type": "code",
   "execution_count": 393,
   "metadata": {},
   "outputs": [
    {
     "data": {
      "text/plain": [
       "array([[0, 0, 0, ..., 3, 0, 1],\n",
       "       [0, 1, 0, ..., 0, 0, 0],\n",
       "       [0, 0, 1, ..., 3, 0, 1],\n",
       "       ...,\n",
       "       [0, 0, 1, ..., 1, 0, 2],\n",
       "       [1, 3, 0, ..., 1, 1, 0],\n",
       "       [0, 0, 0, ..., 2, 5, 1]])"
      ]
     },
     "execution_count": 393,
     "metadata": {},
     "output_type": "execute_result"
    }
   ],
   "source": [
    "actuals"
   ]
  },
  {
   "cell_type": "code",
   "execution_count": 47,
   "metadata": {},
   "outputs": [],
   "source": [
    "def analyzeDay(preds, day, level):\n",
    "    transformed_preds = m5.transformer[level](preds)[:, day - 1]\n",
    "    transformed_actuals = m5.transformer[level](m5.actuals)[:, day - 1]\n",
    "    return (m5.weights[level] * np.sqrt(28) * np.abs(transformed_preds - transformed_actuals)).sum()"
   ]
  },
  {
   "cell_type": "code",
   "execution_count": 889,
   "metadata": {},
   "outputs": [
    {
     "data": {
      "text/plain": [
       "[31, 32, 33, 34, 35, 36, 37, 38, 39, 40, 41, 42, 43]"
      ]
     },
     "execution_count": 889,
     "metadata": {},
     "output_type": "execute_result"
    }
   ],
   "source": [
    "categories"
   ]
  },
  {
   "cell_type": "code",
   "execution_count": 51,
   "metadata": {},
   "outputs": [
    {
     "data": {
      "image/png": "[encoded data removed]",
      "text/plain": [
       "<Figure size 432x288 with 1 Axes>"
      ]
     },
     "metadata": {
      "needs_background": "light"
     },
     "output_type": "display_data"
    }
   ],
   "source": [
    "level = 9\n",
    "plt.plot([i for i in range(1,29)], [analyzeDay(predictions, i, level) for i in range(1,29)])\n",
    "plt.plot([i for i in range(1,29)], [analyzeDay(bestModel, i, level) for i in range(1,29)])\n",
    "plt.legend([\"Recursive\",\"Model0\"])\n",
    "plt.xticks(range(1,29))\n",
    "plt.grid(True)\n",
    "plt.show()"
   ]
  },
  {
   "cell_type": "code",
   "execution_count": 548,
   "metadata": {},
   "outputs": [
    {
     "name": "stdout",
     "output_type": "stream",
     "text": [
      "22033\n"
     ]
    }
   ],
   "source": [
    "temp_count = 0\n",
    "mod_preds = m5.transformer[12](predictions)\n",
    "mod_actuals = m5.transformer[12](m5.actuals)\n",
    "arr1 = np.square(mod_preds - mod_actuals)\n",
    "arr2 = np.square(np.round(m5.transformer[12](predictions)) - m5.transformer[12](m5.actuals))\n",
    "for idx in range(30490):\n",
    "    a = arr1[idx].sum()\n",
    "    b = arr2[idx].sum()\n",
    "    if a < b:\n",
    "        temp_count += 1\n",
    "print(temp_count)"
   ]
  },
  {
   "cell_type": "code",
   "execution_count": 470,
   "metadata": {},
   "outputs": [],
   "source": [
    "def getFudged2(y_pred, y_true):\n",
    "    residual = (y_true - y_pred).astype(\"float\")\n",
    "    full_store_range = range(3049 * 8 + 2226, 3049 * 9)\n",
    "    return np.sqrt(np.sum(np.square(residual[full_store_range].sum(axis = 0))))\n",
    "\n",
    "def getNormal2(y_pred, y_true):\n",
    "    residual = (y_true - y_pred).astype(\"float\")\n",
    "    fudger = 3049 * 8 + 2297\n",
    "    residual[fudger] = 0\n",
    "    full_store_range = range(3049 * 8 + 2226, 3049 * 9)\n",
    "    return np.sqrt(np.sum(np.square(residual[full_store_range].sum(axis = 0))))\n",
    "\n",
    "def compare(predictions):\n",
    "    temp_preds = np.copy(predictions)\n",
    "    fudger = 3049 * 8 + 2297\n",
    "    temp_preds[fudger] = 0\n",
    "    return m5.WRMSSE(predictions).computeLevelLosses(9)[62], m5.WRMSSE(temp_preds).computeLevelLosses(9)[62]"
   ]
  },
  {
   "cell_type": "code",
   "execution_count": 464,
   "metadata": {},
   "outputs": [
    {
     "data": {
      "text/plain": [
       "array([73.40302472, 53.90781358, -1.29858219, -6.19285436,  4.22879762,\n",
       "        9.17956724,  0.39135545, 81.62706125, 95.92853078, 16.87490097,\n",
       "       74.78096325, 81.49446273, 18.86907478, 58.28664483, 52.91210572,\n",
       "        8.27210414, 33.85531025, 52.51515099,  9.94858255, 50.34414281,\n",
       "       64.93558264, 16.55557991,  4.78382894,  8.57977991,  2.00367538,\n",
       "       11.11250415, 19.87399582, 26.66190655])"
      ]
     },
     "execution_count": 464,
     "metadata": {},
     "output_type": "execute_result"
    }
   ],
   "source": [
    "fudger = 3049 * 8 + 2297\n",
    "predictions[fudger]"
   ]
  },
  {
   "cell_type": "code",
   "execution_count": 471,
   "metadata": {},
   "outputs": [
    {
     "data": {
      "text/plain": [
       "(0.003113939378169548, 0.0033517283823194205)"
      ]
     },
     "execution_count": 471,
     "metadata": {},
     "output_type": "execute_result"
    }
   ],
   "source": [
    "compare(predictions)"
   ]
  },
  {
   "cell_type": "code",
   "execution_count": 467,
   "metadata": {},
   "outputs": [
    {
     "data": {
      "text/plain": [
       "array([0., 0., 0., 0., 0., 0., 0., 0., 0., 0., 0., 0., 0., 0., 0., 0., 0.,\n",
       "       0., 0., 0., 0., 0., 0., 0., 0., 0., 0., 0.])"
      ]
     },
     "execution_count": 467,
     "metadata": {},
     "output_type": "execute_result"
    }
   ],
   "source": [
    "predictions[fudger]"
   ]
  },
  {
   "cell_type": "code",
   "execution_count": null,
   "metadata": {},
   "outputs": [],
   "source": []
  },
  {
   "cell_type": "code",
   "execution_count": 45,
   "metadata": {},
   "outputs": [
    {
     "data": {
      "image/png": "[encoded data removed]",
      "text/plain": [
       "<Figure size 432x288 with 1 Axes>"
      ]
     },
     "metadata": {
      "needs_background": "light"
     },
     "output_type": "display_data"
    }
   ],
   "source": [
    "level = 1\n",
    "plt.plot(range(1,29), [np.sum(m5.transformer[level](predictions), axis = 0)[day] for day in range(28)])\n",
    "plt.plot(range(1,29), [np.sum(m5.transformer[level](bestModel), axis = 0)[day] for day in range(28)])\n",
    "plt.plot(range(1,29), [np.sum(m5.transformer[level](m5.actuals), axis = 0)[day] for day in range(28)])\n",
    "plt.xticks(range(1,29))\n",
    "\n",
    "plt.grid(True)"
   ]
  },
  {
   "cell_type": "code",
   "execution_count": 215,
   "metadata": {},
   "outputs": [
    {
     "data": {
      "text/plain": [
       "39433.77333782457"
      ]
     },
     "execution_count": 215,
     "metadata": {},
     "output_type": "execute_result"
    }
   ],
   "source": [
    "np.sum(m5.transformer[1](predictions), axis=0)"
   ]
  },
  {
   "cell_type": "code",
   "execution_count": null,
   "metadata": {},
   "outputs": [],
   "source": [
    "combined = np.concatenate((predictions[:,:4], bestModel[:,4:6], predictions[:,6:8], bestModel[:,8:]), axis=1)"
   ]
  },
  {
   "cell_type": "code",
   "execution_count": 170,
   "metadata": {},
   "outputs": [
    {
     "data": {
      "text/plain": [
       "0.5299977413302546"
      ]
     },
     "execution_count": 170,
     "metadata": {},
     "output_type": "execute_result"
    }
   ],
   "source": [
    "m5.WRMSSE(combined).getTotalLoss()"
   ]
  },
  {
   "cell_type": "code",
   "execution_count": 164,
   "metadata": {},
   "outputs": [
    {
     "data": {
      "text/plain": [
       "0.5360565806952426"
      ]
     },
     "execution_count": 164,
     "metadata": {},
     "output_type": "execute_result"
    }
   ],
   "source": [
    "m5.WRMSSE(bestModel).getTotalLoss()"
   ]
  },
  {
   "cell_type": "code",
   "execution_count": 44,
   "metadata": {},
   "outputs": [],
   "source": [
    "bestModel = m5.clean(pd.read_csv(\"Submissions/nt_model_0.csv\"))"
   ]
  },
  {
   "cell_type": "code",
   "execution_count": 111,
   "metadata": {},
   "outputs": [],
   "source": [
    "bestLoss = m5.WRMSSE(bestModel)"
   ]
  },
  {
   "cell_type": "code",
   "execution_count": 113,
   "metadata": {},
   "outputs": [
    {
     "data": {
      "text/plain": [
       "array([0.02061844, 0.02763055, 0.03697214, 0.02917736, 0.0364879 ,\n",
       "       0.03603486, 0.04293453, 0.04489379, 0.0513724 , 0.06998631,\n",
       "       0.07011418, 0.06983413])"
      ]
     },
     "execution_count": 113,
     "metadata": {},
     "output_type": "execute_result"
    }
   ],
   "source": [
    "bestLoss.getLossByLevel()"
   ]
  },
  {
   "cell_type": "code",
   "execution_count": 886,
   "metadata": {},
   "outputs": [
    {
     "data": {
      "text/plain": [
       "<matplotlib.axes._subplots.AxesSubplot at 0x2b953fe10>"
      ]
     },
     "execution_count": 886,
     "metadata": {},
     "output_type": "execute_result"
    },
    {
     "data": {
      "image/png": "[encoded data removed]",
      "text/plain": [
       "<Figure size 1800x1440 with 1 Axes>"
      ]
     },
     "metadata": {
      "needs_background": "light"
     },
     "output_type": "display_data"
    }
   ],
   "source": [
    "lgb.plot_importance(model, height=0.2, figsize=(25,20))"
   ]
  },
  {
   "cell_type": "code",
   "execution_count": 118,
   "metadata": {},
   "outputs": [
    {
     "data": {
      "text/plain": [
       "[34, 35, 36, 37, 38, 39, 40, 41, 42, 43, 44]"
      ]
     },
     "execution_count": 118,
     "metadata": {},
     "output_type": "execute_result"
    }
   ],
   "source": [
    "categories"
   ]
  },
  {
   "cell_type": "code",
   "execution_count": 149,
   "metadata": {},
   "outputs": [
    {
     "data": {
      "text/plain": [
       "0.0"
      ]
     },
     "execution_count": 149,
     "metadata": {},
     "output_type": "execute_result"
    }
   ],
   "source": [
    "training_data[0][37]"
   ]
  },
  {
   "cell_type": "code",
   "execution_count": 262,
   "metadata": {},
   "outputs": [
    {
     "name": "stdout",
     "output_type": "stream",
     "text": [
      "Counter({nan: 767, \"Father's day\": 2})\n",
      "Counter({nan: 706, 'MemorialDay': 3, 'NBAFinalsStart': 3, 'NBAFinalsEnd': 3, 'Ramadan starts': 3, 'IndependenceDay': 2, 'Eid al-Fitr': 2, 'LaborDay': 2, 'EidAlAdha': 2, 'ColumbusDay': 2, 'Halloween': 2, 'VeteransDay': 2, 'Thanksgiving': 2, 'Chanukah End': 2, 'Christmas': 2, 'NewYear': 2, 'OrthodoxChristmas': 2, 'MartinLutherKingDay': 2, 'SuperBowl': 2, 'ValentinesDay': 2, 'PresidentsDay': 2, 'LentStart': 2, 'LentWeek2': 2, 'Purim End': 2, 'StPatricksDay': 2, 'Easter': 2, 'Pesach End': 2, 'OrthodoxEaster': 2, 'Cinco De Mayo': 2, \"Mother's day\": 2, \"Father's day\": 1})\n"
     ]
    }
   ],
   "source": [
    "print(Counter(list(m5.calendar.iloc[1200:][m5.calendar[\"event_name_2\"]] )))\n",
    "print(Counter(list(m5.calendar.iloc[1200:][\"event_name_1\"])))"
   ]
  },
  {
   "cell_type": "markdown",
   "metadata": {},
   "source": [
    "First thing - add in special days\n",
    "\n",
    "Try running models - both symmetric and aysmetric (symmetric scored .606, fixed mothers day error but now underpredicts heavily on the portion after mothers day, this could be fixed with assymetric loss)\n",
    "\n",
    "add in unique item identifier (as well as max_bin by node)\n",
    "\n",
    "try running models - both symmetric and asymmetric"
   ]
  },
  {
   "cell_type": "code",
   "execution_count": 244,
   "metadata": {},
   "outputs": [
    {
     "data": {
      "text/plain": [
       "0.6016827523199795"
      ]
     },
     "execution_count": 244,
     "metadata": {},
     "output_type": "execute_result"
    }
   ],
   "source": [
    "m5.WRMSSE(np.concatenate((predictions[:,:13], bestModel[:,13:14], predictions[:,14:]),axis = 1)).getTotalLoss()"
   ]
  },
  {
   "cell_type": "code",
   "execution_count": 489,
   "metadata": {},
   "outputs": [
    {
     "data": {
      "text/plain": [
       "array([[ 528.,  489.,  409., ...,  471.,  621.,  641.],\n",
       "       [  28.,    9.,    6., ...,   56.,   49.,   73.],\n",
       "       [ 361.,  350.,  279., ...,  695.,  933., 1022.],\n",
       "       ...,\n",
       "       [ 152.,  138.,  127., ...,  261.,  324.,  317.],\n",
       "       [ 583.,  585.,  575., ...,  507.,  505.,  557.],\n",
       "       [2293., 2383., 1841., ..., 1897., 2411., 2233.]])"
      ]
     },
     "execution_count": 489,
     "metadata": {},
     "output_type": "execute_result"
    }
   ],
   "source": [
    "m5.transformer[9](all_data)"
   ]
  },
  {
   "cell_type": "markdown",
   "metadata": {},
   "source": [
    "## Training a pre-trained Model (Level 9 + 12 Gradient) with Level 6 Loss"
   ]
  },
  {
   "cell_type": "code",
   "execution_count": 745,
   "metadata": {},
   "outputs": [
    {
     "data": {
      "text/plain": [
       "31"
      ]
     },
     "execution_count": 745,
     "metadata": {},
     "output_type": "execute_result"
    }
   ],
   "source": [
    "len(l8_idxs)"
   ]
  },
  {
   "cell_type": "code",
   "execution_count": 907,
   "metadata": {},
   "outputs": [
    {
     "data": {
      "text/plain": [
       "[1, 2, 2, 3]"
      ]
     },
     "execution_count": 907,
     "metadata": {},
     "output_type": "execute_result"
    }
   ],
   "source": [
    "[1,2] + [2,3]"
   ]
  },
  {
   "cell_type": "code",
   "execution_count": 850,
   "metadata": {},
   "outputs": [],
   "source": [
    "hello = np.array([6,5,3,2])\n",
    "def arr(hello):\n",
    "    hello[0] = 5"
   ]
  },
  {
   "cell_type": "code",
   "execution_count": 852,
   "metadata": {},
   "outputs": [
    {
     "data": {
      "text/plain": [
       "array([5, 5, 3, 2])"
      ]
     },
     "execution_count": 852,
     "metadata": {},
     "output_type": "execute_result"
    }
   ],
   "source": [
    "hello"
   ]
  },
  {
   "cell_type": "code",
   "execution_count": 740,
   "metadata": {},
   "outputs": [
    {
     "data": {
      "text/plain": [
       "array([ -8., -12., -16., ...,  -8., -12., -16.])"
      ]
     },
     "execution_count": 740,
     "metadata": {},
     "output_type": "execute_result"
    }
   ],
   "source": [
    "level1MSE(np.array([[1, 2, 3], [3, 4, 5]]), 3)[0]"
   ]
  },
  {
   "cell_type": "code",
   "execution_count": 742,
   "metadata": {},
   "outputs": [
    {
     "data": {
      "text/plain": [
       "(array([-0. , -9.2,  2. ]), array([2.3, 2.3, 2. ]))"
      ]
     },
     "execution_count": 742,
     "metadata": {},
     "output_type": "execute_result"
    }
   ],
   "source": [
    "custom_asymmetric_train(np.array([6,1,4]), np.array([6,5,3]))"
   ]
  },
  {
   "cell_type": "code",
   "execution_count": 816,
   "metadata": {},
   "outputs": [
    {
     "name": "stdout",
     "output_type": "stream",
     "text": [
      "CPU times: user 3.23 ms, sys: 412 µs, total: 3.64 ms\n",
      "Wall time: 3.13 ms\n"
     ]
    }
   ],
   "source": [
    "%%time\n",
    "for idx, (a, b) in enumerate(zip(np.random.rand(10000),np.random.rand(10000))):\n",
    "    pass"
   ]
  },
  {
   "cell_type": "code",
   "execution_count": 815,
   "metadata": {},
   "outputs": [
    {
     "name": "stdout",
     "output_type": "stream",
     "text": [
      "CPU times: user 3.86 ms, sys: 198 µs, total: 4.06 ms\n",
      "Wall time: 3.76 ms\n"
     ]
    }
   ],
   "source": [
    "%%time\n",
    "temp_count = 0 \n",
    "for a, b, c in zip(np.zeros(10000),np.random.rand(10000),np.random.rand(10000)):\n",
    "    # print(a,b,c)\n",
    "    pass"
   ]
  },
  {
   "cell_type": "code",
   "execution_count": 819,
   "metadata": {},
   "outputs": [
    {
     "data": {
      "text/plain": [
       "array([1, 2, 3, 1, 2, 3, 5, 6, 7, 5, 6, 7, 5, 6, 7])"
      ]
     },
     "execution_count": 819,
     "metadata": {},
     "output_type": "execute_result"
    }
   ],
   "source": [
    "np.concatenate((np.tile([1,2,3], 2), np.tile([5,6,7], 3)))"
   ]
  },
  {
   "cell_type": "code",
   "execution_count": 830,
   "metadata": {},
   "outputs": [
    {
     "data": {
      "text/plain": [
       "[4160, 1490, 5320, 5150, 2160, 3980, 8230]"
      ]
     },
     "execution_count": 830,
     "metadata": {},
     "output_type": "execute_result"
    }
   ],
   "source": []
  },
  {
   "cell_type": "code",
   "execution_count": 829,
   "metadata": {},
   "outputs": [
    {
     "data": {
      "text/plain": [
       "array([2, 1])"
      ]
     },
     "execution_count": 829,
     "metadata": {},
     "output_type": "execute_result"
    }
   ],
   "source": [
    "np.concatenate((np.array([2]), np.array([1])))"
   ]
  },
  {
   "cell_type": "code",
   "execution_count": 849,
   "metadata": {},
   "outputs": [
    {
     "data": {
      "text/plain": [
       "id          FOODS_1_001_CA_1_validation\n",
       "item_id                     FOODS_1_001\n",
       "dept_id                         FOODS_1\n",
       "cat_id                            FOODS\n",
       "store_id                           CA_1\n",
       "                       ...             \n",
       "d_1909                                1\n",
       "d_1910                                0\n",
       "d_1911                                1\n",
       "d_1912                                1\n",
       "d_1913                                0\n",
       "Name: 1612, Length: 1919, dtype: object"
      ]
     },
     "execution_count": 849,
     "metadata": {},
     "output_type": "execute_result"
    }
   ],
   "source": [
    "df.iloc[1612]"
   ]
  },
  {
   "cell_type": "code",
   "execution_count": 836,
   "metadata": {},
   "outputs": [
    {
     "data": {
      "text/plain": [
       "[31, 32, 33, 34, 35, 36, 37, 38, 39, 40, 41, 42, 43]"
      ]
     },
     "execution_count": 836,
     "metadata": {},
     "output_type": "execute_result"
    }
   ],
   "source": [
    "categories"
   ]
  },
  {
   "cell_type": "code",
   "execution_count": 848,
   "metadata": {},
   "outputs": [
    {
     "name": "stdout",
     "output_type": "stream",
     "text": [
      "CPU times: user 3 µs, sys: 0 ns, total: 3 µs\n",
      "Wall time: 5.96 µs\n"
     ]
    },
    {
     "data": {
      "text/plain": [
       "[0, 416, 565, 1097, 1612, 1828, 2226, 594503503]"
      ]
     },
     "execution_count": 848,
     "metadata": {},
     "output_type": "execute_result"
    }
   ],
   "source": [
    "%%time\n",
    "dept_idxs + [594503503]"
   ]
  },
  {
   "cell_type": "code",
   "execution_count": 842,
   "metadata": {},
   "outputs": [
    {
     "data": {
      "text/plain": [
       "4"
      ]
     },
     "execution_count": 842,
     "metadata": {},
     "output_type": "execute_result"
    }
   ],
   "source": [
    "2+2"
   ]
  },
  {
   "cell_type": "code",
   "execution_count": null,
   "metadata": {},
   "outputs": [],
   "source": []
  }
 ],
 "metadata": {
  "kernelspec": {
   "display_name": "Python 3",
   "language": "python",
   "name": "python3"
  },
  "language_info": {
   "codemirror_mode": {
    "name": "ipython",
    "version": 3
   },
   "file_extension": ".py",
   "mimetype": "text/x-python",
   "name": "python",
   "nbconvert_exporter": "python",
   "pygments_lexer": "ipython3",
   "version": "3.7.3"
  }
 },
 "nbformat": 4,
 "nbformat_minor": 4
}
