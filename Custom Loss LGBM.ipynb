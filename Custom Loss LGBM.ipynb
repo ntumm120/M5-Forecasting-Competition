{
 "cells": [
  {
   "cell_type": "code",
   "execution_count": 1,
   "metadata": {},
   "outputs": [],
   "source": [
    "import numpy as np\n",
    "import pandas as pd\n",
    "import lightgbm as lgb\n",
    "from datetime import datetime\n",
    "from datetime import timedelta\n",
    "import random\n",
    "from importlib import reload\n",
    "from IPython.display import Audio\n",
    "import m5forecasting as m5\n",
    "import matplotlib.pyplot as plt\n",
    "sound_file = './sound/radio.wav'\n",
    "from collections import Counter"
   ]
  },
  {
   "cell_type": "code",
   "execution_count": 2,
   "metadata": {},
   "outputs": [],
   "source": [
    "df = m5.df\n",
    "all_data = m5.all_data"
   ]
  },
  {
   "cell_type": "code",
   "execution_count": 299,
   "metadata": {},
   "outputs": [],
   "source": [
    "events = [event[0] for event in list(Counter(m5.calendar[\"event_name_1\"]).items())]\n",
    "event_dict = {}\n",
    "for idx, event in enumerate(events):\n",
    "    event_dict[event] = idx\n",
    "\n",
    "eventTypes = [eventType[0] for eventType in list(Counter(m5.calendar[\"event_type_1\"]).items())]\n",
    "event_type_dict = {}\n",
    "for idx, eventType in enumerate(eventTypes):\n",
    "    event_type_dict[eventType] = idx\n",
    "\n",
    "def getEvent(day):\n",
    "    row = m5.calendar.iloc[day - 1]\n",
    "    event_name = event_dict[row[\"event_name_1\"]]\n",
    "    event_type = event_type_dict[row[\"event_type_1\"]]\n",
    "    return np.array([event_name, event_type])"
   ]
  },
  {
   "cell_type": "code",
   "execution_count": 294,
   "metadata": {},
   "outputs": [
    {
     "name": "stdout",
     "output_type": "stream",
     "text": [
      "CPU times: user 9.38 s, sys: 30.3 ms, total: 9.41 s\n",
      "Wall time: 9.43 s\n"
     ]
    }
   ],
   "source": [
    "%%time\n",
    "for i in range(1913 * 10):\n",
    "    temp = m5.calendar[m5.calendar.d == \"d_\" + str((i + 1) % 1913)]"
   ]
  },
  {
   "cell_type": "code",
   "execution_count": 295,
   "metadata": {},
   "outputs": [
    {
     "name": "stdout",
     "output_type": "stream",
     "text": [
      "CPU times: user 2.27 s, sys: 6.6 ms, total: 2.27 s\n",
      "Wall time: 2.28 s\n"
     ]
    }
   ],
   "source": [
    "%%time\n",
    "for i in range(1913 * 10):\n",
    "    temp = m5.calendar.iloc[i % 1913]"
   ]
  },
  {
   "cell_type": "code",
   "execution_count": 368,
   "metadata": {},
   "outputs": [
    {
     "data": {
      "text/plain": [
       "'10%'"
      ]
     },
     "execution_count": 368,
     "metadata": {},
     "output_type": "execute_result"
    }
   ],
   "source": [
    "\"{}%\".format(10)"
   ]
  },
  {
   "cell_type": "markdown",
   "metadata": {},
   "source": [
    "## Feature Generation"
   ]
  },
  {
   "cell_type": "code",
   "execution_count": 393,
   "metadata": {},
   "outputs": [],
   "source": [
    "def getYearMonthDay(day):\n",
    "    temp = datetime(2011,1,28) + timedelta(days=day)\n",
    "    return [temp.year, temp.month, temp.day]\n",
    "\n",
    "def getDay(day):\n",
    "    temp = day % 7\n",
    "    return [temp, int(temp > 0 and temp < 3)]\n",
    "\n",
    "def getSnapValue(day, state_index):\n",
    "    return int(m5.calendar.iloc[day - 1, 11 + state_index])\n",
    "\n",
    "events = [event[0] for event in list(Counter(m5.calendar[\"event_name_1\"]).items())]\n",
    "event_dict = {}\n",
    "for idx, event in enumerate(events):\n",
    "    event_dict[event] = idx\n",
    "\n",
    "eventTypes = [eventType[0] for eventType in list(Counter(m5.calendar[\"event_type_1\"]).items())]\n",
    "event_type_dict = {}\n",
    "for idx, eventType in enumerate(eventTypes):\n",
    "    event_type_dict[eventType] = idx\n",
    "\n",
    "def getEvent(day):\n",
    "    row = m5.calendar.iloc[day - 1]\n",
    "    event_name = event_dict[row[\"event_name_1\"]]\n",
    "    event_type = event_type_dict[row[\"event_type_1\"]]\n",
    "    return np.array([event_name, event_type])\n",
    "\n",
    "# item number, item department, item category, store, state\n",
    "departmentInt = {}\n",
    "current_id = \"HOBBIES_1\"\n",
    "count = 0\n",
    "for i in range(3049):\n",
    "    if df.iloc[i][\"dept_id\"] != current_id or i == 3048:\n",
    "        departmentInt[current_id] = count\n",
    "        count += 1\n",
    "        current_id = df.iloc[i][\"dept_id\"]\n",
    "\n",
    "categoryInt = {}\n",
    "current_id = \"HOBBIES\"\n",
    "count = 0\n",
    "for i in range(3049):\n",
    "    if df.iloc[i][\"cat_id\"] != current_id or i == 3048:\n",
    "        categoryInt[current_id] = count\n",
    "        count += 1\n",
    "        current_id = df.iloc[i][\"cat_id\"]\n",
    "\n",
    "storeInt = {}\n",
    "current_id = \"CA_1\"\n",
    "count = 0\n",
    "for i in range(0,30490,3049):\n",
    "    if df.iloc[i][\"store_id\"] != current_id:\n",
    "        storeInt[current_id] = count\n",
    "        count += 1\n",
    "        current_id = df.iloc[i][\"store_id\"]\n",
    "        storeInt[current_id] = count\n",
    "\n",
    "stateInt = {}\n",
    "current_id = \"CA\"\n",
    "count = 0\n",
    "for i in range(0,30490,3049):\n",
    "    if df.iloc[i][\"state_id\"] != current_id:\n",
    "        stateInt[current_id] = count\n",
    "        count += 1\n",
    "        current_id = df.iloc[i][\"state_id\"]\n",
    "        stateInt[current_id] = count\n",
    "\n",
    "def generateTrainingData(start_day, end_day, lags, rolling, all_data, withLabels = True, verbose=False):\n",
    "    num_days = end_day - start_day + 1\n",
    "    num_series = 30490\n",
    "    total_entries = num_days * num_series\n",
    "    training_data = np.zeros((total_entries, len(lags)))\n",
    "    categoricalfeatures = [0] * len(lags)\n",
    "    if withLabels:\n",
    "        training_labels = np.zeros(total_entries)\n",
    "    \n",
    "    # lag features\n",
    "    count = 0\n",
    "    for time_series_idx in range(30490):\n",
    "        for i in range(end_day - num_days,end_day):\n",
    "            training_data[count] = all_data[time_series_idx, [i - lag for lag in lags]]\n",
    "            if withLabels:\n",
    "                training_labels[count] = all_data[time_series_idx, i]\n",
    "            count += 1\n",
    "    \n",
    "    if verbose:\n",
    "        print(\"Finished lag features\")\n",
    "    \n",
    "    # rolling lag features\n",
    "    count = 0\n",
    "    categoricalfeatures.extend([0] * len(rolling))\n",
    "    temp_training = np.zeros((total_entries, len(rolling)))\n",
    "    for time_series_idx in range(30490):\n",
    "        for i in range(end_day - num_days,end_day):\n",
    "            temp_training[count] = [all_data[time_series_idx, [i - lag for lag in rolling_lags]].sum() / len(rolling_lags) for rolling_lags in rolling]\n",
    "            count += 1\n",
    "        if verbose and ((time_series_idx + 1) % 3049 == 0):\n",
    "            print(\"{}% done with rolling\".format((time_series_idx + 1) // 3049 * 10))\n",
    "    training_data = np.concatenate((training_data, temp_training), axis=1)\n",
    "    \n",
    "    if verbose:\n",
    "        print(\"Finished rolling lag features\")\n",
    "    \n",
    "    # item features - item number, department, category, store, state, store * department\n",
    "    temp_training = np.zeros((total_entries, 8))\n",
    "    categoricalfeatures.extend([1] * 8)\n",
    "    for i in range(0, total_entries, num_days):\n",
    "        item_number = i // num_days % 3049\n",
    "        dep_num = departmentInt[df[\"dept_id\"].iloc[item_number]]\n",
    "        store_num = storeInt[df[\"store_id\"].iloc[i // num_days]]\n",
    "        temp_training[i:i + num_days, 0] = item_number\n",
    "        temp_training[i:i + num_days, 1] = dep_num\n",
    "        temp_training[i:i + num_days, 2] = categoryInt[df[\"cat_id\"].iloc[item_number]]\n",
    "        temp_training[i:i + num_days, 3] = store_num\n",
    "        temp_training[i:i + num_days, 4] = stateInt[df[\"state_id\"].iloc[i // num_days]]\n",
    "        temp_training[i:i + num_days, 5] = store_num * 7 + dep_num\n",
    "    \n",
    "    if verbose:\n",
    "        print(\"Finished item features\")\n",
    "    \n",
    "    # day of week and is weekend\n",
    "    for i in range(num_days):\n",
    "        temp_training[i::num_days, 6:8] = getDay(i % num_days + (end_day + 1 - num_days))\n",
    "    training_data = np.concatenate((training_data, temp_training), axis=1)\n",
    "   \n",
    "    if verbose:\n",
    "        print(\"Finished day features\")\n",
    "   \n",
    "    # snap feature\n",
    "    temp_training = np.zeros((total_entries, 1))\n",
    "    categoricalfeatures.append(1)\n",
    "    for idx, day in enumerate(range(start_day, end_day + 1)):\n",
    "        temp_training[idx:idx + 3049 * 4 * num_days:num_days, 0] = getSnapValue(day, 0)\n",
    "        temp_training[idx + 3049 * 4 * num_days:idx + 3049 * 7 * num_days:num_days, 0] = getSnapValue(day, 1)\n",
    "        temp_training[idx + 3049 * 7 * num_days:idx + 3049 * 10 * num_days:num_days, 0] = getSnapValue(day, 2)\n",
    "    training_data = np.concatenate((training_data, temp_training), axis=1)\n",
    "   \n",
    "    # month, day, year\n",
    "    temp_training = np.zeros((total_entries, 3))\n",
    "    categoricalfeatures.extend([1] * 3)\n",
    "    for i in range(num_days):\n",
    "        temp_training[i::num_days] = getYearMonthDay(i % num_days + (end_day + 1 - num_days))\n",
    "    training_data = np.concatenate((training_data, temp_training), axis=1)\n",
    "   \n",
    "    if verbose:\n",
    "        print(\"Finished date features\")\n",
    "   \n",
    "    # special events\n",
    "    temp_training = np.zeros((total_entries, 10))\n",
    "    categoricalfeatures.extend([1] * 10)\n",
    "    for idx, day in enumerate(range(start_day, end_day + 1)):\n",
    "            temp_training[idx:total_entries:num_days, :2] = getEvent(day)\n",
    "            ev1 = np.zeros(2)\n",
    "            ev2 = np.zeros(2)\n",
    "            for idx2, day2 in enumerate(range(day - 1, day - 8, -1)):\n",
    "                temp_ev = getEvent(day2)\n",
    "                if temp_ev[0] != 0:\n",
    "                    if ev1[0] == 0:\n",
    "                        ev1 = temp_ev\n",
    "                    elif ev2[0] == 0:\n",
    "                        ev2 = temp_ev\n",
    "            temp_training[idx:total_entries:num_days, 2:4] = ev1\n",
    "            temp_training[idx:total_entries:num_days, 4:6] = ev2\n",
    "            ev1 = np.zeros(2)\n",
    "            ev2 = np.zeros(2)\n",
    "            for idx2, day2 in enumerate(range(day + 1, day + 8)):\n",
    "                temp_ev = getEvent(day2)\n",
    "                if temp_ev[0] != 0:\n",
    "                    if ev1[0] == 0:\n",
    "                        ev1 = temp_ev\n",
    "                    elif ev2[0] == 0:\n",
    "                        ev2 = temp_ev\n",
    "            temp_training[idx:total_entries:num_days, 6:8] = ev1\n",
    "            temp_training[idx:total_entries:num_days, 8:10] = ev2\n",
    "                        \n",
    "    training_data = np.concatenate((training_data, temp_training), axis=1)\n",
    "    \n",
    "    if verbose:\n",
    "        print(\"Finished event features\")\n",
    "    \n",
    "    if withLabels:\n",
    "        return training_data, training_labels, [idx for idx, val in enumerate(categoricalfeatures) if val == 1]\n",
    "    else:\n",
    "        return training_data"
   ]
  },
  {
   "cell_type": "code",
   "execution_count": 357,
   "metadata": {},
   "outputs": [
    {
     "data": {
      "text/plain": [
       "[1, 2, 3]"
      ]
     },
     "execution_count": 357,
     "metadata": {},
     "output_type": "execute_result"
    }
   ],
   "source": [
    "temp_arr = [1,2,3]\n",
    "reversed(temp_arr)\n",
    "temp_arr"
   ]
  },
  {
   "cell_type": "code",
   "execution_count": 367,
   "metadata": {},
   "outputs": [],
   "source": [
    "dept_idxs = []\n",
    "current_dep = \"\"\n",
    "for i in range(3049):\n",
    "    if df.iloc[i][\"dept_id\"] != current_dep:\n",
    "        current_dep = df.iloc[i][\"dept_id\"]\n",
    "        dept_idxs.append(i)"
   ]
  },
  {
   "cell_type": "code",
   "execution_count": 372,
   "metadata": {},
   "outputs": [
    {
     "data": {
      "text/plain": [
       "[0, 416, 565, 1097, 1612, 1828, 2226]"
      ]
     },
     "execution_count": 372,
     "metadata": {},
     "output_type": "execute_result"
    }
   ],
   "source": [
    "dept_idxs"
   ]
  },
  {
   "cell_type": "markdown",
   "metadata": {},
   "source": [
    "## Model Training / Testing"
   ]
  },
  {
   "cell_type": "code",
   "execution_count": 627,
   "metadata": {},
   "outputs": [],
   "source": [
    "def custom_asymmetric_train(y_pred, y_true):\n",
    "    # y_true = y_true.get_label()\n",
    "    residual = (y_true - y_pred).astype(\"float\")\n",
    "    grad = np.where(residual < 0, -2.0 * residual, -2 * residual * 1.15)\n",
    "    hess = np.where(residual < 0, 2.0, 2.0 * 1.15)\n",
    "    return grad, hess\n",
    "\n",
    "def custom_asymmetric_valid(y_pred, y_true):\n",
    "    residual = (y_true - y_pred).astype(\"float\")\n",
    "    loss = np.where(residual < 0, (residual**2)*10.0, residual**2) \n",
    "    return \"custom_asymmetric_eval\", np.mean(loss), False"
   ]
  },
  {
   "cell_type": "code",
   "execution_count": 608,
   "metadata": {},
   "outputs": [
    {
     "data": {
      "text/plain": [
       "array([0, 1, 4, 9])"
      ]
     },
     "execution_count": 608,
     "metadata": {},
     "output_type": "execute_result"
    }
   ],
   "source": [
    "np.power(np.arange(4), 2)"
   ]
  },
  {
   "cell_type": "code",
   "execution_count": 5,
   "metadata": {},
   "outputs": [],
   "source": [
    "def Level_12_WRMSSE(y_pred, y_true):\n",
    "    y_true = y_true.get_label()\n",
    "    diff = (y_true - y_pred).astype(\"float\")\n",
    "    diff_squared = (diff * diff).reshape((30490, 28))\n",
    "    return \"Lev 12\", np.sum(np.sqrt(np.sum(diff_squared, axis = 1)) * m5.weights[12] / 12.0), False\n",
    "\n",
    "def Level_1_WRMSSE(y_pred, y_true):\n",
    "    y_true = y_true.get_label()\n",
    "    diff = (y_true - y_pred).astype(\"float\").reshape((30490, 28))\n",
    "    diff_squared = np.square(m5.transformer[1](diff))\n",
    "    return \"Lev 1\", np.sum(np.sqrt(np.sum(diff_squared, axis = 1)) * m5.weights[1] / 12.0), False"
   ]
  },
  {
   "cell_type": "code",
   "execution_count": 391,
   "metadata": {},
   "outputs": [],
   "source": [
    "def Level_1_12_WRMSSE(y_pred, y_true):\n",
    "    response1 = Level_1_WRMSSE(y_pred, y_true)\n",
    "    response12 = Level_12_WRMSSE(y_pred, y_true)\n",
    "    return \"Lev 1: {} Lev 12:\".format(response1[1]), response12[1], False"
   ]
  },
  {
   "cell_type": "markdown",
   "metadata": {},
   "source": [
    "## Ignore Above"
   ]
  },
  {
   "cell_type": "code",
   "execution_count": 4,
   "metadata": {},
   "outputs": [],
   "source": [
    "def byLevelWRMSSE(y_pred, y_true, level):\n",
    "    y_true = y_true.get_label()\n",
    "    diff = (y_true - y_pred).astype(\"float\").reshape((30490, 28))\n",
    "    if level > 0:    \n",
    "        diff_squared = np.square(m5.transformer[level](diff))\n",
    "        return \"Lev {}\".format(level), np.sum(np.sqrt(np.sum(diff_squared, axis = 1)) * m5.weights[level] / 12.0), False\n",
    "    else:\n",
    "        total_loss = 0.0\n",
    "        for i in range(1,13):\n",
    "            diff_squared = np.square(m5.transformer[i](diff))\n",
    "            total_loss += np.sum(np.sqrt(np.sum(diff_squared, axis = 1)) * m5.weights[i] / 12.0)\n",
    "        return \"WRMSSE\", total_loss, False"
   ]
  },
  {
   "cell_type": "code",
   "execution_count": 19,
   "metadata": {},
   "outputs": [],
   "source": [
    "def getFudged(y_pred, y_true):\n",
    "    y_true = y_true.get_label()\n",
    "    residual = (y_true - y_pred).astype(\"float\")\n",
    "    full_store_range = range((3049 * 8 + 2226) * 28, 3049 * 9 * 28)\n",
    "    return \"Fudged\", np.sqrt(np.sum(np.square(residual[full_store_range].reshape((3049 - 2226, 28)).sum(axis = 0)))), True\n",
    "\n",
    "def getNormal(y_pred, y_true):\n",
    "    y_true = y_true.get_label()\n",
    "    residual = (y_true - y_pred).astype(\"float\")\n",
    "    fudger = 3049 * 8 + 2297\n",
    "    residual[fudger * 28:(fudger + 1) * 28] = 0\n",
    "    full_store_range = range((3049 * 8 + 2226) * 28, 3049 * 9 * 28)\n",
    "    return \"Normal\", np.sqrt(np.sum(np.square(residual[full_store_range].reshape((3049 - 2226, 28)).sum(axis = 0)))), True"
   ]
  },
  {
   "cell_type": "code",
   "execution_count": 6,
   "metadata": {},
   "outputs": [],
   "source": [
    "minWeight = min([i for i in m5.weights[12] if i != 0])\n",
    "maximum = m5.weights[12].max()\n",
    "def level12Weighted(y_pred, y_true):\n",
    "    y_true = y_true.get_label()\n",
    "    num_days = int(len(y_pred) / 30490)\n",
    "    residual = (y_true - y_pred).astype(\"float\")\n",
    "    for i in range(30490): \n",
    "        residual[i * num_days:(i+1) * num_days] = max(minWeight, m5.weights[12][i]) / maximum * residual[i * num_days:(i+1) * num_days]\n",
    "    grad = -5.0 * residual\n",
    "    hess = 5.0 * np.ones(residual.shape)\n",
    "    return grad, hess"
   ]
  },
  {
   "cell_type": "code",
   "execution_count": 303,
   "metadata": {},
   "outputs": [],
   "source": [
    "minWeight = min([i for i in m5.weights[12] if i != 0])\n",
    "maximum = m5.weights[12].max()\n",
    "def level12WeightedFudged(y_pred, y_true):\n",
    "    y_true = y_true.get_label()\n",
    "    num_days = int(len(y_pred) / 30490)\n",
    "    residual = (y_true - y_pred).astype(\"float\")\n",
    "    for i in range(30490): \n",
    "        residual[i * num_days:(i+1) * num_days] = max(minWeight, m5.weights[12][i]) / maximum * residual[i * num_days:(i+1) * num_days]\n",
    "    for store in range(10):\n",
    "        fudger = 3049 * store + 2297\n",
    "        full_store_range = range((3049 * store + 2226) * num_days, 3049 * (store + 1) * num_days)\n",
    "        summed_residuals = (y_true - y_pred)[full_store_range].reshape((3049 - 2226, num_days)).sum(axis = 0)\n",
    "        residual[fudger * num_days: (fudger + 1) * num_days] = summed_residuals / 200.0\n",
    "    grad = -5.0 * residual\n",
    "    hess = 5.0 * np.ones(residual.shape)\n",
    "    return grad, hess"
   ]
  },
  {
   "cell_type": "code",
   "execution_count": 730,
   "metadata": {},
   "outputs": [],
   "source": [
    "current_row = \"\"\n",
    "l9_idxs = []\n",
    "for idx, row in enumerate(df[\"dept_id\"].tolist()):\n",
    "    if row != current_row:\n",
    "        l9_idxs.append(idx)\n",
    "        current_row = row\n",
    "l9_idxs.append(30490)"
   ]
  },
  {
   "cell_type": "code",
   "execution_count": 522,
   "metadata": {},
   "outputs": [
    {
     "data": {
      "text/plain": [
       "71"
      ]
     },
     "execution_count": 522,
     "metadata": {},
     "output_type": "execute_result"
    }
   ],
   "source": [
    "len(l9_idxs)"
   ]
  },
  {
   "cell_type": "code",
   "execution_count": 530,
   "metadata": {},
   "outputs": [
    {
     "data": {
      "text/plain": [
       "array([1, 2, 1, 2, 1, 2, 1, 2, 1, 2])"
      ]
     },
     "execution_count": 530,
     "metadata": {},
     "output_type": "execute_result"
    }
   ],
   "source": [
    "np.tile(np.array([1,2]), 5)"
   ]
  },
  {
   "cell_type": "code",
   "execution_count": 473,
   "metadata": {},
   "outputs": [
    {
     "data": {
      "text/plain": [
       "5239767.172573334"
      ]
     },
     "execution_count": 473,
     "metadata": {},
     "output_type": "execute_result"
    }
   ],
   "source": [
    "100 / m5.weights[9][62]"
   ]
  },
  {
   "cell_type": "code",
   "execution_count": 381,
   "metadata": {},
   "outputs": [
    {
     "data": {
      "text/plain": [
       "array([2, 9, 5])"
      ]
     },
     "execution_count": 381,
     "metadata": {},
     "output_type": "execute_result"
    }
   ],
   "source": [
    "np.array([[1,2,3],[2,3,4],[-1,4,-2]]).sum(axis=0)"
   ]
  },
  {
   "cell_type": "code",
   "execution_count": 8,
   "metadata": {},
   "outputs": [],
   "source": [
    "minWeight = min([i for i in m5.weights[12] if i != 0])\n",
    "maximum = m5.weights[12].max()\n",
    "def level12WeightedAsymmetric(y_pred, y_true):\n",
    "    y_true = y_true.get_label()\n",
    "    num_days = int(len(y_pred) / 30490)\n",
    "    residual = (y_true - y_pred).astype(\"float\")\n",
    "    for i in range(30490): \n",
    "        residual[i * num_days:(i+1) * num_days] = max(minWeight, m5.weights[12][i]) / maximum * residual[i * num_days:(i+1) * num_days]\n",
    "    grad = np.where(residual < 0, -5.0 * residual, -5.0 * residual * 1.07)\n",
    "    hess = np.where(residual < 0, 5.0, 5.0 * 1.07)\n",
    "    return grad, hess"
   ]
  },
  {
   "cell_type": "code",
   "execution_count": 9,
   "metadata": {},
   "outputs": [],
   "source": [
    "def groupByDay(y_pred, y_true):\n",
    "    y_true = y_true.get_label()\n",
    "    num_days = int(len(y_pred) / 30490)\n",
    "    residual = (y_true - y_pred).astype(\"float\")\n",
    "    grad = np.zeros(y_pred.shape)\n",
    "    hess = np.zeros(y_pred.shape)\n",
    "    for i in range(num_days):\n",
    "        all_series = residual[range(i, total, num_days)]\n",
    "        grad[range(i, total, num_days)] -= all_series.sum() / (30490 * 2.0)\n",
    "    return grad, hess"
   ]
  },
  {
   "cell_type": "code",
   "execution_count": 20,
   "metadata": {},
   "outputs": [],
   "source": [
    "def combined1(y_pred, y_true):\n",
    "    l12grad, l12hess = level12Weighted(y_pred, y_true)\n",
    "    groupgrad, grouphess = groupByDay(y_pred, y_true)\n",
    "    return l12grad + groupgrad, l12hess + grouphess"
   ]
  },
  {
   "cell_type": "code",
   "execution_count": null,
   "metadata": {},
   "outputs": [],
   "source": [
    "def groupByTimeSeries():\n",
    "    # put all data from one time series under one sqrt so that it affects the gradient\n",
    "    for i in range(30490):\n",
    "        residual[i * num_days: (i+1) * num_days]"
   ]
  },
  {
   "cell_type": "markdown",
   "metadata": {},
   "source": [
    "Data\n",
    "- SNAP data\n",
    "- weather data\n",
    "- rolling averages\n",
    "- seasonal data\n",
    "- prices?\n",
    "\n",
    "Custom Loss\n",
    "- Independent gradients with RMSE and weights\n",
    "- Dependent gradients - group by time series and group by day\n",
    "- Various levels"
   ]
  },
  {
   "cell_type": "code",
   "execution_count": 24,
   "metadata": {},
   "outputs": [],
   "source": [
    "def expandWeights(weight, days):\n",
    "    new_weights = np.zeros(len(weight) * days)\n",
    "    for i in range(days):\n",
    "        new_weights[range(i, len(new_weights), days)] = weight\n",
    "    return new_weights"
   ]
  },
  {
   "cell_type": "code",
   "execution_count": 86,
   "metadata": {},
   "outputs": [],
   "source": [
    "# Saving features so they don't need to be rerun\n",
    "# %%time\n",
    "# np.save(\"features/training_data.npy\", training_data)\n",
    "# np.save(\"features/training_labels.npy\", training_data)\n",
    "# np.save(\"features/categories.npy\", categories)\n",
    "# np.save(\"features/val_data.npy\", val_data)\n",
    "# np.save(\"features/val_labels.npy\", val_labels)"
   ]
  },
  {
   "cell_type": "code",
   "execution_count": 195,
   "metadata": {},
   "outputs": [],
   "source": [
    "grad = 0\n",
    "hess = 0\n",
    "def custom_tweedie(y_pred, y_true, rho = 1.1):\n",
    "    global grad, hess\n",
    "    y_true = y_true.get_label().astype(\"float\")\n",
    "    epsilon = 0.00001\n",
    "    y_pred = y_pred.astype(\"float\")\n",
    "    y_pred = np.where(y_pred < epsilon, epsilon, y_pred)\n",
    "    # grad = np.power(y_pred, -0.5) / 2.0 - 0.5 * y_true / np.power(y_pred, 1.5)\n",
    "    \n",
    "    grad = -y_true * np.power(y_pred, -rho) + np.power(y_pred, 1 - rho)\n",
    "    hess = y_true * rho * np.power(y_pred, -rho-1) + (1-rho) * np.power(y_pred, -rho)\n",
    "    grad = 1.5 * grad\n",
    "    # hess = 1000000000.0 * hess\n",
    "    return grad, hess"
   ]
  },
  {
   "cell_type": "code",
   "execution_count": 677,
   "metadata": {},
   "outputs": [],
   "source": [
    "grad = 0\n",
    "hess = 0\n",
    "def custom_tweedie2(y_pred, y_true, rho):\n",
    "    global grad, hess\n",
    "    y_true = y_true.get_label().astype(\"float\")\n",
    "    y_pred = y_pred.astype(\"float\")\n",
    "    grad = -y_true * np.exp(y_pred * (1-rho)) + np.exp(y_pred * (2 - rho))\n",
    "    hess = -y_true * (1 - rho) * np.exp(y_pred * (1 - rho)) + (2 - rho) * np.exp(y_pred * (2-rho))\n",
    "    return grad, hess"
   ]
  },
  {
   "cell_type": "code",
   "execution_count": 714,
   "metadata": {},
   "outputs": [],
   "source": [
    "minWeight = min([i for i in m5.weights[12] if i != 0])\n",
    "maximum = m5.weights[12].max()\n",
    "def level12Level9(y_pred, y_true):\n",
    "    y_true = y_true.get_label()\n",
    "    num_days = int(len(y_pred) / 30490)\n",
    "    residual = (y_true - y_pred).astype(\"float\")\n",
    "    reshaped = residual.reshape((30490, num_days))\n",
    "    for i in range(30490): \n",
    "        residual[i * num_days:(i+1) * num_days] = max(minWeight, m5.weights[12][i]) / maximum * residual[i * num_days:(i+1) * num_days]\n",
    "    for start_item, end_item in zip(l9_idxs[:-1], l9_idxs[1:]):\n",
    "        summed_residuals = reshaped[start_item:end_item].sum(axis = 0)\n",
    "        residual[start_item * num_days:end_item * num_days] += np.tile(summed_residuals / 200.0, end_item - start_item)\n",
    "    grad = np.where(residual < 0, -5.0 * residual, -5.0 * 1.2 * residual)\n",
    "    hess = np.where(residual < 0, 5.0, 5.0 * 1.2) \n",
    "    return grad, hess"
   ]
  },
  {
   "cell_type": "code",
   "execution_count": 410,
   "metadata": {},
   "outputs": [
    {
     "name": "stdout",
     "output_type": "stream",
     "text": [
      "Finished lag features\n",
      "10% done with rolling\n",
      "20% done with rolling\n",
      "30% done with rolling\n",
      "40% done with rolling\n",
      "50% done with rolling\n",
      "60% done with rolling\n",
      "70% done with rolling\n",
      "80% done with rolling\n",
      "90% done with rolling\n",
      "100% done with rolling\n",
      "Finished rolling lag features\n",
      "Finished item features\n",
      "Finished day features\n",
      "Finished date features\n",
      "Finished event features\n",
      "Finished lag features\n",
      "10% done with rolling\n",
      "20% done with rolling\n",
      "30% done with rolling\n",
      "40% done with rolling\n",
      "50% done with rolling\n",
      "60% done with rolling\n",
      "70% done with rolling\n",
      "80% done with rolling\n",
      "90% done with rolling\n",
      "100% done with rolling\n",
      "Finished rolling lag features\n",
      "Finished item features\n",
      "Finished day features\n",
      "Finished date features\n",
      "Finished event features\n",
      "CPU times: user 11min 26s, sys: 52.1 s, total: 12min 18s\n",
      "Wall time: 12min 26s\n"
     ]
    }
   ],
   "source": [
    "%%time\n",
    "# WATERED DOWN RECURSIVE\n",
    "lags = list(range(7, 15, 7)) + list(range(15, 40, 1))\n",
    "rolling = [range(1,15), range(4,11), range(7, 14), range(28, 28 * 6, 28)]\n",
    "start_day = 1200\n",
    "end_day = 1885\n",
    "num_train_days = end_day - start_day + 1\n",
    "num_val_days = 1913 - end_day + 1\n",
    "training_data, training_labels, categories = generateTrainingData(start_day, end_day, lags, rolling, all_data, verbose=True)\n",
    "\n",
    "val_data, val_labels, _ = generateTrainingData(end_day + 1, 1913, lags, rolling, all_data, verbose=True)\n",
    "\n",
    "w_data = training_data, training_labels, categories, val_data, val_labels"
   ]
  },
  {
   "cell_type": "code",
   "execution_count": 135,
   "metadata": {},
   "outputs": [
    {
     "name": "stdout",
     "output_type": "stream",
     "text": [
      "Finished lag features\n",
      "Finished rolling lag features\n",
      "Finished item features\n",
      "Finished date features\n",
      "Finished day features\n",
      "Finished lag features\n",
      "Finished rolling lag features\n",
      "Finished item features\n",
      "Finished date features\n",
      "Finished day features\n",
      "CPU times: user 7min 53s, sys: 16.6 s, total: 8min 10s\n",
      "Wall time: 8min 12s\n"
     ]
    }
   ],
   "source": [
    "%%time\n",
    "# FULL ON RECURSIVE\n",
    "lags = list(range(1,28)) + list(range(28, 55, 7))\n",
    "rolling = [range(1,15), range(4,11), range(7, 14), range(28, 28 * 6, 28)]\n",
    "start_day = 1500\n",
    "end_day = 1885\n",
    "num_train_days = end_day - start_day + 1\n",
    "num_val_days = 1913 - end_day + 1\n",
    "training_data, training_labels, categories = generateTrainingData(start_day, end_day, lags, rolling, all_data, verbose=True)\n",
    "\n",
    "val_data, val_labels, _ = generateTrainingData(end_day + 1, 1913, lags, rolling, all_data, verbose=True)\n",
    "\n",
    "r_data = training_data, training_labels, categories, val_data, val_labels"
   ]
  },
  {
   "cell_type": "code",
   "execution_count": 145,
   "metadata": {},
   "outputs": [],
   "source": [
    "lags = list(range(1,28)) + list(range(28, 55, 7))\n",
    "rolling = [range(1,15), range(4,11), range(7, 14), range(28, 28 * 6, 28)]\n",
    "start_day = 1500\n",
    "end_day = 1885\n",
    "num_train_days = end_day - start_day + 1\n",
    "num_val_days = 1913 - end_day + 1"
   ]
  },
  {
   "cell_type": "code",
   "execution_count": 136,
   "metadata": {},
   "outputs": [
    {
     "name": "stdout",
     "output_type": "stream",
     "text": [
      "Finished lag features\n",
      "Finished rolling lag features\n",
      "Finished item features\n",
      "Finished date features\n",
      "Finished day features\n",
      "Finished lag features\n",
      "Finished rolling lag features\n",
      "Finished item features\n",
      "Finished date features\n",
      "Finished day features\n",
      "CPU times: user 7min 48s, sys: 13.3 s, total: 8min 1s\n",
      "Wall time: 8min 3s\n"
     ]
    }
   ],
   "source": [
    "%%time\n",
    "# 28 DAY (NO RECURSIVE)\n",
    "lags = list(range(28, 56))\n",
    "rolling = [range(28,35), range(35,42), range(42, 49), range(28, 28 * 6, 28)]\n",
    "start_day = 1500\n",
    "end_day = 1885\n",
    "num_train_days = end_day - start_day + 1\n",
    "num_val_days = 1913 - end_day + 1\n",
    "training_data, training_labels, categories = generateTrainingData(start_day, end_day, lags, rolling, all_data, verbose=True)\n",
    "\n",
    "val_data, val_labels, _ = generateTrainingData(end_day + 1, 1913, lags, rolling, all_data, verbose=True)\n",
    "\n",
    "d_data = training_data, training_labels, categories, val_data, val_labels"
   ]
  },
  {
   "cell_type": "code",
   "execution_count": 411,
   "metadata": {},
   "outputs": [],
   "source": [
    "training_data, training_labels, categories, val_data, val_labels = w_data\n",
    "\n",
    "training_dataset = lgb.Dataset(training_data, \n",
    "                               label=training_labels, \n",
    "                               free_raw_data=False)\n",
    "\n",
    "val_dataset = lgb.Dataset(val_data,\n",
    "                          label=val_labels, \n",
    "                          free_raw_data=False, \n",
    "                          reference=training_dataset)"
   ]
  },
  {
   "cell_type": "code",
   "execution_count": 375,
   "metadata": {},
   "outputs": [],
   "source": [
    "params = {\n",
    "    'boosting_type': 'gbdt',\n",
    "    'n_jobs': -1,\n",
    "    'seed': 42,\n",
    "    'bagging_fraction': 0.2,\n",
    "    'bagging_freq': 2, \n",
    "    'colsample_bytree': 0.95,\n",
    "    'colsample_bynode': 0.5,\n",
    "    'num_leaves': 1000,\n",
    "    'lambda_l1': 0.2,\n",
    "    'lambda_l2': 0.2,\n",
    "    'metric': \"None\",\n",
    "    'max_bin': 6098,\n",
    "    'first_metric_only': True,\n",
    "}\n",
    "\n",
    "def learningRate(num_round):\n",
    "    if num_round < 500:\n",
    "        return .2 - 0.02 * num_round / 100\n",
    "    return 0.08 + 0.01 * num_round / 500"
   ]
  },
  {
   "cell_type": "code",
   "execution_count": 403,
   "metadata": {},
   "outputs": [],
   "source": [
    "fudgers = [3049 * i + 2297 for i in range(10)]\n",
    "def MSELoss(y_pred, y_true):\n",
    "    global num_rounds\n",
    "    num_rounds += 1\n",
    "    y_true = y_true.get_label()\n",
    "    num_days = int(len(y_pred) / 30490)\n",
    "    residual = (y_true - y_pred).astype(\"float\")\n",
    "    reshaped = residual.reshape((30490, num_days))\n",
    "#     grad, hess = tuple(level12MSE(reshaped, num_days, weights = m5.weights[12], p = 1.0, a = 1.0))\n",
    "#     return grad, hess\n",
    "#     return tuple(level12MSE(reshaped, num_days, weights = m5.weights[12], p = 16.0, a = 1.0) \n",
    "#                  + level9MSE(reshaped, num_days, p = 8.0, weights = m5.weights[9], a = 1.0) \n",
    "#                  + level5MSE(reshaped, num_days, p = 1.0, weights = m5.weights[5], a = 1.0)\n",
    "#                  + level1MSE(reshaped, num_days, p = 0.01, weights = m5.weights[1], a = 1.0))\n",
    "#     c = min(0.3 + 0.001 * num_rounds, 1)\n",
    "#     der = level12MSE(reshaped, num_days, weights = np.power(m5.weights[12] / m5.weights[12].max(), 0.3), p = 1.0, a = 1.05)\n",
    "#     der += level9MSE(reshaped, num_days, p = 1.0, weights = m5.weights[9], a = 1.0) \n",
    "#     return tuple(der)\n",
    "    c = 0.2 if num_rounds < 400 else 0.5 if num_rounds < 700 else 0.8\n",
    "    return tuple(level12MSE(reshaped, num_days, weights = np.power(m5.weights[12] / m5.weights[12].max(), c) * m5.weights[12].max(), p = 1.0, a = 1.05)\n",
    "                 + level9MSE(reshaped, num_days, p = 1.0, weights = m5.weights[9]))"
   ]
  },
  {
   "cell_type": "code",
   "execution_count": 238,
   "metadata": {},
   "outputs": [],
   "source": [
    "def fake_tweedie(y_pred, y_true):\n",
    "    y_true = y_true.get_label()\n",
    "    epsilon = 0.1\n",
    "    constant = 40\n",
    "    residual = y_true - y_pred\n",
    "    residual = np.where(residual < 1, residual, np.sqrt(residual))\n",
    "    # grad = (constant * np.log((y_pred + epsilon) / (y_true + epsilon))) ** 3 # + np.log((y_pred + epsilon) / (y_true + epsilon))\n",
    "    # hess = 3 * (constant * (np.log((y_pred + epsilon) / (y_true + epsilon))) ** 2) * constant / (y_pred + epsilon)\n",
    "    return grad, hess"
   ]
  },
  {
   "cell_type": "code",
   "execution_count": 317,
   "metadata": {},
   "outputs": [
    {
     "data": {
      "text/plain": [
       "[31, 32, 33, 34, 35, 36, 37, 38, 39, 40, 41, 42, 43]"
      ]
     },
     "execution_count": 317,
     "metadata": {},
     "output_type": "execute_result"
    }
   ],
   "source": [
    "categories"
   ]
  },
  {
   "cell_type": "code",
   "execution_count": 412,
   "metadata": {
    "scrolled": true
   },
   "outputs": [
    {
     "name": "stdout",
     "output_type": "stream",
     "text": [
      "Training until validation scores don't improve for 120 rounds\n",
      "[3]\tvalid_0's WRMSSE: 2.12396\tvalid_0's Lev 1: 0.229026\tvalid_0's Lev 3: 0.201362\tvalid_0's Lev 6: 0.198435\tvalid_0's Lev 9: 0.173845\tvalid_0's Lev 12: 0.0869277\tvalid_0's Fudged: 6264.46\n",
      "[6]\tvalid_0's WRMSSE: 1.13085\tvalid_0's Lev 1: 0.104181\tvalid_0's Lev 3: 0.0967439\tvalid_0's Lev 6: 0.0959068\tvalid_0's Lev 9: 0.0948168\tvalid_0's Lev 12: 0.076975\tvalid_0's Fudged: 3681.66\n",
      "[9]\tvalid_0's WRMSSE: 0.81206\tvalid_0's Lev 1: 0.0608805\tvalid_0's Lev 3: 0.0639503\tvalid_0's Lev 6: 0.0637589\tvalid_0's Lev 9: 0.0714522\tvalid_0's Lev 12: 0.0734394\tvalid_0's Fudged: 2592.86\n",
      "[12]\tvalid_0's WRMSSE: 0.691281\tvalid_0's Lev 1: 0.0438386\tvalid_0's Lev 3: 0.0526249\tvalid_0's Lev 6: 0.0517897\tvalid_0's Lev 9: 0.0627575\tvalid_0's Lev 12: 0.0719359\tvalid_0's Fudged: 2098.87\n",
      "[15]\tvalid_0's WRMSSE: 0.646499\tvalid_0's Lev 1: 0.0375916\tvalid_0's Lev 3: 0.0486688\tvalid_0's Lev 6: 0.0476284\tvalid_0's Lev 9: 0.0593786\tvalid_0's Lev 12: 0.0712096\tvalid_0's Fudged: 1856.02\n",
      "[18]\tvalid_0's WRMSSE: 0.618214\tvalid_0's Lev 1: 0.0335906\tvalid_0's Lev 3: 0.0463799\tvalid_0's Lev 6: 0.0449074\tvalid_0's Lev 9: 0.0572844\tvalid_0's Lev 12: 0.0708274\tvalid_0's Fudged: 1708.09\n",
      "[21]\tvalid_0's WRMSSE: 0.599611\tvalid_0's Lev 1: 0.0310012\tvalid_0's Lev 3: 0.0448139\tvalid_0's Lev 6: 0.0431089\tvalid_0's Lev 9: 0.0558158\tvalid_0's Lev 12: 0.0706216\tvalid_0's Fudged: 1607.52\n",
      "[24]\tvalid_0's WRMSSE: 0.58386\tvalid_0's Lev 1: 0.0291798\tvalid_0's Lev 3: 0.0433537\tvalid_0's Lev 6: 0.0414522\tvalid_0's Lev 9: 0.0544022\tvalid_0's Lev 12: 0.0704684\tvalid_0's Fudged: 1505.86\n",
      "[27]\tvalid_0's WRMSSE: 0.576657\tvalid_0's Lev 1: 0.0282809\tvalid_0's Lev 3: 0.0426673\tvalid_0's Lev 6: 0.0407956\tvalid_0's Lev 9: 0.0538016\tvalid_0's Lev 12: 0.0703329\tvalid_0's Fudged: 1453.64\n",
      "[30]\tvalid_0's WRMSSE: 0.573759\tvalid_0's Lev 1: 0.0282724\tvalid_0's Lev 3: 0.0423442\tvalid_0's Lev 6: 0.0405152\tvalid_0's Lev 9: 0.0534411\tvalid_0's Lev 12: 0.070231\tvalid_0's Fudged: 1424.87\n",
      "[33]\tvalid_0's WRMSSE: 0.568057\tvalid_0's Lev 1: 0.0276636\tvalid_0's Lev 3: 0.0416918\tvalid_0's Lev 6: 0.0399349\tvalid_0's Lev 9: 0.052916\tvalid_0's Lev 12: 0.0701466\tvalid_0's Fudged: 1388.59\n",
      "[36]\tvalid_0's WRMSSE: 0.566047\tvalid_0's Lev 1: 0.0276086\tvalid_0's Lev 3: 0.0414891\tvalid_0's Lev 6: 0.0397293\tvalid_0's Lev 9: 0.0526623\tvalid_0's Lev 12: 0.0700904\tvalid_0's Fudged: 1349.59\n",
      "[39]\tvalid_0's WRMSSE: 0.563261\tvalid_0's Lev 1: 0.0273502\tvalid_0's Lev 3: 0.0412249\tvalid_0's Lev 6: 0.0394905\tvalid_0's Lev 9: 0.0523509\tvalid_0's Lev 12: 0.070026\tvalid_0's Fudged: 1320.3\n",
      "[42]\tvalid_0's WRMSSE: 0.557339\tvalid_0's Lev 1: 0.0266998\tvalid_0's Lev 3: 0.0405156\tvalid_0's Lev 6: 0.0388201\tvalid_0's Lev 9: 0.051816\tvalid_0's Lev 12: 0.0699659\tvalid_0's Fudged: 1296.55\n",
      "[45]\tvalid_0's WRMSSE: 0.553643\tvalid_0's Lev 1: 0.02615\tvalid_0's Lev 3: 0.0401369\tvalid_0's Lev 6: 0.0385087\tvalid_0's Lev 9: 0.0514904\tvalid_0's Lev 12: 0.0699201\tvalid_0's Fudged: 1278.14\n",
      "[48]\tvalid_0's WRMSSE: 0.548638\tvalid_0's Lev 1: 0.0257117\tvalid_0's Lev 3: 0.0395699\tvalid_0's Lev 6: 0.0379631\tvalid_0's Lev 9: 0.0510096\tvalid_0's Lev 12: 0.0698773\tvalid_0's Fudged: 1239.7\n",
      "[51]\tvalid_0's WRMSSE: 0.5432\tvalid_0's Lev 1: 0.0251552\tvalid_0's Lev 3: 0.0388681\tvalid_0's Lev 6: 0.0374753\tvalid_0's Lev 9: 0.0504199\tvalid_0's Lev 12: 0.0698208\tvalid_0's Fudged: 1210.44\n",
      "[54]\tvalid_0's WRMSSE: 0.540218\tvalid_0's Lev 1: 0.024715\tvalid_0's Lev 3: 0.0385709\tvalid_0's Lev 6: 0.0371855\tvalid_0's Lev 9: 0.0501627\tvalid_0's Lev 12: 0.0697753\tvalid_0's Fudged: 1184.93\n",
      "[57]\tvalid_0's WRMSSE: 0.538825\tvalid_0's Lev 1: 0.0247468\tvalid_0's Lev 3: 0.0383106\tvalid_0's Lev 6: 0.0369997\tvalid_0's Lev 9: 0.0499389\tvalid_0's Lev 12: 0.0697382\tvalid_0's Fudged: 1157.92\n",
      "[60]\tvalid_0's WRMSSE: 0.537473\tvalid_0's Lev 1: 0.0246497\tvalid_0's Lev 3: 0.0381769\tvalid_0's Lev 6: 0.0368586\tvalid_0's Lev 9: 0.0497791\tvalid_0's Lev 12: 0.0697089\tvalid_0's Fudged: 1151.9\n",
      "[63]\tvalid_0's WRMSSE: 0.53821\tvalid_0's Lev 1: 0.0247584\tvalid_0's Lev 3: 0.0382893\tvalid_0's Lev 6: 0.0369744\tvalid_0's Lev 9: 0.0498239\tvalid_0's Lev 12: 0.069677\tvalid_0's Fudged: 1141.24\n",
      "[66]\tvalid_0's WRMSSE: 0.535211\tvalid_0's Lev 1: 0.024461\tvalid_0's Lev 3: 0.0379645\tvalid_0's Lev 6: 0.0366459\tvalid_0's Lev 9: 0.049535\tvalid_0's Lev 12: 0.0696467\tvalid_0's Fudged: 1126.59\n",
      "[69]\tvalid_0's WRMSSE: 0.534087\tvalid_0's Lev 1: 0.0244081\tvalid_0's Lev 3: 0.0378188\tvalid_0's Lev 6: 0.036539\tvalid_0's Lev 9: 0.0493782\tvalid_0's Lev 12: 0.0696177\tvalid_0's Fudged: 1112.49\n",
      "[72]\tvalid_0's WRMSSE: 0.534883\tvalid_0's Lev 1: 0.0246752\tvalid_0's Lev 3: 0.0379064\tvalid_0's Lev 6: 0.0366157\tvalid_0's Lev 9: 0.0493722\tvalid_0's Lev 12: 0.0696057\tvalid_0's Fudged: 1102.96\n",
      "[75]\tvalid_0's WRMSSE: 0.531652\tvalid_0's Lev 1: 0.0241813\tvalid_0's Lev 3: 0.0376615\tvalid_0's Lev 6: 0.0362503\tvalid_0's Lev 9: 0.0491829\tvalid_0's Lev 12: 0.069583\tvalid_0's Fudged: 1103.39\n",
      "[78]\tvalid_0's WRMSSE: 0.527275\tvalid_0's Lev 1: 0.0237424\tvalid_0's Lev 3: 0.0369946\tvalid_0's Lev 6: 0.0358061\tvalid_0's Lev 9: 0.0487262\tvalid_0's Lev 12: 0.0695614\tvalid_0's Fudged: 1099.02\n",
      "[81]\tvalid_0's WRMSSE: 0.526704\tvalid_0's Lev 1: 0.0239245\tvalid_0's Lev 3: 0.0367314\tvalid_0's Lev 6: 0.0357524\tvalid_0's Lev 9: 0.0485375\tvalid_0's Lev 12: 0.0695477\tvalid_0's Fudged: 1090.93\n",
      "[84]\tvalid_0's WRMSSE: 0.526499\tvalid_0's Lev 1: 0.0238708\tvalid_0's Lev 3: 0.0367055\tvalid_0's Lev 6: 0.0357458\tvalid_0's Lev 9: 0.0485267\tvalid_0's Lev 12: 0.0695318\tvalid_0's Fudged: 1088.28\n",
      "[87]\tvalid_0's WRMSSE: 0.526665\tvalid_0's Lev 1: 0.0240767\tvalid_0's Lev 3: 0.0367702\tvalid_0's Lev 6: 0.0357512\tvalid_0's Lev 9: 0.0484717\tvalid_0's Lev 12: 0.069516\tvalid_0's Fudged: 1081.97\n",
      "[90]\tvalid_0's WRMSSE: 0.524938\tvalid_0's Lev 1: 0.0238975\tvalid_0's Lev 3: 0.0366655\tvalid_0's Lev 6: 0.0356011\tvalid_0's Lev 9: 0.0483305\tvalid_0's Lev 12: 0.0695045\tvalid_0's Fudged: 1079.57\n",
      "[93]\tvalid_0's WRMSSE: 0.523393\tvalid_0's Lev 1: 0.0236436\tvalid_0's Lev 3: 0.0364462\tvalid_0's Lev 6: 0.0354646\tvalid_0's Lev 9: 0.0482159\tvalid_0's Lev 12: 0.0694924\tvalid_0's Fudged: 1077.85\n",
      "[96]\tvalid_0's WRMSSE: 0.524108\tvalid_0's Lev 1: 0.0238854\tvalid_0's Lev 3: 0.0365685\tvalid_0's Lev 6: 0.035537\tvalid_0's Lev 9: 0.0481946\tvalid_0's Lev 12: 0.0694816\tvalid_0's Fudged: 1070.78\n",
      "[99]\tvalid_0's WRMSSE: 0.523\tvalid_0's Lev 1: 0.0238358\tvalid_0's Lev 3: 0.0364776\tvalid_0's Lev 6: 0.0354353\tvalid_0's Lev 9: 0.0480561\tvalid_0's Lev 12: 0.0694636\tvalid_0's Fudged: 1060.85\n",
      "[102]\tvalid_0's WRMSSE: 0.521832\tvalid_0's Lev 1: 0.0236505\tvalid_0's Lev 3: 0.0363421\tvalid_0's Lev 6: 0.0353383\tvalid_0's Lev 9: 0.0479905\tvalid_0's Lev 12: 0.0694468\tvalid_0's Fudged: 1055.65\n",
      "[105]\tvalid_0's WRMSSE: 0.520001\tvalid_0's Lev 1: 0.0236055\tvalid_0's Lev 3: 0.0360659\tvalid_0's Lev 6: 0.0351167\tvalid_0's Lev 9: 0.0477569\tvalid_0's Lev 12: 0.0694295\tvalid_0's Fudged: 1050.87\n",
      "[108]\tvalid_0's WRMSSE: 0.519313\tvalid_0's Lev 1: 0.0235783\tvalid_0's Lev 3: 0.0360065\tvalid_0's Lev 6: 0.0350446\tvalid_0's Lev 9: 0.047637\tvalid_0's Lev 12: 0.0694161\tvalid_0's Fudged: 1034.54\n",
      "[111]\tvalid_0's WRMSSE: 0.51636\tvalid_0's Lev 1: 0.023279\tvalid_0's Lev 3: 0.0355699\tvalid_0's Lev 6: 0.034695\tvalid_0's Lev 9: 0.0473201\tvalid_0's Lev 12: 0.0694009\tvalid_0's Fudged: 1019.58\n",
      "[114]\tvalid_0's WRMSSE: 0.51395\tvalid_0's Lev 1: 0.0230514\tvalid_0's Lev 3: 0.0353155\tvalid_0's Lev 6: 0.0344439\tvalid_0's Lev 9: 0.0470629\tvalid_0's Lev 12: 0.0693809\tvalid_0's Fudged: 1004.93\n",
      "[117]\tvalid_0's WRMSSE: 0.51352\tvalid_0's Lev 1: 0.0231372\tvalid_0's Lev 3: 0.0352832\tvalid_0's Lev 6: 0.0343561\tvalid_0's Lev 9: 0.0469753\tvalid_0's Lev 12: 0.0693771\tvalid_0's Fudged: 996.82\n",
      "[120]\tvalid_0's WRMSSE: 0.514733\tvalid_0's Lev 1: 0.0233465\tvalid_0's Lev 3: 0.0354247\tvalid_0's Lev 6: 0.0345097\tvalid_0's Lev 9: 0.0470153\tvalid_0's Lev 12: 0.0693765\tvalid_0's Fudged: 995.993\n",
      "[123]\tvalid_0's WRMSSE: 0.515805\tvalid_0's Lev 1: 0.0235619\tvalid_0's Lev 3: 0.0355262\tvalid_0's Lev 6: 0.0346087\tvalid_0's Lev 9: 0.0471155\tvalid_0's Lev 12: 0.0693735\tvalid_0's Fudged: 997.862\n",
      "[126]\tvalid_0's WRMSSE: 0.515301\tvalid_0's Lev 1: 0.0235666\tvalid_0's Lev 3: 0.0355053\tvalid_0's Lev 6: 0.0345477\tvalid_0's Lev 9: 0.0470365\tvalid_0's Lev 12: 0.0693682\tvalid_0's Fudged: 993.923\n",
      "[129]\tvalid_0's WRMSSE: 0.514563\tvalid_0's Lev 1: 0.0234308\tvalid_0's Lev 3: 0.0354467\tvalid_0's Lev 6: 0.0344908\tvalid_0's Lev 9: 0.0469808\tvalid_0's Lev 12: 0.0693589\tvalid_0's Fudged: 990.589\n"
     ]
    },
    {
     "name": "stdout",
     "output_type": "stream",
     "text": [
      "[132]\tvalid_0's WRMSSE: 0.514344\tvalid_0's Lev 1: 0.0234984\tvalid_0's Lev 3: 0.0354617\tvalid_0's Lev 6: 0.0344438\tvalid_0's Lev 9: 0.0469242\tvalid_0's Lev 12: 0.0693483\tvalid_0's Fudged: 988.3\n",
      "[135]\tvalid_0's WRMSSE: 0.515141\tvalid_0's Lev 1: 0.023692\tvalid_0's Lev 3: 0.0355422\tvalid_0's Lev 6: 0.0345167\tvalid_0's Lev 9: 0.0469506\tvalid_0's Lev 12: 0.0693454\tvalid_0's Fudged: 982.733\n",
      "[138]\tvalid_0's WRMSSE: 0.513338\tvalid_0's Lev 1: 0.023432\tvalid_0's Lev 3: 0.0354686\tvalid_0's Lev 6: 0.0343384\tvalid_0's Lev 9: 0.0468346\tvalid_0's Lev 12: 0.069337\tvalid_0's Fudged: 979.639\n",
      "[141]\tvalid_0's WRMSSE: 0.511743\tvalid_0's Lev 1: 0.0233292\tvalid_0's Lev 3: 0.0352708\tvalid_0's Lev 6: 0.0341995\tvalid_0's Lev 9: 0.0465979\tvalid_0's Lev 12: 0.0693223\tvalid_0's Fudged: 963.266\n",
      "[144]\tvalid_0's WRMSSE: 0.511621\tvalid_0's Lev 1: 0.0233018\tvalid_0's Lev 3: 0.0352788\tvalid_0's Lev 6: 0.0342036\tvalid_0's Lev 9: 0.0465792\tvalid_0's Lev 12: 0.0693176\tvalid_0's Fudged: 967.477\n",
      "[147]\tvalid_0's WRMSSE: 0.512235\tvalid_0's Lev 1: 0.0235001\tvalid_0's Lev 3: 0.035336\tvalid_0's Lev 6: 0.034248\tvalid_0's Lev 9: 0.0465867\tvalid_0's Lev 12: 0.0693162\tvalid_0's Fudged: 965.417\n",
      "[150]\tvalid_0's WRMSSE: 0.511089\tvalid_0's Lev 1: 0.0233294\tvalid_0's Lev 3: 0.0351618\tvalid_0's Lev 6: 0.0341238\tvalid_0's Lev 9: 0.0464837\tvalid_0's Lev 12: 0.0693081\tvalid_0's Fudged: 958.389\n",
      "[153]\tvalid_0's WRMSSE: 0.51051\tvalid_0's Lev 1: 0.0231835\tvalid_0's Lev 3: 0.035074\tvalid_0's Lev 6: 0.0340881\tvalid_0's Lev 9: 0.0464747\tvalid_0's Lev 12: 0.0693078\tvalid_0's Fudged: 958.548\n",
      "[156]\tvalid_0's WRMSSE: 0.508632\tvalid_0's Lev 1: 0.0229034\tvalid_0's Lev 3: 0.0348786\tvalid_0's Lev 6: 0.0338982\tvalid_0's Lev 9: 0.0463481\tvalid_0's Lev 12: 0.0693004\tvalid_0's Fudged: 951.143\n",
      "[159]\tvalid_0's WRMSSE: 0.509759\tvalid_0's Lev 1: 0.0231902\tvalid_0's Lev 3: 0.0349932\tvalid_0's Lev 6: 0.0340594\tvalid_0's Lev 9: 0.0463381\tvalid_0's Lev 12: 0.0692961\tvalid_0's Fudged: 951.76\n",
      "[162]\tvalid_0's WRMSSE: 0.508782\tvalid_0's Lev 1: 0.0230334\tvalid_0's Lev 3: 0.0349426\tvalid_0's Lev 6: 0.0339382\tvalid_0's Lev 9: 0.0462845\tvalid_0's Lev 12: 0.0692908\tvalid_0's Fudged: 950.475\n",
      "[165]\tvalid_0's WRMSSE: 0.509449\tvalid_0's Lev 1: 0.0231856\tvalid_0's Lev 3: 0.0349505\tvalid_0's Lev 6: 0.0340153\tvalid_0's Lev 9: 0.0462942\tvalid_0's Lev 12: 0.0692887\tvalid_0's Fudged: 948.658\n",
      "[168]\tvalid_0's WRMSSE: 0.508996\tvalid_0's Lev 1: 0.0230842\tvalid_0's Lev 3: 0.0348471\tvalid_0's Lev 6: 0.0339843\tvalid_0's Lev 9: 0.0462573\tvalid_0's Lev 12: 0.0692849\tvalid_0's Fudged: 944.617\n",
      "[171]\tvalid_0's WRMSSE: 0.508826\tvalid_0's Lev 1: 0.0230686\tvalid_0's Lev 3: 0.0348395\tvalid_0's Lev 6: 0.0339625\tvalid_0's Lev 9: 0.0462598\tvalid_0's Lev 12: 0.0692823\tvalid_0's Fudged: 942.747\n",
      "[174]\tvalid_0's WRMSSE: 0.508162\tvalid_0's Lev 1: 0.0230377\tvalid_0's Lev 3: 0.0348188\tvalid_0's Lev 6: 0.0338831\tvalid_0's Lev 9: 0.0461837\tvalid_0's Lev 12: 0.069273\tvalid_0's Fudged: 942.242\n",
      "[177]\tvalid_0's WRMSSE: 0.507665\tvalid_0's Lev 1: 0.0230143\tvalid_0's Lev 3: 0.0348293\tvalid_0's Lev 6: 0.0338266\tvalid_0's Lev 9: 0.0461174\tvalid_0's Lev 12: 0.0692721\tvalid_0's Fudged: 941.83\n",
      "[180]\tvalid_0's WRMSSE: 0.509078\tvalid_0's Lev 1: 0.0232624\tvalid_0's Lev 3: 0.0349294\tvalid_0's Lev 6: 0.0339756\tvalid_0's Lev 9: 0.046202\tvalid_0's Lev 12: 0.0692716\tvalid_0's Fudged: 942.083\n",
      "[183]\tvalid_0's WRMSSE: 0.508827\tvalid_0's Lev 1: 0.0233344\tvalid_0's Lev 3: 0.0348715\tvalid_0's Lev 6: 0.0339193\tvalid_0's Lev 9: 0.0461398\tvalid_0's Lev 12: 0.0692677\tvalid_0's Fudged: 937.782\n",
      "[186]\tvalid_0's WRMSSE: 0.508088\tvalid_0's Lev 1: 0.0232357\tvalid_0's Lev 3: 0.0348086\tvalid_0's Lev 6: 0.0338273\tvalid_0's Lev 9: 0.04608\tvalid_0's Lev 12: 0.0692602\tvalid_0's Fudged: 929.721\n",
      "[189]\tvalid_0's WRMSSE: 0.508164\tvalid_0's Lev 1: 0.023294\tvalid_0's Lev 3: 0.034844\tvalid_0's Lev 6: 0.0338341\tvalid_0's Lev 9: 0.0460811\tvalid_0's Lev 12: 0.0692538\tvalid_0's Fudged: 927.431\n",
      "[192]\tvalid_0's WRMSSE: 0.506763\tvalid_0's Lev 1: 0.0232118\tvalid_0's Lev 3: 0.0346984\tvalid_0's Lev 6: 0.0336133\tvalid_0's Lev 9: 0.0459515\tvalid_0's Lev 12: 0.0692477\tvalid_0's Fudged: 920.559\n",
      "[195]\tvalid_0's WRMSSE: 0.504792\tvalid_0's Lev 1: 0.0228179\tvalid_0's Lev 3: 0.0344725\tvalid_0's Lev 6: 0.0334319\tvalid_0's Lev 9: 0.0458383\tvalid_0's Lev 12: 0.0692461\tvalid_0's Fudged: 918.852\n",
      "[198]\tvalid_0's WRMSSE: 0.504416\tvalid_0's Lev 1: 0.0228076\tvalid_0's Lev 3: 0.0344114\tvalid_0's Lev 6: 0.0333893\tvalid_0's Lev 9: 0.045796\tvalid_0's Lev 12: 0.0692399\tvalid_0's Fudged: 914.446\n",
      "[201]\tvalid_0's WRMSSE: 0.504914\tvalid_0's Lev 1: 0.0229122\tvalid_0's Lev 3: 0.034469\tvalid_0's Lev 6: 0.0334594\tvalid_0's Lev 9: 0.0458091\tvalid_0's Lev 12: 0.0692337\tvalid_0's Fudged: 914.831\n",
      "[204]\tvalid_0's WRMSSE: 0.504848\tvalid_0's Lev 1: 0.022917\tvalid_0's Lev 3: 0.0344835\tvalid_0's Lev 6: 0.0334462\tvalid_0's Lev 9: 0.0458157\tvalid_0's Lev 12: 0.0692319\tvalid_0's Fudged: 914.739\n",
      "[207]\tvalid_0's WRMSSE: 0.503882\tvalid_0's Lev 1: 0.0228487\tvalid_0's Lev 3: 0.0343863\tvalid_0's Lev 6: 0.0333\tvalid_0's Lev 9: 0.0457124\tvalid_0's Lev 12: 0.0692261\tvalid_0's Fudged: 913.302\n",
      "[210]\tvalid_0's WRMSSE: 0.502592\tvalid_0's Lev 1: 0.0226951\tvalid_0's Lev 3: 0.034245\tvalid_0's Lev 6: 0.0331603\tvalid_0's Lev 9: 0.0455898\tvalid_0's Lev 12: 0.0692236\tvalid_0's Fudged: 912.674\n",
      "[213]\tvalid_0's WRMSSE: 0.500851\tvalid_0's Lev 1: 0.0225127\tvalid_0's Lev 3: 0.0341344\tvalid_0's Lev 6: 0.0329662\tvalid_0's Lev 9: 0.0454327\tvalid_0's Lev 12: 0.0692151\tvalid_0's Fudged: 907.375\n",
      "[216]\tvalid_0's WRMSSE: 0.499626\tvalid_0's Lev 1: 0.0223331\tvalid_0's Lev 3: 0.0340175\tvalid_0's Lev 6: 0.032831\tvalid_0's Lev 9: 0.0453507\tvalid_0's Lev 12: 0.0692112\tvalid_0's Fudged: 904.864\n",
      "[219]\tvalid_0's WRMSSE: 0.499782\tvalid_0's Lev 1: 0.0223637\tvalid_0's Lev 3: 0.0340484\tvalid_0's Lev 6: 0.0328377\tvalid_0's Lev 9: 0.0453337\tvalid_0's Lev 12: 0.069205\tvalid_0's Fudged: 901.364\n",
      "[222]\tvalid_0's WRMSSE: 0.499478\tvalid_0's Lev 1: 0.0223482\tvalid_0's Lev 3: 0.0339803\tvalid_0's Lev 6: 0.0327927\tvalid_0's Lev 9: 0.0452869\tvalid_0's Lev 12: 0.0692002\tvalid_0's Fudged: 902.076\n",
      "[225]\tvalid_0's WRMSSE: 0.500667\tvalid_0's Lev 1: 0.0224889\tvalid_0's Lev 3: 0.0341649\tvalid_0's Lev 6: 0.032942\tvalid_0's Lev 9: 0.045386\tvalid_0's Lev 12: 0.0691986\tvalid_0's Fudged: 896.831\n",
      "[228]\tvalid_0's WRMSSE: 0.500814\tvalid_0's Lev 1: 0.0224839\tvalid_0's Lev 3: 0.0342237\tvalid_0's Lev 6: 0.0329557\tvalid_0's Lev 9: 0.0454408\tvalid_0's Lev 12: 0.069196\tvalid_0's Fudged: 895.45\n",
      "[231]\tvalid_0's WRMSSE: 0.499603\tvalid_0's Lev 1: 0.0224329\tvalid_0's Lev 3: 0.0340965\tvalid_0's Lev 6: 0.0328044\tvalid_0's Lev 9: 0.0453003\tvalid_0's Lev 12: 0.069185\tvalid_0's Fudged: 894.999\n",
      "[234]\tvalid_0's WRMSSE: 0.499924\tvalid_0's Lev 1: 0.0225346\tvalid_0's Lev 3: 0.0340953\tvalid_0's Lev 6: 0.03285\tvalid_0's Lev 9: 0.0452818\tvalid_0's Lev 12: 0.0691754\tvalid_0's Fudged: 894.209\n",
      "[237]\tvalid_0's WRMSSE: 0.4981\tvalid_0's Lev 1: 0.0222419\tvalid_0's Lev 3: 0.0338879\tvalid_0's Lev 6: 0.0326513\tvalid_0's Lev 9: 0.045182\tvalid_0's Lev 12: 0.0691674\tvalid_0's Fudged: 894.865\n",
      "[240]\tvalid_0's WRMSSE: 0.498811\tvalid_0's Lev 1: 0.0223735\tvalid_0's Lev 3: 0.0339944\tvalid_0's Lev 6: 0.0327292\tvalid_0's Lev 9: 0.0452149\tvalid_0's Lev 12: 0.0691652\tvalid_0's Fudged: 889.827\n",
      "[243]\tvalid_0's WRMSSE: 0.496932\tvalid_0's Lev 1: 0.0219825\tvalid_0's Lev 3: 0.0338132\tvalid_0's Lev 6: 0.0325521\tvalid_0's Lev 9: 0.045129\tvalid_0's Lev 12: 0.0691649\tvalid_0's Fudged: 890.112\n",
      "[246]\tvalid_0's WRMSSE: 0.496422\tvalid_0's Lev 1: 0.0219107\tvalid_0's Lev 3: 0.0337527\tvalid_0's Lev 6: 0.0325044\tvalid_0's Lev 9: 0.0450795\tvalid_0's Lev 12: 0.0691616\tvalid_0's Fudged: 889.712\n",
      "[249]\tvalid_0's WRMSSE: 0.496588\tvalid_0's Lev 1: 0.0219569\tvalid_0's Lev 3: 0.0337964\tvalid_0's Lev 6: 0.0324849\tvalid_0's Lev 9: 0.0450997\tvalid_0's Lev 12: 0.0691623\tvalid_0's Fudged: 886.478\n",
      "[252]\tvalid_0's WRMSSE: 0.497209\tvalid_0's Lev 1: 0.0221403\tvalid_0's Lev 3: 0.0338733\tvalid_0's Lev 6: 0.0325318\tvalid_0's Lev 9: 0.0451214\tvalid_0's Lev 12: 0.0691591\tvalid_0's Fudged: 886.149\n",
      "[255]\tvalid_0's WRMSSE: 0.497131\tvalid_0's Lev 1: 0.0221204\tvalid_0's Lev 3: 0.0338372\tvalid_0's Lev 6: 0.0325311\tvalid_0's Lev 9: 0.0451138\tvalid_0's Lev 12: 0.0691586\tvalid_0's Fudged: 886.546\n",
      "[258]\tvalid_0's WRMSSE: 0.496563\tvalid_0's Lev 1: 0.0220892\tvalid_0's Lev 3: 0.0337658\tvalid_0's Lev 6: 0.0324845\tvalid_0's Lev 9: 0.0450692\tvalid_0's Lev 12: 0.0691535\tvalid_0's Fudged: 884.524\n"
     ]
    },
    {
     "name": "stdout",
     "output_type": "stream",
     "text": [
      "[261]\tvalid_0's WRMSSE: 0.495646\tvalid_0's Lev 1: 0.0219572\tvalid_0's Lev 3: 0.0336805\tvalid_0's Lev 6: 0.0324035\tvalid_0's Lev 9: 0.0449877\tvalid_0's Lev 12: 0.0691516\tvalid_0's Fudged: 883.718\n",
      "[264]\tvalid_0's WRMSSE: 0.496476\tvalid_0's Lev 1: 0.0221285\tvalid_0's Lev 3: 0.033837\tvalid_0's Lev 6: 0.0324847\tvalid_0's Lev 9: 0.045062\tvalid_0's Lev 12: 0.0691512\tvalid_0's Fudged: 879.962\n",
      "[267]\tvalid_0's WRMSSE: 0.496904\tvalid_0's Lev 1: 0.0222868\tvalid_0's Lev 3: 0.0338877\tvalid_0's Lev 6: 0.0325185\tvalid_0's Lev 9: 0.0450529\tvalid_0's Lev 12: 0.0691449\tvalid_0's Fudged: 876.057\n",
      "[270]\tvalid_0's WRMSSE: 0.496596\tvalid_0's Lev 1: 0.0222601\tvalid_0's Lev 3: 0.0338068\tvalid_0's Lev 6: 0.0324825\tvalid_0's Lev 9: 0.0450162\tvalid_0's Lev 12: 0.0691443\tvalid_0's Fudged: 874.047\n",
      "[273]\tvalid_0's WRMSSE: 0.495695\tvalid_0's Lev 1: 0.0219952\tvalid_0's Lev 3: 0.0337189\tvalid_0's Lev 6: 0.0324284\tvalid_0's Lev 9: 0.044992\tvalid_0's Lev 12: 0.0691425\tvalid_0's Fudged: 874.088\n",
      "[276]\tvalid_0's WRMSSE: 0.496091\tvalid_0's Lev 1: 0.0221563\tvalid_0's Lev 3: 0.033741\tvalid_0's Lev 6: 0.0324542\tvalid_0's Lev 9: 0.0449762\tvalid_0's Lev 12: 0.0691402\tvalid_0's Fudged: 872.131\n",
      "[279]\tvalid_0's WRMSSE: 0.495064\tvalid_0's Lev 1: 0.0219735\tvalid_0's Lev 3: 0.0336446\tvalid_0's Lev 6: 0.0323563\tvalid_0's Lev 9: 0.0449199\tvalid_0's Lev 12: 0.0691387\tvalid_0's Fudged: 871.318\n",
      "[282]\tvalid_0's WRMSSE: 0.494716\tvalid_0's Lev 1: 0.0218449\tvalid_0's Lev 3: 0.0336192\tvalid_0's Lev 6: 0.0323279\tvalid_0's Lev 9: 0.0449249\tvalid_0's Lev 12: 0.0691338\tvalid_0's Fudged: 868.499\n",
      "[285]\tvalid_0's WRMSSE: 0.495332\tvalid_0's Lev 1: 0.022017\tvalid_0's Lev 3: 0.0336651\tvalid_0's Lev 6: 0.0323785\tvalid_0's Lev 9: 0.0449271\tvalid_0's Lev 12: 0.0691306\tvalid_0's Fudged: 867.934\n",
      "[288]\tvalid_0's WRMSSE: 0.495454\tvalid_0's Lev 1: 0.0221024\tvalid_0's Lev 3: 0.0336889\tvalid_0's Lev 6: 0.0323922\tvalid_0's Lev 9: 0.0449119\tvalid_0's Lev 12: 0.0691269\tvalid_0's Fudged: 864.084\n",
      "[291]\tvalid_0's WRMSSE: 0.494327\tvalid_0's Lev 1: 0.0219288\tvalid_0's Lev 3: 0.0335726\tvalid_0's Lev 6: 0.0322766\tvalid_0's Lev 9: 0.0448248\tvalid_0's Lev 12: 0.0691263\tvalid_0's Fudged: 864.127\n",
      "[294]\tvalid_0's WRMSSE: 0.494503\tvalid_0's Lev 1: 0.0219317\tvalid_0's Lev 3: 0.0335786\tvalid_0's Lev 6: 0.032304\tvalid_0's Lev 9: 0.0448654\tvalid_0's Lev 12: 0.0691248\tvalid_0's Fudged: 863.592\n",
      "[297]\tvalid_0's WRMSSE: 0.494115\tvalid_0's Lev 1: 0.0218588\tvalid_0's Lev 3: 0.0335617\tvalid_0's Lev 6: 0.0322918\tvalid_0's Lev 9: 0.0448223\tvalid_0's Lev 12: 0.0691202\tvalid_0's Fudged: 861.982\n",
      "[300]\tvalid_0's WRMSSE: 0.493682\tvalid_0's Lev 1: 0.0217613\tvalid_0's Lev 3: 0.0335339\tvalid_0's Lev 6: 0.0322545\tvalid_0's Lev 9: 0.0448079\tvalid_0's Lev 12: 0.0691186\tvalid_0's Fudged: 862.983\n",
      "[303]\tvalid_0's WRMSSE: 0.494204\tvalid_0's Lev 1: 0.0218261\tvalid_0's Lev 3: 0.0336271\tvalid_0's Lev 6: 0.0323071\tvalid_0's Lev 9: 0.0448635\tvalid_0's Lev 12: 0.0691182\tvalid_0's Fudged: 860.886\n",
      "[306]\tvalid_0's WRMSSE: 0.493801\tvalid_0's Lev 1: 0.021756\tvalid_0's Lev 3: 0.0335796\tvalid_0's Lev 6: 0.0322655\tvalid_0's Lev 9: 0.0448463\tvalid_0's Lev 12: 0.0691162\tvalid_0's Fudged: 863.369\n",
      "[309]\tvalid_0's WRMSSE: 0.493001\tvalid_0's Lev 1: 0.0216207\tvalid_0's Lev 3: 0.0335082\tvalid_0's Lev 6: 0.0321609\tvalid_0's Lev 9: 0.0447796\tvalid_0's Lev 12: 0.0691141\tvalid_0's Fudged: 860.571\n",
      "[312]\tvalid_0's WRMSSE: 0.493881\tvalid_0's Lev 1: 0.0217092\tvalid_0's Lev 3: 0.0336535\tvalid_0's Lev 6: 0.0322639\tvalid_0's Lev 9: 0.0448558\tvalid_0's Lev 12: 0.0691151\tvalid_0's Fudged: 863.351\n",
      "[315]\tvalid_0's WRMSSE: 0.494124\tvalid_0's Lev 1: 0.0218299\tvalid_0's Lev 3: 0.0336412\tvalid_0's Lev 6: 0.032277\tvalid_0's Lev 9: 0.0448541\tvalid_0's Lev 12: 0.0691143\tvalid_0's Fudged: 861.479\n",
      "[318]\tvalid_0's WRMSSE: 0.494102\tvalid_0's Lev 1: 0.0218558\tvalid_0's Lev 3: 0.0336224\tvalid_0's Lev 6: 0.032284\tvalid_0's Lev 9: 0.0448341\tvalid_0's Lev 12: 0.0691124\tvalid_0's Fudged: 866.793\n",
      "[321]\tvalid_0's WRMSSE: 0.493711\tvalid_0's Lev 1: 0.0218929\tvalid_0's Lev 3: 0.0335353\tvalid_0's Lev 6: 0.0322129\tvalid_0's Lev 9: 0.0447586\tvalid_0's Lev 12: 0.0691114\tvalid_0's Fudged: 864.205\n",
      "[324]\tvalid_0's WRMSSE: 0.493014\tvalid_0's Lev 1: 0.0217719\tvalid_0's Lev 3: 0.0334147\tvalid_0's Lev 6: 0.0321391\tvalid_0's Lev 9: 0.044711\tvalid_0's Lev 12: 0.0691097\tvalid_0's Fudged: 862.298\n",
      "[327]\tvalid_0's WRMSSE: 0.492393\tvalid_0's Lev 1: 0.0216479\tvalid_0's Lev 3: 0.0333516\tvalid_0's Lev 6: 0.032084\tvalid_0's Lev 9: 0.0447043\tvalid_0's Lev 12: 0.0691073\tvalid_0's Fudged: 860.954\n",
      "[330]\tvalid_0's WRMSSE: 0.491491\tvalid_0's Lev 1: 0.0215385\tvalid_0's Lev 3: 0.0333073\tvalid_0's Lev 6: 0.0319862\tvalid_0's Lev 9: 0.0446168\tvalid_0's Lev 12: 0.0690994\tvalid_0's Fudged: 856.264\n",
      "[333]\tvalid_0's WRMSSE: 0.491314\tvalid_0's Lev 1: 0.021515\tvalid_0's Lev 3: 0.0333105\tvalid_0's Lev 6: 0.031979\tvalid_0's Lev 9: 0.0445973\tvalid_0's Lev 12: 0.0690972\tvalid_0's Fudged: 854.337\n",
      "[336]\tvalid_0's WRMSSE: 0.491149\tvalid_0's Lev 1: 0.0214523\tvalid_0's Lev 3: 0.0332842\tvalid_0's Lev 6: 0.0319895\tvalid_0's Lev 9: 0.0445804\tvalid_0's Lev 12: 0.0690979\tvalid_0's Fudged: 857.436\n",
      "[339]\tvalid_0's WRMSSE: 0.491473\tvalid_0's Lev 1: 0.0214658\tvalid_0's Lev 3: 0.033305\tvalid_0's Lev 6: 0.032036\tvalid_0's Lev 9: 0.0446402\tvalid_0's Lev 12: 0.0690953\tvalid_0's Fudged: 858.162\n",
      "[342]\tvalid_0's WRMSSE: 0.490359\tvalid_0's Lev 1: 0.0212487\tvalid_0's Lev 3: 0.0332098\tvalid_0's Lev 6: 0.0319488\tvalid_0's Lev 9: 0.0445647\tvalid_0's Lev 12: 0.0690924\tvalid_0's Fudged: 856.986\n",
      "[345]\tvalid_0's WRMSSE: 0.489868\tvalid_0's Lev 1: 0.0211516\tvalid_0's Lev 3: 0.0332087\tvalid_0's Lev 6: 0.0318585\tvalid_0's Lev 9: 0.0445643\tvalid_0's Lev 12: 0.0690885\tvalid_0's Fudged: 854.978\n",
      "[348]\tvalid_0's WRMSSE: 0.489899\tvalid_0's Lev 1: 0.0211423\tvalid_0's Lev 3: 0.0331917\tvalid_0's Lev 6: 0.0318675\tvalid_0's Lev 9: 0.0445538\tvalid_0's Lev 12: 0.0690902\tvalid_0's Fudged: 855.546\n",
      "[351]\tvalid_0's WRMSSE: 0.489126\tvalid_0's Lev 1: 0.0210273\tvalid_0's Lev 3: 0.0331048\tvalid_0's Lev 6: 0.0317825\tvalid_0's Lev 9: 0.0444997\tvalid_0's Lev 12: 0.0690888\tvalid_0's Fudged: 853.09\n",
      "[354]\tvalid_0's WRMSSE: 0.489364\tvalid_0's Lev 1: 0.0211138\tvalid_0's Lev 3: 0.0331396\tvalid_0's Lev 6: 0.0317928\tvalid_0's Lev 9: 0.0445029\tvalid_0's Lev 12: 0.0690882\tvalid_0's Fudged: 853.952\n",
      "[357]\tvalid_0's WRMSSE: 0.489746\tvalid_0's Lev 1: 0.0211876\tvalid_0's Lev 3: 0.0332094\tvalid_0's Lev 6: 0.0318361\tvalid_0's Lev 9: 0.0445255\tvalid_0's Lev 12: 0.0690846\tvalid_0's Fudged: 849.144\n",
      "[360]\tvalid_0's WRMSSE: 0.490077\tvalid_0's Lev 1: 0.0212862\tvalid_0's Lev 3: 0.0332211\tvalid_0's Lev 6: 0.0318585\tvalid_0's Lev 9: 0.0445132\tvalid_0's Lev 12: 0.0690852\tvalid_0's Fudged: 849.963\n",
      "[363]\tvalid_0's WRMSSE: 0.4929\tvalid_0's Lev 1: 0.0218244\tvalid_0's Lev 3: 0.0334869\tvalid_0's Lev 6: 0.0321598\tvalid_0's Lev 9: 0.0446638\tvalid_0's Lev 12: 0.0690871\tvalid_0's Fudged: 856.003\n",
      "[366]\tvalid_0's WRMSSE: 0.493194\tvalid_0's Lev 1: 0.0219049\tvalid_0's Lev 3: 0.0335481\tvalid_0's Lev 6: 0.0321977\tvalid_0's Lev 9: 0.0446798\tvalid_0's Lev 12: 0.0690849\tvalid_0's Fudged: 858.615\n",
      "[369]\tvalid_0's WRMSSE: 0.493087\tvalid_0's Lev 1: 0.0218698\tvalid_0's Lev 3: 0.0335649\tvalid_0's Lev 6: 0.0321742\tvalid_0's Lev 9: 0.0446919\tvalid_0's Lev 12: 0.069086\tvalid_0's Fudged: 859.747\n",
      "[372]\tvalid_0's WRMSSE: 0.492235\tvalid_0's Lev 1: 0.0216942\tvalid_0's Lev 3: 0.0334689\tvalid_0's Lev 6: 0.0320877\tvalid_0's Lev 9: 0.0446607\tvalid_0's Lev 12: 0.0690871\tvalid_0's Fudged: 858.668\n",
      "[375]\tvalid_0's WRMSSE: 0.492614\tvalid_0's Lev 1: 0.0217622\tvalid_0's Lev 3: 0.0335244\tvalid_0's Lev 6: 0.0321109\tvalid_0's Lev 9: 0.044688\tvalid_0's Lev 12: 0.0690852\tvalid_0's Fudged: 859.698\n",
      "[378]\tvalid_0's WRMSSE: 0.493389\tvalid_0's Lev 1: 0.0219275\tvalid_0's Lev 3: 0.0336458\tvalid_0's Lev 6: 0.0321843\tvalid_0's Lev 9: 0.0447279\tvalid_0's Lev 12: 0.0690853\tvalid_0's Fudged: 859.755\n",
      "[381]\tvalid_0's WRMSSE: 0.492599\tvalid_0's Lev 1: 0.021783\tvalid_0's Lev 3: 0.0336036\tvalid_0's Lev 6: 0.0320821\tvalid_0's Lev 9: 0.0446989\tvalid_0's Lev 12: 0.0690838\tvalid_0's Fudged: 858.079\n",
      "[384]\tvalid_0's WRMSSE: 0.493239\tvalid_0's Lev 1: 0.0218945\tvalid_0's Lev 3: 0.0336906\tvalid_0's Lev 6: 0.0321539\tvalid_0's Lev 9: 0.0447415\tvalid_0's Lev 12: 0.0690838\tvalid_0's Fudged: 858.499\n",
      "[387]\tvalid_0's WRMSSE: 0.492488\tvalid_0's Lev 1: 0.0217928\tvalid_0's Lev 3: 0.0335865\tvalid_0's Lev 6: 0.0320704\tvalid_0's Lev 9: 0.044689\tvalid_0's Lev 12: 0.0690805\tvalid_0's Fudged: 862.052\n"
     ]
    },
    {
     "name": "stdout",
     "output_type": "stream",
     "text": [
      "[390]\tvalid_0's WRMSSE: 0.492532\tvalid_0's Lev 1: 0.0217979\tvalid_0's Lev 3: 0.0335586\tvalid_0's Lev 6: 0.0320801\tvalid_0's Lev 9: 0.0446958\tvalid_0's Lev 12: 0.0690814\tvalid_0's Fudged: 863.702\n",
      "[393]\tvalid_0's WRMSSE: 0.492088\tvalid_0's Lev 1: 0.0216947\tvalid_0's Lev 3: 0.0335279\tvalid_0's Lev 6: 0.0320565\tvalid_0's Lev 9: 0.0446461\tvalid_0's Lev 12: 0.0690793\tvalid_0's Fudged: 865.491\n",
      "[396]\tvalid_0's WRMSSE: 0.4932\tvalid_0's Lev 1: 0.0219112\tvalid_0's Lev 3: 0.0336502\tvalid_0's Lev 6: 0.0321878\tvalid_0's Lev 9: 0.0447061\tvalid_0's Lev 12: 0.0690749\tvalid_0's Fudged: 862.371\n",
      "[399]\tvalid_0's WRMSSE: 0.493801\tvalid_0's Lev 1: 0.022004\tvalid_0's Lev 3: 0.0337328\tvalid_0's Lev 6: 0.0322617\tvalid_0's Lev 9: 0.0447501\tvalid_0's Lev 12: 0.0690749\tvalid_0's Fudged: 858.738\n",
      "[402]\tvalid_0's WRMSSE: 0.490044\tvalid_0's Lev 1: 0.0212089\tvalid_0's Lev 3: 0.0332679\tvalid_0's Lev 6: 0.0318779\tvalid_0's Lev 9: 0.0445867\tvalid_0's Lev 12: 0.0690748\tvalid_0's Fudged: 857.982\n",
      "[405]\tvalid_0's WRMSSE: 0.48993\tvalid_0's Lev 1: 0.0211689\tvalid_0's Lev 3: 0.0332548\tvalid_0's Lev 6: 0.0318536\tvalid_0's Lev 9: 0.0445956\tvalid_0's Lev 12: 0.069076\tvalid_0's Fudged: 855.373\n",
      "[408]\tvalid_0's WRMSSE: 0.490293\tvalid_0's Lev 1: 0.0212811\tvalid_0's Lev 3: 0.0332696\tvalid_0's Lev 6: 0.0319074\tvalid_0's Lev 9: 0.0445738\tvalid_0's Lev 12: 0.0690743\tvalid_0's Fudged: 856.936\n",
      "[411]\tvalid_0's WRMSSE: 0.489131\tvalid_0's Lev 1: 0.0210143\tvalid_0's Lev 3: 0.0331625\tvalid_0's Lev 6: 0.0317888\tvalid_0's Lev 9: 0.0445407\tvalid_0's Lev 12: 0.0690741\tvalid_0's Fudged: 853.248\n",
      "[414]\tvalid_0's WRMSSE: 0.488732\tvalid_0's Lev 1: 0.0210488\tvalid_0's Lev 3: 0.0331685\tvalid_0's Lev 6: 0.03173\tvalid_0's Lev 9: 0.0444763\tvalid_0's Lev 12: 0.0690723\tvalid_0's Fudged: 854.865\n",
      "[417]\tvalid_0's WRMSSE: 0.487827\tvalid_0's Lev 1: 0.0208584\tvalid_0's Lev 3: 0.0331141\tvalid_0's Lev 6: 0.0316266\tvalid_0's Lev 9: 0.0444423\tvalid_0's Lev 12: 0.0690728\tvalid_0's Fudged: 854.044\n",
      "[420]\tvalid_0's WRMSSE: 0.487708\tvalid_0's Lev 1: 0.0208462\tvalid_0's Lev 3: 0.0330662\tvalid_0's Lev 6: 0.0316162\tvalid_0's Lev 9: 0.0444195\tvalid_0's Lev 12: 0.0690723\tvalid_0's Fudged: 850.757\n",
      "[423]\tvalid_0's WRMSSE: 0.487883\tvalid_0's Lev 1: 0.0208665\tvalid_0's Lev 3: 0.0331294\tvalid_0's Lev 6: 0.0316063\tvalid_0's Lev 9: 0.0444672\tvalid_0's Lev 12: 0.0690721\tvalid_0's Fudged: 849.552\n",
      "[426]\tvalid_0's WRMSSE: 0.487969\tvalid_0's Lev 1: 0.0208371\tvalid_0's Lev 3: 0.0331361\tvalid_0's Lev 6: 0.031633\tvalid_0's Lev 9: 0.0444994\tvalid_0's Lev 12: 0.0690711\tvalid_0's Fudged: 847.728\n",
      "[429]\tvalid_0's WRMSSE: 0.488675\tvalid_0's Lev 1: 0.020992\tvalid_0's Lev 3: 0.033212\tvalid_0's Lev 6: 0.031709\tvalid_0's Lev 9: 0.0445154\tvalid_0's Lev 12: 0.069072\tvalid_0's Fudged: 848.052\n",
      "[432]\tvalid_0's WRMSSE: 0.487722\tvalid_0's Lev 1: 0.0208399\tvalid_0's Lev 3: 0.0331426\tvalid_0's Lev 6: 0.03161\tvalid_0's Lev 9: 0.0444527\tvalid_0's Lev 12: 0.0690703\tvalid_0's Fudged: 846.993\n",
      "[435]\tvalid_0's WRMSSE: 0.487352\tvalid_0's Lev 1: 0.0208316\tvalid_0's Lev 3: 0.0331197\tvalid_0's Lev 6: 0.0315739\tvalid_0's Lev 9: 0.0443969\tvalid_0's Lev 12: 0.069069\tvalid_0's Fudged: 846.167\n",
      "[438]\tvalid_0's WRMSSE: 0.48769\tvalid_0's Lev 1: 0.0209254\tvalid_0's Lev 3: 0.0331237\tvalid_0's Lev 6: 0.0316029\tvalid_0's Lev 9: 0.0444072\tvalid_0's Lev 12: 0.0690692\tvalid_0's Fudged: 845.297\n",
      "[441]\tvalid_0's WRMSSE: 0.48788\tvalid_0's Lev 1: 0.0209764\tvalid_0's Lev 3: 0.0331732\tvalid_0's Lev 6: 0.0316127\tvalid_0's Lev 9: 0.0444311\tvalid_0's Lev 12: 0.0690692\tvalid_0's Fudged: 846.452\n",
      "[444]\tvalid_0's WRMSSE: 0.488661\tvalid_0's Lev 1: 0.0211709\tvalid_0's Lev 3: 0.0332599\tvalid_0's Lev 6: 0.031687\tvalid_0's Lev 9: 0.0444556\tvalid_0's Lev 12: 0.0690693\tvalid_0's Fudged: 847.067\n",
      "[447]\tvalid_0's WRMSSE: 0.488571\tvalid_0's Lev 1: 0.0211503\tvalid_0's Lev 3: 0.0332496\tvalid_0's Lev 6: 0.0316825\tvalid_0's Lev 9: 0.044445\tvalid_0's Lev 12: 0.0690702\tvalid_0's Fudged: 845.438\n",
      "[450]\tvalid_0's WRMSSE: 0.488032\tvalid_0's Lev 1: 0.0210578\tvalid_0's Lev 3: 0.0332328\tvalid_0's Lev 6: 0.0316221\tvalid_0's Lev 9: 0.0444094\tvalid_0's Lev 12: 0.0690697\tvalid_0's Fudged: 843.798\n",
      "[453]\tvalid_0's WRMSSE: 0.487603\tvalid_0's Lev 1: 0.0209616\tvalid_0's Lev 3: 0.033199\tvalid_0's Lev 6: 0.0315643\tvalid_0's Lev 9: 0.044402\tvalid_0's Lev 12: 0.0690679\tvalid_0's Fudged: 843.746\n",
      "[456]\tvalid_0's WRMSSE: 0.488076\tvalid_0's Lev 1: 0.0210619\tvalid_0's Lev 3: 0.0332612\tvalid_0's Lev 6: 0.0316174\tvalid_0's Lev 9: 0.0444235\tvalid_0's Lev 12: 0.0690663\tvalid_0's Fudged: 843.124\n",
      "[459]\tvalid_0's WRMSSE: 0.487857\tvalid_0's Lev 1: 0.021068\tvalid_0's Lev 3: 0.0331503\tvalid_0's Lev 6: 0.0315831\tvalid_0's Lev 9: 0.0443886\tvalid_0's Lev 12: 0.0690657\tvalid_0's Fudged: 840.814\n",
      "[462]\tvalid_0's WRMSSE: 0.487985\tvalid_0's Lev 1: 0.0210725\tvalid_0's Lev 3: 0.0331611\tvalid_0's Lev 6: 0.0315976\tvalid_0's Lev 9: 0.0444192\tvalid_0's Lev 12: 0.069066\tvalid_0's Fudged: 840.188\n",
      "[465]\tvalid_0's WRMSSE: 0.489154\tvalid_0's Lev 1: 0.0213163\tvalid_0's Lev 3: 0.0333119\tvalid_0's Lev 6: 0.0317027\tvalid_0's Lev 9: 0.0444829\tvalid_0's Lev 12: 0.0690659\tvalid_0's Fudged: 841.346\n",
      "[468]\tvalid_0's WRMSSE: 0.490002\tvalid_0's Lev 1: 0.0214808\tvalid_0's Lev 3: 0.0333989\tvalid_0's Lev 6: 0.0317913\tvalid_0's Lev 9: 0.0445278\tvalid_0's Lev 12: 0.0690661\tvalid_0's Fudged: 841.578\n",
      "[471]\tvalid_0's WRMSSE: 0.490368\tvalid_0's Lev 1: 0.0215316\tvalid_0's Lev 3: 0.0334189\tvalid_0's Lev 6: 0.0318316\tvalid_0's Lev 9: 0.04455\tvalid_0's Lev 12: 0.0690675\tvalid_0's Fudged: 842.399\n",
      "[474]\tvalid_0's WRMSSE: 0.490735\tvalid_0's Lev 1: 0.0216153\tvalid_0's Lev 3: 0.0334859\tvalid_0's Lev 6: 0.0318753\tvalid_0's Lev 9: 0.0445587\tvalid_0's Lev 12: 0.0690667\tvalid_0's Fudged: 842.405\n",
      "[477]\tvalid_0's WRMSSE: 0.489616\tvalid_0's Lev 1: 0.0213847\tvalid_0's Lev 3: 0.0333902\tvalid_0's Lev 6: 0.0317539\tvalid_0's Lev 9: 0.0445261\tvalid_0's Lev 12: 0.0690677\tvalid_0's Fudged: 841.23\n",
      "[480]\tvalid_0's WRMSSE: 0.489068\tvalid_0's Lev 1: 0.0213528\tvalid_0's Lev 3: 0.0333246\tvalid_0's Lev 6: 0.0316838\tvalid_0's Lev 9: 0.0444705\tvalid_0's Lev 12: 0.0690666\tvalid_0's Fudged: 842.774\n",
      "[483]\tvalid_0's WRMSSE: 0.48968\tvalid_0's Lev 1: 0.0214486\tvalid_0's Lev 3: 0.0333928\tvalid_0's Lev 6: 0.031761\tvalid_0's Lev 9: 0.0445094\tvalid_0's Lev 12: 0.0690671\tvalid_0's Fudged: 841.789\n",
      "[486]\tvalid_0's WRMSSE: 0.488373\tvalid_0's Lev 1: 0.0211677\tvalid_0's Lev 3: 0.0332452\tvalid_0's Lev 6: 0.0316275\tvalid_0's Lev 9: 0.0444488\tvalid_0's Lev 12: 0.0690671\tvalid_0's Fudged: 840.955\n",
      "[489]\tvalid_0's WRMSSE: 0.489148\tvalid_0's Lev 1: 0.0213561\tvalid_0's Lev 3: 0.0333426\tvalid_0's Lev 6: 0.0316836\tvalid_0's Lev 9: 0.0444923\tvalid_0's Lev 12: 0.0690671\tvalid_0's Fudged: 841.153\n",
      "[492]\tvalid_0's WRMSSE: 0.48834\tvalid_0's Lev 1: 0.0211995\tvalid_0's Lev 3: 0.0332462\tvalid_0's Lev 6: 0.0315964\tvalid_0's Lev 9: 0.0444541\tvalid_0's Lev 12: 0.0690673\tvalid_0's Fudged: 841.876\n",
      "[495]\tvalid_0's WRMSSE: 0.488476\tvalid_0's Lev 1: 0.0212541\tvalid_0's Lev 3: 0.0332574\tvalid_0's Lev 6: 0.0316058\tvalid_0's Lev 9: 0.0444506\tvalid_0's Lev 12: 0.069068\tvalid_0's Fudged: 842.181\n",
      "[498]\tvalid_0's WRMSSE: 0.48932\tvalid_0's Lev 1: 0.0214026\tvalid_0's Lev 3: 0.0333329\tvalid_0's Lev 6: 0.0317021\tvalid_0's Lev 9: 0.0444942\tvalid_0's Lev 12: 0.0690671\tvalid_0's Fudged: 841.295\n",
      "[501]\tvalid_0's WRMSSE: 0.489363\tvalid_0's Lev 1: 0.0214589\tvalid_0's Lev 3: 0.0333258\tvalid_0's Lev 6: 0.031693\tvalid_0's Lev 9: 0.0444806\tvalid_0's Lev 12: 0.0690655\tvalid_0's Fudged: 842.194\n",
      "[504]\tvalid_0's WRMSSE: 0.489863\tvalid_0's Lev 1: 0.0215647\tvalid_0's Lev 3: 0.0333908\tvalid_0's Lev 6: 0.0317372\tvalid_0's Lev 9: 0.0445143\tvalid_0's Lev 12: 0.0690649\tvalid_0's Fudged: 841.613\n",
      "[507]\tvalid_0's WRMSSE: 0.489809\tvalid_0's Lev 1: 0.0215715\tvalid_0's Lev 3: 0.0333867\tvalid_0's Lev 6: 0.0317346\tvalid_0's Lev 9: 0.0445017\tvalid_0's Lev 12: 0.0690646\tvalid_0's Fudged: 841.672\n",
      "[510]\tvalid_0's WRMSSE: 0.489355\tvalid_0's Lev 1: 0.0214795\tvalid_0's Lev 3: 0.0333332\tvalid_0's Lev 6: 0.0316918\tvalid_0's Lev 9: 0.044476\tvalid_0's Lev 12: 0.0690636\tvalid_0's Fudged: 840.581\n",
      "[513]\tvalid_0's WRMSSE: 0.488824\tvalid_0's Lev 1: 0.0213706\tvalid_0's Lev 3: 0.0332878\tvalid_0's Lev 6: 0.0316312\tvalid_0's Lev 9: 0.0444615\tvalid_0's Lev 12: 0.0690645\tvalid_0's Fudged: 840.661\n",
      "[516]\tvalid_0's WRMSSE: 0.488663\tvalid_0's Lev 1: 0.0213862\tvalid_0's Lev 3: 0.0332562\tvalid_0's Lev 6: 0.0316228\tvalid_0's Lev 9: 0.044416\tvalid_0's Lev 12: 0.0690636\tvalid_0's Fudged: 841.227\n"
     ]
    },
    {
     "name": "stdout",
     "output_type": "stream",
     "text": [
      "[519]\tvalid_0's WRMSSE: 0.48889\tvalid_0's Lev 1: 0.0214401\tvalid_0's Lev 3: 0.0332747\tvalid_0's Lev 6: 0.0316458\tvalid_0's Lev 9: 0.0444206\tvalid_0's Lev 12: 0.0690651\tvalid_0's Fudged: 841.919\n",
      "[522]\tvalid_0's WRMSSE: 0.489876\tvalid_0's Lev 1: 0.0216387\tvalid_0's Lev 3: 0.0333616\tvalid_0's Lev 6: 0.0317492\tvalid_0's Lev 9: 0.0444689\tvalid_0's Lev 12: 0.0690655\tvalid_0's Fudged: 841.856\n",
      "[525]\tvalid_0's WRMSSE: 0.489568\tvalid_0's Lev 1: 0.0215907\tvalid_0's Lev 3: 0.0333365\tvalid_0's Lev 6: 0.0317223\tvalid_0's Lev 9: 0.0444469\tvalid_0's Lev 12: 0.0690652\tvalid_0's Fudged: 841.325\n",
      "[528]\tvalid_0's WRMSSE: 0.489962\tvalid_0's Lev 1: 0.0216659\tvalid_0's Lev 3: 0.0333774\tvalid_0's Lev 6: 0.0317639\tvalid_0's Lev 9: 0.0444704\tvalid_0's Lev 12: 0.0690646\tvalid_0's Fudged: 841.118\n",
      "[531]\tvalid_0's WRMSSE: 0.489823\tvalid_0's Lev 1: 0.0216385\tvalid_0's Lev 3: 0.0334076\tvalid_0's Lev 6: 0.0317521\tvalid_0's Lev 9: 0.0444764\tvalid_0's Lev 12: 0.0690637\tvalid_0's Fudged: 840.314\n",
      "[534]\tvalid_0's WRMSSE: 0.489635\tvalid_0's Lev 1: 0.0215888\tvalid_0's Lev 3: 0.0333726\tvalid_0's Lev 6: 0.0317405\tvalid_0's Lev 9: 0.0444691\tvalid_0's Lev 12: 0.0690641\tvalid_0's Fudged: 840.033\n",
      "[537]\tvalid_0's WRMSSE: 0.489709\tvalid_0's Lev 1: 0.0216084\tvalid_0's Lev 3: 0.0333873\tvalid_0's Lev 6: 0.0317534\tvalid_0's Lev 9: 0.0444713\tvalid_0's Lev 12: 0.0690642\tvalid_0's Fudged: 840.588\n",
      "Early stopping, best iteration is:\n",
      "[419]\tvalid_0's WRMSSE: 0.487314\tvalid_0's Lev 1: 0.0207277\tvalid_0's Lev 3: 0.0330446\tvalid_0's Lev 6: 0.0315876\tvalid_0's Lev 9: 0.0444107\tvalid_0's Lev 12: 0.0690724\tvalid_0's Fudged: 852.654\n",
      "Evaluated only: WRMSSE\n",
      "CPU times: user 2h 12min 32s, sys: 12min 2s, total: 2h 24min 34s\n",
      "Wall time: 30min 17s\n"
     ]
    }
   ],
   "source": [
    "%%time\n",
    "num_rounds = 0\n",
    "model = lgb.train(params, \n",
    "                  training_dataset, \n",
    "                  categorical_feature=categories, \n",
    "                  num_boost_round=2500,\n",
    "                  valid_sets = [val_dataset],\n",
    "                  fobj=MSELoss,\n",
    "                  feval = lambda y_pred, y_true: [byLevelWRMSSE(y_pred, y_true, level) for level in [0, 1, 3, 6, 9, 12]] + [getFudged(y_pred, y_true)],\n",
    "                  early_stopping_rounds=120,\n",
    "                  verbose_eval=3,\n",
    "                  valid_names=None,\n",
    "                  learning_rates=learningRate\n",
    "                 )"
   ]
  },
  {
   "cell_type": "code",
   "execution_count": 402,
   "metadata": {},
   "outputs": [],
   "source": [
    "def returnGradHess(residual, p = 1.0, a = 1.0):\n",
    "    grad = p * np.where(residual < 0, -2.0 * residual, -2.0 * residual * a) \n",
    "    hess = p * np.where(residual < 0, 2.0 * np.ones(residual.shape), 2.0 * np.ones(residual.shape) * a)\n",
    "    return np.array([grad, hess])\n",
    "\n",
    "current_row = \"\"\n",
    "l9_idxs = []\n",
    "for idx, row in enumerate(df[\"dept_id\"].tolist()):\n",
    "    if row != current_row:\n",
    "        l9_idxs.append(idx)\n",
    "        current_row = row\n",
    "l9_idxs.append(30490)\n",
    "\n",
    "current_row = \"\"\n",
    "l8_idxs = []\n",
    "for idx, row in enumerate(df[\"cat_id\"].tolist()):\n",
    "    if row != current_row:\n",
    "        l8_idxs.append(idx)\n",
    "        current_row = row\n",
    "l8_idxs.append(30490)\n",
    "\n",
    "l3_idxs = range(0, 30491, 3049)\n",
    "l2_idxs = [0, 3049 * 4, 3049 * 7, 30490]\n",
    "\n",
    "def level8MSE(reshapedResiduals, num_days, weights = np.ones(30), p = 1.0, a = 1.0):\n",
    "    residual = np.zeros((30490, num_days))\n",
    "    for w, start_item, end_item in zip(weights, l8_idxs[:-1], l8_idxs[1:]):\n",
    "        summed_residuals = w * reshapedResiduals[start_item:end_item].sum(axis = 0)\n",
    "        residual[start_item * num_days:end_item * num_days] += np.tile(summed_residuals, end_item - start_item)\n",
    "    return returnGradHess(residual, p = p, a = a)\n",
    "\n",
    "def level3MSE(reshapedResiduals, num_days, weights = np.ones(10), p = 1.0, a = 1.0):\n",
    "    residual = np.zeros((30490 * num_days))\n",
    "    for w, start_item, end_item in zip(weights, l3_idxs[:-1], l3_idxs[1:]):\n",
    "        summed_residuals = w * reshapedResiduals[start_item:end_item].sum(axis = 0)\n",
    "        residual[start_item * num_days:end_item * num_days] += np.tile(summed_residuals, end_item - start_item)\n",
    "    return returnGradHess(residual, p = p, a = a)\n",
    "\n",
    "def level2MSE(reshapedResiduals, num_days, weights = np.ones(3), p = 1.0, a = 1.0):\n",
    "    residual = np.zeros((30490 * num_days))\n",
    "    for w, start_item, end_item in zip(weights, l2_idxs[:-1], l2_idxs[1:]):\n",
    "        summed_residuals = weights[idx] * reshapedResiduals[start_item:end_item].sum(axis = 0)\n",
    "        residual[start_item * num_days:end_item * num_days] += np.tile(summed_residuals, end_item - start_item)\n",
    "    return returnGradHess(residual, p = p, a = a)\n",
    "\n",
    "residual = 0\n",
    "grad = 0\n",
    "\n",
    "def level1MSE(reshapedResiduals, num_days, weights = np.ones(1), p = 1.0, a = 1.0):\n",
    "    global residual, grad\n",
    "    residual = np.tile(reshapedResiduals.sum(axis = 0), 30490)\n",
    "    return returnGradHess(residual, p = p, a = a)\n",
    "\n",
    "def level4MSE(reshapedResiduals, num_days, weights = np.ones(3), p = 1.0, a = 1.0):\n",
    "    residual = np.zeros((30490 * num_days))\n",
    "    full_weights = np.zeros((30490 * num_days))\n",
    "    aggregated = m5.Transform_4(reshapedResiduals)\n",
    "    combined = np.concatenate((np.tile(aggregated[0], 565), \n",
    "                               np.tile(aggregated[1], 1047), \n",
    "                               np.tile(aggregated[2], 1437)))\n",
    "    combined_weights = np.concatenate((np.tile(weights[0] / 5650., 565 * num_days), \n",
    "                           np.tile(weights[1] / 10470., 1047 * num_days), \n",
    "                           np.tile(weights[2] / 14370., 1437 * num_days)))\n",
    "    for store in range(10):\n",
    "        residual[store * 3049 * num_days:(store + 1) * 3049 * num_days] = combined\n",
    "        full_weights[store * 3049 * num_days:(store + 1) * 3049 * num_days] = combined_weights\n",
    "    return returnGradHess(residual, p = p * full_weights, a = a)\n",
    "\n",
    "occurences = np.array(list(Counter(df[\"dept_id\"].tolist()).values())) // 10\n",
    "def level5MSE(reshapedResiduals, num_days, weights = np.ones(7), p = 1.0, a = 1.0):\n",
    "    residual = np.zeros((30490 * num_days))\n",
    "    aggregated = m5.Transform_5(reshapedResiduals)\n",
    "    combined = np.concatenate([np.tile(weights[i] * aggregated[i], occurences[i]) for i in range(7)])\n",
    "    for store in range(10):\n",
    "        residual[store * 3049:(store + 1) * 3049] = combined\n",
    "    return returnGradHess(residual, p = p, a = a)\n",
    "\n",
    "def level6Helper(residual, reshapedResiduals, num_days, stores, weights = np.ones(3)):\n",
    "    cat1 = np.zeros(num_days)\n",
    "    cat2 = np.zeros(num_days)\n",
    "    cat3 = np.zeros(num_days)\n",
    "    for i in stores:\n",
    "        cat1 += np.sum(reshapedResiduals[3049 * i:3049 * i + 565], axis=0)\n",
    "        cat2 += np.sum(reshapedResiduals[3049 * i + 565:3049 * i + 1612], axis=0)\n",
    "        cat3 += np.sum(reshapedResiduals[3049 * i + 1612:3049 * (i + 1)], axis=0)\n",
    "    for i in stores:\n",
    "        residual[3049 * i * num_days:(3049 * i + 565) * num_days] = np.tile(weights[0] * cat1, 565)\n",
    "        residual[(3049 * i + 565) * num_days:(3049 * i + 1612) * num_days] = np.tile(weights[1] * cat2, 1047)\n",
    "        residual[(3049 * i + 1612) * num_days:3049 * (i + 1) * num_days] = np.tile(weights[2] * cat3, 1437)\n",
    "\n",
    "def level6MSE(reshapedResiduals, num_days, weights = np.ones(9), p = 1.0, a = 1.0):\n",
    "    residual = np.zeros((30490 * num_days))\n",
    "    level6Helper(residual, reshapedResiduals, num_days, range(4), weights = weights[:3])\n",
    "    level6Helper(residual, reshapedResiduals, num_days, range(4,7), weights = weights[3:6])\n",
    "    level6Helper(residual, reshapedResiduals, num_days, range(7,10), weights = weights[6:9])\n",
    "    return returnGradHess(residual, p = p, a = a)\n",
    "\n",
    "dep_idxs = l9_idxs[:8]\n",
    "def level7Helper(residual, reshapedResiduals, num_days, stores, weights = np.ones(7)):\n",
    "    deps = np.zeros((7, num_days))\n",
    "    for i in stores:\n",
    "        for dep in range(7):\n",
    "            deps[dep] += np.sum(reshapedResiduals[3049 * i + dep_idxs[dep]:3049 * i + dep_idxs[dep + 1]], axis = 0)\n",
    "    for i in stores:\n",
    "        for dep in range(7):\n",
    "            residual[(3049 * i + dep_idxs[dep]) * num_days:(3049 * i + dep_idxs[dep + 1]) * num_days] = np.tile(\n",
    "                weights[dep] * deps[dep], occurences[dep])\n",
    "\n",
    "def level7MSE(reshapedResiduals, num_days, weights = np.ones(21), p = 1.0, a = 1.0):\n",
    "    residual = np.zeros((30490 * num_days))\n",
    "    level7Helper(residual, reshapedResiduals, num_days, range(4), weights = weights[:7])\n",
    "    level7Helper(residual, reshapedResiduals, num_days, range(4,7), weights = weights[7:14])\n",
    "    level7Helper(residual, reshapedResiduals, num_days, range(7,10), weights = weights[14:21])\n",
    "    return returnGradHess(residual, p = p, a = a)\n",
    "\n",
    "def level9MSE(reshapedResiduals, num_days, weights = np.ones(70), p = 1.0, a = 1.0, fudge_idxs = []):\n",
    "    residual = np.zeros((30490 * num_days))\n",
    "    full_weights = np.zeros((30490 * num_days))\n",
    "    for weight, start_item, end_item in zip(weights, l9_idxs[:-1], l9_idxs[1:]):\n",
    "        summed_residuals = reshapedResiduals[start_item:end_item].sum(axis = 0)\n",
    "        full_weights[start_item * num_days:end_item * num_days] = weight / (end_item - start_item)\n",
    "        residual[start_item * num_days:end_item * num_days] += np.tile(summed_residuals, end_item - start_item)\n",
    "#     for idx in fudge_idxs:\n",
    "#         residual[idx * num_days:(idx + 1) * num_days] *= 20\n",
    "    return returnGradHess(residual, p = p * full_weights, a = a)\n",
    "\n",
    "def level12MSE(reshapedResiduals, num_days, weights = np.ones(30490), p = 1.0, a = 1.0):\n",
    "    residual = np.zeros((30490 * num_days))\n",
    "    full_weights = np.zeros((30490 * num_days))\n",
    "    for i in range(30490): \n",
    "        residual[i * num_days:(i+1) * num_days] = reshapedResiduals[i]\n",
    "        full_weights[i * num_days:(i+1) * num_days] = weights[i]\n",
    "    return returnGradHess(residual, p = p * full_weights, a = a)\n",
    "\n",
    "def level10MSE(reshapedResiduals, num_days, weights = np.ones(3049), p = 1.0, a = 1.0):\n",
    "    residual = np.zeros((30490 * num_days))\n",
    "    for i in range(3049):\n",
    "        item_total = np.sum(reshapedResiduals[i::3049],axis=0)\n",
    "        for store in range(10):\n",
    "            residual[(3049 * store + i) * num_days:(3049 * store + i + 1) * num_days] = weights[i] * item_total\n",
    "    return returnGradHess(residual, p = p, a = a)\n",
    "\n",
    "def level11MSE(reshapedResiduals, num_days, weights = np.ones(9147), p = 1.0, a = 1.0):\n",
    "    residual = np.zeros((30490 * num_days))\n",
    "    california = reshapedResiduals[:3049 * 4]\n",
    "    for i in range(3049):\n",
    "        item_total = np.sum(california[i::3049],axis=0)\n",
    "        for store in range(4):\n",
    "            residual[(3049 * store + i) * num_days:(3049 * store + i + 1) * num_days] = weights[i] * item_total\n",
    "    texas = reshapedResiduals[3049 * 4:3049 * 7]\n",
    "    for i in range(3049):\n",
    "        item_total = np.sum(texas[i::3049],axis=0)\n",
    "        for store in range(4, 7):\n",
    "            residual[(3049 * store + i) * num_days:(3049 * store + i + 1) * num_days] = weights[i + 3049] * item_total\n",
    "    wisconsin = reshapedResiduals[3049 * 7:]\n",
    "    for i in range(3049):\n",
    "        item_total = np.sum(wisconsin[i::3049],axis=0)\n",
    "        for store in range(7,10):\n",
    "            residual[(3049 * store + i) * num_days:(3049 * store + i + 1) * num_days] = weights[i + 6098] * item_total\n",
    "    return returnGradHess(residual, p = p, a = a)  "
   ]
  },
  {
   "cell_type": "markdown",
   "metadata": {},
   "source": [
    "- RMSE - 35.9\n",
    "- Tweedie - 55.8\n",
    "- Custom Lev 12 - 46.8\n",
    "- Custom Lev 12 Asymmetric - 57.1\n",
    "- Custom Lev 12 Fudged - 104.0\n",
    "- Custom Lev 12 + 9 Asymmetric - 190.0"
   ]
  },
  {
   "cell_type": "markdown",
   "metadata": {},
   "source": [
    "## Saving Model"
   ]
  },
  {
   "cell_type": "code",
   "execution_count": 556,
   "metadata": {},
   "outputs": [
    {
     "data": {
      "text/plain": [
       "<lightgbm.basic.Booster at 0x2193f69b0>"
      ]
     },
     "execution_count": 556,
     "metadata": {},
     "output_type": "execute_result"
    }
   ],
   "source": [
    "model.save_model('models/level9-12-asymmetric.txt')"
   ]
  },
  {
   "cell_type": "code",
   "execution_count": 537,
   "metadata": {},
   "outputs": [],
   "source": [
    "model = lgb.Booster(model_file='models/level9-12.txt')"
   ]
  },
  {
   "cell_type": "code",
   "execution_count": 538,
   "metadata": {},
   "outputs": [
    {
     "data": {
      "text/plain": [
       "<lightgbm.basic.Booster at 0x1a20e8cc0>"
      ]
     },
     "execution_count": 538,
     "metadata": {},
     "output_type": "execute_result"
    }
   ],
   "source": [
    "model"
   ]
  },
  {
   "cell_type": "markdown",
   "metadata": {},
   "source": [
    "## Recursive Predictor"
   ]
  },
  {
   "cell_type": "code",
   "execution_count": 413,
   "metadata": {},
   "outputs": [
    {
     "name": "stdout",
     "output_type": "stream",
     "text": [
      "Finished day 7\n",
      "Finished day 14\n",
      "Finished day 21\n",
      "Finished day 28\n",
      "CPU times: user 3min 58s, sys: 7.41 s, total: 4min 5s\n",
      "Wall time: 1min 16s\n"
     ]
    }
   ],
   "source": [
    "%%time\n",
    "all_data = np.array(df.iloc[:,6:])\n",
    "for i in range(28):\n",
    "    test_data = generateTrainingData(1914 + i, 1914 + i, lags, rolling, all_data, withLabels=False)\n",
    "    preds = model.predict(test_data)\n",
    "    all_data = np.concatenate((all_data, preds.reshape((30490, 1))), axis = 1)\n",
    "    if (i + 1) % 7 == 0:\n",
    "        print(\"Finished day {}\".format(i+1))\n",
    "predictions = all_data[:, -28:]\n",
    "all_data = np.array(df.iloc[:,6:])"
   ]
  },
  {
   "cell_type": "code",
   "execution_count": 497,
   "metadata": {},
   "outputs": [],
   "source": [
    "modelNumber = 1"
   ]
  },
  {
   "cell_type": "markdown",
   "metadata": {},
   "source": [
    "## Preparing for Submission"
   ]
  },
  {
   "cell_type": "code",
   "execution_count": 122,
   "metadata": {},
   "outputs": [],
   "source": [
    "modelName = \"Proper_RMSE_9_12\"\n",
    "submissionReady = True\n",
    "try:\n",
    "    if tempName != modelName:\n",
    "        modelNumber = 1\n",
    "except:\n",
    "    modelNumber = 1"
   ]
  },
  {
   "cell_type": "code",
   "execution_count": 123,
   "metadata": {},
   "outputs": [],
   "source": [
    "try:\n",
    "    submission\n",
    "except:\n",
    "    submission = pd.read_csv(\"submissions/sample_submission.csv\")\n",
    "\n",
    "try:\n",
    "    for idx, col in enumerate(submission.columns.values):\n",
    "        if (col != \"id\"):\n",
    "            submission[col] = np.concatenate((predictions[:, idx - 1], np.zeros(30490)), axis = 0)\n",
    "    if submissionReady:\n",
    "        submission.to_csv(\"submissions/{}_{}.csv\".format(modelName, modelNumber), index=False)\n",
    "        modelNumber += 1\n",
    "        tempName = modelName\n",
    "    Audio(sound_file, autoplay=True)\n",
    "except:\n",
    "    Audio(sound_file, autoplay=True)"
   ]
  },
  {
   "cell_type": "markdown",
   "metadata": {},
   "source": [
    "## Analyzing Submission"
   ]
  },
  {
   "cell_type": "code",
   "execution_count": 416,
   "metadata": {},
   "outputs": [],
   "source": [
    "loss = m5.WRMSSE(predictions)\n",
    "loss2 = m5.WRMSSE(m5.clean(pd.read_csv(\"Submissions/Proper_RMSE_9_12_1.csv\")))"
   ]
  },
  {
   "cell_type": "code",
   "execution_count": 417,
   "metadata": {},
   "outputs": [
    {
     "data": {
      "text/plain": [
       "(0.5483619311279893, 0.5548146147464471)"
      ]
     },
     "execution_count": 417,
     "metadata": {},
     "output_type": "execute_result"
    }
   ],
   "source": [
    "loss.getTotalLoss(), loss2.getTotalLoss()"
   ]
  },
  {
   "cell_type": "code",
   "execution_count": 545,
   "metadata": {},
   "outputs": [
    {
     "name": "stdout",
     "output_type": "stream",
     "text": [
      "[0.47095698 0.45848093 0.71146131 0.62927081 1.09540162 0.93872641\n",
      " 0.97345454 1.21285524 1.64008511 0.9354275  1.39156509 1.36661827\n",
      " 1.29859383 1.1956779  1.49654597 0.78017471 1.57820427 1.57135577\n",
      " 0.96587588 1.80752145 1.94242158 1.19980669 0.7541148  1.03390101\n",
      " 0.93353232 0.99679253 1.28484081 1.15409728]\n",
      "[0 0 0 0 0 0 0 0 0 0 0 0 0 0 0 0 0 0 0 0 0 0 0 0 0 0 0 0]\n"
     ]
    }
   ],
   "source": [
    "print(predictions[3049 * 8 + 2297])\n",
    "print(m5.actuals[3049 * 8 + 2297])"
   ]
  },
  {
   "cell_type": "code",
   "execution_count": 426,
   "metadata": {},
   "outputs": [
    {
     "data": {
      "text/plain": [
       "array([[ 0,  1,  2,  3,  4],\n",
       "       [ 5,  6,  7,  8,  9],\n",
       "       [10, 11, 12, 13, 14],\n",
       "       [15, 16, 17, 18, 19]])"
      ]
     },
     "execution_count": 426,
     "metadata": {},
     "output_type": "execute_result"
    }
   ],
   "source": [
    "np.arange(20).reshape((4,5))"
   ]
  },
  {
   "cell_type": "code",
   "execution_count": 546,
   "metadata": {},
   "outputs": [
    {
     "data": {
      "text/plain": [
       "array([109131.88526558,  91114.63921606,  94446.91974125,  92776.13905807,\n",
       "       127622.73203261, 147740.60740462, 158359.73266178, 146888.97145271,\n",
       "       170573.90836799, 148734.19555187, 147328.76275969, 183659.31598275,\n",
       "       227377.5780781 , 180445.46953436, 201760.48913864, 134264.3132853 ,\n",
       "       175367.57883359, 143325.57874252, 154538.75386568, 232679.98865671,\n",
       "       276146.40069327, 151410.781833  , 125552.89138954, 119051.99888986,\n",
       "       120414.44891217, 142941.87836284, 203717.59992069, 216779.26164412])"
      ]
     },
     "execution_count": 546,
     "metadata": {},
     "output_type": "execute_result"
    }
   ],
   "source": [
    "np.sum(np.square(predictions - m5.actuals), axis = 0)"
   ]
  },
  {
   "cell_type": "code",
   "execution_count": 343,
   "metadata": {},
   "outputs": [
    {
     "data": {
      "text/plain": [
       "array([[ 1.05073625e+01,  6.08666454e+02,  8.05721825e+02,\n",
       "         7.46967357e+02, -3.00282187e+03, -1.02254776e+03,\n",
       "        -5.85945491e+02,  1.64743464e+02, -1.59027560e+03,\n",
       "        -1.07363386e+03, -1.29262989e+03,  7.81019907e+02,\n",
       "        -1.63383463e+03,  1.82112912e+03, -2.94752434e+03,\n",
       "        -3.30453102e+02, -2.80151443e+03, -2.46055553e+02,\n",
       "        -1.60587886e+03, -2.21288883e+03, -5.87579854e+03,\n",
       "        -7.44514202e+02, -1.01234188e+03,  2.01254140e+02,\n",
       "         5.07731978e+00, -1.25251929e+03, -7.68406985e+02,\n",
       "        -2.69369548e+03]])"
      ]
     },
     "execution_count": 343,
     "metadata": {},
     "output_type": "execute_result"
    }
   ],
   "source": [
    "m5.transformer[1](predictions) - m5.transformer[1](m5.actuals)"
   ]
  },
  {
   "cell_type": "code",
   "execution_count": 374,
   "metadata": {},
   "outputs": [
    {
     "data": {
      "text/plain": [
       "'WeightedLev12_CustLoss_Recursive'"
      ]
     },
     "execution_count": 374,
     "metadata": {},
     "output_type": "execute_result"
    }
   ],
   "source": [
    "modelName"
   ]
  },
  {
   "cell_type": "code",
   "execution_count": 292,
   "metadata": {},
   "outputs": [
    {
     "data": {
      "text/plain": [
       "4"
      ]
     },
     "execution_count": 292,
     "metadata": {},
     "output_type": "execute_result"
    }
   ],
   "source": [
    "test_var = 2\n",
    "test_var *= 2\n",
    "test_var"
   ]
  },
  {
   "cell_type": "code",
   "execution_count": 152,
   "metadata": {},
   "outputs": [],
   "source": [
    "def analyzeDay(preds, day, level):\n",
    "    transformed_preds = m5.transformer[level](preds)[:, day - 1]\n",
    "    transformed_actuals = m5.transformer[level](m5.actuals)[:, day - 1]\n",
    "    return (m5.weights[level] * np.sqrt(28) * np.abs(transformed_preds - transformed_actuals)).sum()"
   ]
  },
  {
   "cell_type": "code",
   "execution_count": 889,
   "metadata": {},
   "outputs": [
    {
     "data": {
      "text/plain": [
       "[31, 32, 33, 34, 35, 36, 37, 38, 39, 40, 41, 42, 43]"
      ]
     },
     "execution_count": 889,
     "metadata": {},
     "output_type": "execute_result"
    }
   ],
   "source": [
    "categories"
   ]
  },
  {
   "cell_type": "code",
   "execution_count": 408,
   "metadata": {},
   "outputs": [
    {
     "data": {
      "image/png": "[encoded data removed]",
      "text/plain": [
       "<Figure size 432x288 with 1 Axes>"
      ]
     },
     "metadata": {
      "needs_background": "light"
     },
     "output_type": "display_data"
    }
   ],
   "source": [
    "level = 1\n",
    "plt.plot([i for i in range(1,29)], [analyzeDay(predictions, i, level) for i in range(1,29)])\n",
    "plt.plot([i for i in range(1,29)], [analyzeDay(bestModel, i, level) for i in range(1,29)])\n",
    "plt.legend([\"Recursive\",\"Model0\"])\n",
    "plt.xticks(range(1,29))\n",
    "plt.grid(True)\n",
    "plt.show()"
   ]
  },
  {
   "cell_type": "code",
   "execution_count": 548,
   "metadata": {},
   "outputs": [
    {
     "name": "stdout",
     "output_type": "stream",
     "text": [
      "22033\n"
     ]
    }
   ],
   "source": [
    "temp_count = 0\n",
    "mod_preds = m5.transformer[12](predictions)\n",
    "mod_actuals = m5.transformer[12](m5.actuals)\n",
    "arr1 = np.square(mod_preds - mod_actuals)\n",
    "arr2 = np.square(np.round(m5.transformer[12](predictions)) - m5.transformer[12](m5.actuals))\n",
    "for idx in range(30490):\n",
    "    a = arr1[idx].sum()\n",
    "    b = arr2[idx].sum()\n",
    "    if a < b:\n",
    "        temp_count += 1\n",
    "print(temp_count)"
   ]
  },
  {
   "cell_type": "code",
   "execution_count": 470,
   "metadata": {},
   "outputs": [],
   "source": [
    "def getFudged2(y_pred, y_true):\n",
    "    residual = (y_true - y_pred).astype(\"float\")\n",
    "    full_store_range = range(3049 * 8 + 2226, 3049 * 9)\n",
    "    return np.sqrt(np.sum(np.square(residual[full_store_range].sum(axis = 0))))\n",
    "\n",
    "def getNormal2(y_pred, y_true):\n",
    "    residual = (y_true - y_pred).astype(\"float\")\n",
    "    fudger = 3049 * 8 + 2297\n",
    "    residual[fudger] = 0\n",
    "    full_store_range = range(3049 * 8 + 2226, 3049 * 9)\n",
    "    return np.sqrt(np.sum(np.square(residual[full_store_range].sum(axis = 0))))\n",
    "\n",
    "def compare(predictions):\n",
    "    temp_preds = np.copy(predictions)\n",
    "    fudger = 3049 * 8 + 2297\n",
    "    temp_preds[fudger] = 0\n",
    "    return m5.WRMSSE(predictions).computeLevelLosses(9)[62], m5.WRMSSE(temp_preds).computeLevelLosses(9)[62]"
   ]
  },
  {
   "cell_type": "code",
   "execution_count": 464,
   "metadata": {},
   "outputs": [
    {
     "data": {
      "text/plain": [
       "array([73.40302472, 53.90781358, -1.29858219, -6.19285436,  4.22879762,\n",
       "        9.17956724,  0.39135545, 81.62706125, 95.92853078, 16.87490097,\n",
       "       74.78096325, 81.49446273, 18.86907478, 58.28664483, 52.91210572,\n",
       "        8.27210414, 33.85531025, 52.51515099,  9.94858255, 50.34414281,\n",
       "       64.93558264, 16.55557991,  4.78382894,  8.57977991,  2.00367538,\n",
       "       11.11250415, 19.87399582, 26.66190655])"
      ]
     },
     "execution_count": 464,
     "metadata": {},
     "output_type": "execute_result"
    }
   ],
   "source": [
    "fudger = 3049 * 8 + 2297\n",
    "predictions[fudger]"
   ]
  },
  {
   "cell_type": "code",
   "execution_count": 471,
   "metadata": {},
   "outputs": [
    {
     "data": {
      "text/plain": [
       "(0.003113939378169548, 0.0033517283823194205)"
      ]
     },
     "execution_count": 471,
     "metadata": {},
     "output_type": "execute_result"
    }
   ],
   "source": [
    "compare(predictions)"
   ]
  },
  {
   "cell_type": "code",
   "execution_count": 467,
   "metadata": {},
   "outputs": [
    {
     "data": {
      "text/plain": [
       "array([0., 0., 0., 0., 0., 0., 0., 0., 0., 0., 0., 0., 0., 0., 0., 0., 0.,\n",
       "       0., 0., 0., 0., 0., 0., 0., 0., 0., 0., 0.])"
      ]
     },
     "execution_count": 467,
     "metadata": {},
     "output_type": "execute_result"
    }
   ],
   "source": [
    "predictions[fudger]"
   ]
  },
  {
   "cell_type": "code",
   "execution_count": null,
   "metadata": {},
   "outputs": [],
   "source": []
  },
  {
   "cell_type": "code",
   "execution_count": 409,
   "metadata": {},
   "outputs": [
    {
     "data": {
      "image/png": "[encoded data removed]",
      "text/plain": [
       "<Figure size 432x288 with 1 Axes>"
      ]
     },
     "metadata": {
      "needs_background": "light"
     },
     "output_type": "display_data"
    }
   ],
   "source": [
    "level = 1\n",
    "plt.plot(range(1,29), [np.sum(m5.transformer[level](predictions), axis = 0)[day] for day in range(28)])\n",
    "plt.plot(range(1,29), [np.sum(m5.transformer[level](bestModel), axis = 0)[day] for day in range(28)])\n",
    "plt.plot(range(1,29), [np.sum(m5.transformer[level](m5.actuals), axis = 0)[day] for day in range(28)])\n",
    "plt.xticks(range(1,29))\n",
    "\n",
    "plt.grid(True)"
   ]
  },
  {
   "cell_type": "code",
   "execution_count": 215,
   "metadata": {},
   "outputs": [
    {
     "data": {
      "text/plain": [
       "39433.77333782457"
      ]
     },
     "execution_count": 215,
     "metadata": {},
     "output_type": "execute_result"
    }
   ],
   "source": [
    "np.sum(m5.transformer[1](predictions), axis=0)"
   ]
  },
  {
   "cell_type": "code",
   "execution_count": null,
   "metadata": {},
   "outputs": [],
   "source": [
    "combined = np.concatenate((predictions[:,:4], bestModel[:,4:6], predictions[:,6:8], bestModel[:,8:]), axis=1)"
   ]
  },
  {
   "cell_type": "code",
   "execution_count": 170,
   "metadata": {},
   "outputs": [
    {
     "data": {
      "text/plain": [
       "0.5299977413302546"
      ]
     },
     "execution_count": 170,
     "metadata": {},
     "output_type": "execute_result"
    }
   ],
   "source": [
    "m5.WRMSSE(combined).getTotalLoss()"
   ]
  },
  {
   "cell_type": "code",
   "execution_count": 164,
   "metadata": {},
   "outputs": [
    {
     "data": {
      "text/plain": [
       "0.5360565806952426"
      ]
     },
     "execution_count": 164,
     "metadata": {},
     "output_type": "execute_result"
    }
   ],
   "source": [
    "m5.WRMSSE(bestModel).getTotalLoss()"
   ]
  },
  {
   "cell_type": "code",
   "execution_count": 154,
   "metadata": {},
   "outputs": [],
   "source": [
    "bestModel = m5.clean(pd.read_csv(\"Submissions/nt_model_0.csv\"))"
   ]
  },
  {
   "cell_type": "code",
   "execution_count": 111,
   "metadata": {},
   "outputs": [],
   "source": [
    "bestLoss = m5.WRMSSE(bestModel)"
   ]
  },
  {
   "cell_type": "code",
   "execution_count": 113,
   "metadata": {},
   "outputs": [
    {
     "data": {
      "text/plain": [
       "array([0.02061844, 0.02763055, 0.03697214, 0.02917736, 0.0364879 ,\n",
       "       0.03603486, 0.04293453, 0.04489379, 0.0513724 , 0.06998631,\n",
       "       0.07011418, 0.06983413])"
      ]
     },
     "execution_count": 113,
     "metadata": {},
     "output_type": "execute_result"
    }
   ],
   "source": [
    "bestLoss.getLossByLevel()"
   ]
  },
  {
   "cell_type": "code",
   "execution_count": 390,
   "metadata": {},
   "outputs": [
    {
     "data": {
      "text/plain": [
       "<matplotlib.axes._subplots.AxesSubplot at 0x2189596d8>"
      ]
     },
     "execution_count": 390,
     "metadata": {},
     "output_type": "execute_result"
    },
    {
     "data": {
      "image/png": "[encoded data removed]",
      "text/plain": [
       "<Figure size 1800x1440 with 1 Axes>"
      ]
     },
     "metadata": {
      "needs_background": "light"
     },
     "output_type": "display_data"
    }
   ],
   "source": [
    "lgb.plot_importance(model, height=0.2, figsize=(25,20))"
   ]
  },
  {
   "cell_type": "code",
   "execution_count": 360,
   "metadata": {},
   "outputs": [
    {
     "data": {
      "text/plain": [
       "[55, 56]"
      ]
     },
     "execution_count": 360,
     "metadata": {},
     "output_type": "execute_result"
    }
   ],
   "source": [
    "categories[:-2][-30:][14:16]"
   ]
  },
  {
   "cell_type": "code",
   "execution_count": 392,
   "metadata": {},
   "outputs": [
    {
     "data": {
      "text/plain": [
       "[44, 45, 46, 47, 48, 49, 50, 51, 52, 53]"
      ]
     },
     "execution_count": 392,
     "metadata": {},
     "output_type": "execute_result"
    }
   ],
   "source": [
    "categories[-10:]"
   ]
  },
  {
   "cell_type": "code",
   "execution_count": 262,
   "metadata": {},
   "outputs": [
    {
     "name": "stdout",
     "output_type": "stream",
     "text": [
      "Counter({nan: 767, \"Father's day\": 2})\n",
      "Counter({nan: 706, 'MemorialDay': 3, 'NBAFinalsStart': 3, 'NBAFinalsEnd': 3, 'Ramadan starts': 3, 'IndependenceDay': 2, 'Eid al-Fitr': 2, 'LaborDay': 2, 'EidAlAdha': 2, 'ColumbusDay': 2, 'Halloween': 2, 'VeteransDay': 2, 'Thanksgiving': 2, 'Chanukah End': 2, 'Christmas': 2, 'NewYear': 2, 'OrthodoxChristmas': 2, 'MartinLutherKingDay': 2, 'SuperBowl': 2, 'ValentinesDay': 2, 'PresidentsDay': 2, 'LentStart': 2, 'LentWeek2': 2, 'Purim End': 2, 'StPatricksDay': 2, 'Easter': 2, 'Pesach End': 2, 'OrthodoxEaster': 2, 'Cinco De Mayo': 2, \"Mother's day\": 2, \"Father's day\": 1})\n"
     ]
    }
   ],
   "source": [
    "print(Counter(list(m5.calendar.iloc[1200:][m5.calendar[\"event_name_2\"]] )))\n",
    "print(Counter(list(m5.calendar.iloc[1200:][\"event_name_1\"])))"
   ]
  },
  {
   "cell_type": "markdown",
   "metadata": {},
   "source": [
    "First thing - add in special days\n",
    "\n",
    "Try running models - both symmetric and aysmetric (symmetric scored .606, fixed mothers day error but now underpredicts heavily on the portion after mothers day, this could be fixed with assymetric loss)\n",
    "\n",
    "add in unique item identifier (as well as max_bin by node)\n",
    "\n",
    "try running models - both symmetric and asymmetric"
   ]
  },
  {
   "cell_type": "code",
   "execution_count": 244,
   "metadata": {},
   "outputs": [
    {
     "data": {
      "text/plain": [
       "0.6016827523199795"
      ]
     },
     "execution_count": 244,
     "metadata": {},
     "output_type": "execute_result"
    }
   ],
   "source": [
    "m5.WRMSSE(np.concatenate((predictions[:,:13], bestModel[:,13:14], predictions[:,14:]),axis = 1)).getTotalLoss()"
   ]
  },
  {
   "cell_type": "code",
   "execution_count": 489,
   "metadata": {},
   "outputs": [
    {
     "data": {
      "text/plain": [
       "array([[ 528.,  489.,  409., ...,  471.,  621.,  641.],\n",
       "       [  28.,    9.,    6., ...,   56.,   49.,   73.],\n",
       "       [ 361.,  350.,  279., ...,  695.,  933., 1022.],\n",
       "       ...,\n",
       "       [ 152.,  138.,  127., ...,  261.,  324.,  317.],\n",
       "       [ 583.,  585.,  575., ...,  507.,  505.,  557.],\n",
       "       [2293., 2383., 1841., ..., 1897., 2411., 2233.]])"
      ]
     },
     "execution_count": 489,
     "metadata": {},
     "output_type": "execute_result"
    }
   ],
   "source": [
    "m5.transformer[9](all_data)"
   ]
  },
  {
   "cell_type": "markdown",
   "metadata": {},
   "source": [
    "## Training a pre-trained Model (Level 9 + 12 Gradient) with Level 6 Loss"
   ]
  },
  {
   "cell_type": "code",
   "execution_count": 745,
   "metadata": {},
   "outputs": [
    {
     "data": {
      "text/plain": [
       "31"
      ]
     },
     "execution_count": 745,
     "metadata": {},
     "output_type": "execute_result"
    }
   ],
   "source": [
    "len(l8_idxs)"
   ]
  },
  {
   "cell_type": "code",
   "execution_count": 907,
   "metadata": {},
   "outputs": [
    {
     "data": {
      "text/plain": [
       "[1, 2, 2, 3]"
      ]
     },
     "execution_count": 907,
     "metadata": {},
     "output_type": "execute_result"
    }
   ],
   "source": [
    "[1,2] + [2,3]"
   ]
  },
  {
   "cell_type": "code",
   "execution_count": 850,
   "metadata": {},
   "outputs": [],
   "source": [
    "hello = np.array([6,5,3,2])\n",
    "def arr(hello):\n",
    "    hello[0] = 5"
   ]
  },
  {
   "cell_type": "code",
   "execution_count": 852,
   "metadata": {},
   "outputs": [
    {
     "data": {
      "text/plain": [
       "array([5, 5, 3, 2])"
      ]
     },
     "execution_count": 852,
     "metadata": {},
     "output_type": "execute_result"
    }
   ],
   "source": [
    "hello"
   ]
  },
  {
   "cell_type": "code",
   "execution_count": 740,
   "metadata": {},
   "outputs": [
    {
     "data": {
      "text/plain": [
       "array([ -8., -12., -16., ...,  -8., -12., -16.])"
      ]
     },
     "execution_count": 740,
     "metadata": {},
     "output_type": "execute_result"
    }
   ],
   "source": [
    "level1MSE(np.array([[1, 2, 3], [3, 4, 5]]), 3)[0]"
   ]
  },
  {
   "cell_type": "code",
   "execution_count": 742,
   "metadata": {},
   "outputs": [
    {
     "data": {
      "text/plain": [
       "(array([-0. , -9.2,  2. ]), array([2.3, 2.3, 2. ]))"
      ]
     },
     "execution_count": 742,
     "metadata": {},
     "output_type": "execute_result"
    }
   ],
   "source": [
    "custom_asymmetric_train(np.array([6,1,4]), np.array([6,5,3]))"
   ]
  },
  {
   "cell_type": "code",
   "execution_count": 816,
   "metadata": {},
   "outputs": [
    {
     "name": "stdout",
     "output_type": "stream",
     "text": [
      "CPU times: user 3.23 ms, sys: 412 µs, total: 3.64 ms\n",
      "Wall time: 3.13 ms\n"
     ]
    }
   ],
   "source": [
    "%%time\n",
    "for idx, (a, b) in enumerate(zip(np.random.rand(10000),np.random.rand(10000))):\n",
    "    pass"
   ]
  },
  {
   "cell_type": "code",
   "execution_count": 815,
   "metadata": {},
   "outputs": [
    {
     "name": "stdout",
     "output_type": "stream",
     "text": [
      "CPU times: user 3.86 ms, sys: 198 µs, total: 4.06 ms\n",
      "Wall time: 3.76 ms\n"
     ]
    }
   ],
   "source": [
    "%%time\n",
    "temp_count = 0 \n",
    "for a, b, c in zip(np.zeros(10000),np.random.rand(10000),np.random.rand(10000)):\n",
    "    # print(a,b,c)\n",
    "    pass"
   ]
  },
  {
   "cell_type": "code",
   "execution_count": 819,
   "metadata": {},
   "outputs": [
    {
     "data": {
      "text/plain": [
       "array([1, 2, 3, 1, 2, 3, 5, 6, 7, 5, 6, 7, 5, 6, 7])"
      ]
     },
     "execution_count": 819,
     "metadata": {},
     "output_type": "execute_result"
    }
   ],
   "source": [
    "np.concatenate((np.tile([1,2,3], 2), np.tile([5,6,7], 3)))"
   ]
  },
  {
   "cell_type": "code",
   "execution_count": 830,
   "metadata": {},
   "outputs": [
    {
     "data": {
      "text/plain": [
       "[4160, 1490, 5320, 5150, 2160, 3980, 8230]"
      ]
     },
     "execution_count": 830,
     "metadata": {},
     "output_type": "execute_result"
    }
   ],
   "source": []
  },
  {
   "cell_type": "code",
   "execution_count": 829,
   "metadata": {},
   "outputs": [
    {
     "data": {
      "text/plain": [
       "array([2, 1])"
      ]
     },
     "execution_count": 829,
     "metadata": {},
     "output_type": "execute_result"
    }
   ],
   "source": [
    "np.concatenate((np.array([2]), np.array([1])))"
   ]
  },
  {
   "cell_type": "code",
   "execution_count": 849,
   "metadata": {},
   "outputs": [
    {
     "data": {
      "text/plain": [
       "id          FOODS_1_001_CA_1_validation\n",
       "item_id                     FOODS_1_001\n",
       "dept_id                         FOODS_1\n",
       "cat_id                            FOODS\n",
       "store_id                           CA_1\n",
       "                       ...             \n",
       "d_1909                                1\n",
       "d_1910                                0\n",
       "d_1911                                1\n",
       "d_1912                                1\n",
       "d_1913                                0\n",
       "Name: 1612, Length: 1919, dtype: object"
      ]
     },
     "execution_count": 849,
     "metadata": {},
     "output_type": "execute_result"
    }
   ],
   "source": [
    "df.iloc[1612]"
   ]
  },
  {
   "cell_type": "code",
   "execution_count": 836,
   "metadata": {},
   "outputs": [
    {
     "data": {
      "text/plain": [
       "[31, 32, 33, 34, 35, 36, 37, 38, 39, 40, 41, 42, 43]"
      ]
     },
     "execution_count": 836,
     "metadata": {},
     "output_type": "execute_result"
    }
   ],
   "source": [
    "categories"
   ]
  },
  {
   "cell_type": "code",
   "execution_count": 848,
   "metadata": {},
   "outputs": [
    {
     "name": "stdout",
     "output_type": "stream",
     "text": [
      "CPU times: user 3 µs, sys: 0 ns, total: 3 µs\n",
      "Wall time: 5.96 µs\n"
     ]
    },
    {
     "data": {
      "text/plain": [
       "[0, 416, 565, 1097, 1612, 1828, 2226, 594503503]"
      ]
     },
     "execution_count": 848,
     "metadata": {},
     "output_type": "execute_result"
    }
   ],
   "source": [
    "%%time\n",
    "dept_idxs + [594503503]"
   ]
  },
  {
   "cell_type": "code",
   "execution_count": 842,
   "metadata": {},
   "outputs": [
    {
     "data": {
      "text/plain": [
       "4"
      ]
     },
     "execution_count": 842,
     "metadata": {},
     "output_type": "execute_result"
    }
   ],
   "source": [
    "2+2"
   ]
  },
  {
   "cell_type": "code",
   "execution_count": 123,
   "metadata": {},
   "outputs": [
    {
     "name": "stdout",
     "output_type": "stream",
     "text": [
      "(array([100,   2,   3,   4]), 5)\n"
     ]
    }
   ],
   "source": [
    "test_arr = np.array([1,2,3,4])\n",
    "test_tuple = test_arr, 5\n",
    "test_arr[0] = 100\n",
    "print(test_tuple)"
   ]
  },
  {
   "cell_type": "code",
   "execution_count": null,
   "metadata": {},
   "outputs": [],
   "source": []
  }
 ],
 "metadata": {
  "kernelspec": {
   "display_name": "Python 3",
   "language": "python",
   "name": "python3"
  },
  "language_info": {
   "codemirror_mode": {
    "name": "ipython",
    "version": 3
   },
   "file_extension": ".py",
   "mimetype": "text/x-python",
   "name": "python",
   "nbconvert_exporter": "python",
   "pygments_lexer": "ipython3",
   "version": "3.7.3"
  }
 },
 "nbformat": 4,
 "nbformat_minor": 4
}
